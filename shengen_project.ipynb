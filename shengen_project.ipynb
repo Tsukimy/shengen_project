{
 "cells": [
  {
   "cell_type": "markdown",
   "metadata": {},
   "source": [
    "EN: This project represents data statistics and answers for the questions below about schengen visas: applies, issued and not issued visas depending on which country recieve applies and which country sends them. The original source of the data is https://www.kaggle.com/ma7555/schengen-visa-stats#2017-data-for-consulates.csv\n",
    "\n",
    "RU: Этот проект представляет собой сбор данных и ответы на вопросы, связанные с шенгенскими визами: заявки, выдачи, невыдачи в зависимости от страны, в которую идут заявки и из какой страны. \n",
    "Данные взяты с https://www.kaggle.com/ma7555/schengen-visa-stats#2017-data-for-consulates.csv"
   ]
  },
  {
   "cell_type": "code",
   "execution_count": 1,
   "metadata": {},
   "outputs": [],
   "source": [
    "import numpy as np\n",
    "import pandas as pd\n",
    "# pip install seaborn \n",
    "import seaborn as sns\n",
    "import matplotlib.pyplot as plt"
   ]
  },
  {
   "cell_type": "code",
   "execution_count": 2,
   "metadata": {},
   "outputs": [],
   "source": [
    "PATH = 'C:/Users/Anastasiia Murashova/Documents/2018-data-for-consulates.csv'"
   ]
  },
  {
   "cell_type": "markdown",
   "metadata": {},
   "source": [
    "EN: The overall view of original data\n",
    "\n",
    "RU: Общий вид исходных данных"
   ]
  },
  {
   "cell_type": "code",
   "execution_count": 3,
   "metadata": {},
   "outputs": [
    {
     "data": {
      "text/html": [
       "<div>\n",
       "<style scoped>\n",
       "    .dataframe tbody tr th:only-of-type {\n",
       "        vertical-align: middle;\n",
       "    }\n",
       "\n",
       "    .dataframe tbody tr th {\n",
       "        vertical-align: top;\n",
       "    }\n",
       "\n",
       "    .dataframe thead th {\n",
       "        text-align: right;\n",
       "    }\n",
       "</style>\n",
       "<table border=\"1\" class=\"dataframe\">\n",
       "  <thead>\n",
       "    <tr style=\"text-align: right;\">\n",
       "      <th></th>\n",
       "      <th>Schengen State</th>\n",
       "      <th>Country where consulate is located</th>\n",
       "      <th>Consulate</th>\n",
       "      <th>Airport transit visas (ATVs) applied for</th>\n",
       "      <th>ATVs issued (including multiple)</th>\n",
       "      <th>Multiple ATVs issued</th>\n",
       "      <th>ATVs not issued</th>\n",
       "      <th>Not issued rate for ATVs</th>\n",
       "      <th>Uniform visas applied for</th>\n",
       "      <th>Total  uniform visas issued (including MEV)</th>\n",
       "      <th>Multiple entry uniform visas (MEVs) issued</th>\n",
       "      <th>Share of MEVs on total number of uniform visas issued</th>\n",
       "      <th>Total LTVs issued</th>\n",
       "      <th>Uniform visas not issued</th>\n",
       "      <th>Not issued rate for uniform visas</th>\n",
       "      <th>Total ATVs and uniform visas applied for</th>\n",
       "      <th>Total ATVs and uniform visas issued  (including multiple ATVs, MEVs and LTVs)</th>\n",
       "      <th>Total ATVs and uniform visas not issued</th>\n",
       "      <th>Not issued rate for ATVs and uniform visas</th>\n",
       "    </tr>\n",
       "  </thead>\n",
       "  <tbody>\n",
       "    <tr>\n",
       "      <th>0</th>\n",
       "      <td>Austria</td>\n",
       "      <td>ALBANIA</td>\n",
       "      <td>TIRANA</td>\n",
       "      <td>NaN</td>\n",
       "      <td>NaN</td>\n",
       "      <td>NaN</td>\n",
       "      <td>NaN</td>\n",
       "      <td>NaN</td>\n",
       "      <td>62</td>\n",
       "      <td>32</td>\n",
       "      <td>10</td>\n",
       "      <td>31.3%</td>\n",
       "      <td>21</td>\n",
       "      <td>9</td>\n",
       "      <td>14.5%</td>\n",
       "      <td>62</td>\n",
       "      <td>53</td>\n",
       "      <td>9</td>\n",
       "      <td>14.5%</td>\n",
       "    </tr>\n",
       "    <tr>\n",
       "      <th>1</th>\n",
       "      <td>Austria</td>\n",
       "      <td>ALGERIA</td>\n",
       "      <td>ALGIERS</td>\n",
       "      <td>NaN</td>\n",
       "      <td>NaN</td>\n",
       "      <td>NaN</td>\n",
       "      <td>NaN</td>\n",
       "      <td>NaN</td>\n",
       "      <td>2481</td>\n",
       "      <td>1658</td>\n",
       "      <td>1461</td>\n",
       "      <td>88.1%</td>\n",
       "      <td>1</td>\n",
       "      <td>822</td>\n",
       "      <td>33.1%</td>\n",
       "      <td>2,481</td>\n",
       "      <td>1,659</td>\n",
       "      <td>822</td>\n",
       "      <td>33.1%</td>\n",
       "    </tr>\n",
       "    <tr>\n",
       "      <th>2</th>\n",
       "      <td>Austria</td>\n",
       "      <td>ARGENTINA</td>\n",
       "      <td>BUENOS AIRES</td>\n",
       "      <td>NaN</td>\n",
       "      <td>NaN</td>\n",
       "      <td>NaN</td>\n",
       "      <td>NaN</td>\n",
       "      <td>NaN</td>\n",
       "      <td>16</td>\n",
       "      <td>16</td>\n",
       "      <td>16</td>\n",
       "      <td>100.0%</td>\n",
       "      <td>NaN</td>\n",
       "      <td>NaN</td>\n",
       "      <td>NaN</td>\n",
       "      <td>16</td>\n",
       "      <td>16</td>\n",
       "      <td>NaN</td>\n",
       "      <td>NaN</td>\n",
       "    </tr>\n",
       "    <tr>\n",
       "      <th>3</th>\n",
       "      <td>Austria</td>\n",
       "      <td>AUSTRALIA</td>\n",
       "      <td>CANBERRA</td>\n",
       "      <td>NaN</td>\n",
       "      <td>NaN</td>\n",
       "      <td>NaN</td>\n",
       "      <td>NaN</td>\n",
       "      <td>NaN</td>\n",
       "      <td>2776</td>\n",
       "      <td>2653</td>\n",
       "      <td>989</td>\n",
       "      <td>37.3%</td>\n",
       "      <td>1</td>\n",
       "      <td>122</td>\n",
       "      <td>4.4%</td>\n",
       "      <td>2,776</td>\n",
       "      <td>2,654</td>\n",
       "      <td>122</td>\n",
       "      <td>4.4%</td>\n",
       "    </tr>\n",
       "    <tr>\n",
       "      <th>4</th>\n",
       "      <td>Austria</td>\n",
       "      <td>AZERBAIJAN</td>\n",
       "      <td>BAKU</td>\n",
       "      <td>1</td>\n",
       "      <td>1</td>\n",
       "      <td>1</td>\n",
       "      <td>NaN</td>\n",
       "      <td>NaN</td>\n",
       "      <td>1976</td>\n",
       "      <td>1895</td>\n",
       "      <td>1769</td>\n",
       "      <td>93.4%</td>\n",
       "      <td>2</td>\n",
       "      <td>79</td>\n",
       "      <td>4.0%</td>\n",
       "      <td>1,977</td>\n",
       "      <td>1,898</td>\n",
       "      <td>79</td>\n",
       "      <td>4.0%</td>\n",
       "    </tr>\n",
       "  </tbody>\n",
       "</table>\n",
       "</div>"
      ],
      "text/plain": [
       "  Schengen State Country where consulate is located     Consulate  \\\n",
       "0        Austria                            ALBANIA        TIRANA   \n",
       "1        Austria                            ALGERIA       ALGIERS   \n",
       "2        Austria                          ARGENTINA  BUENOS AIRES   \n",
       "3        Austria                          AUSTRALIA      CANBERRA   \n",
       "4        Austria                         AZERBAIJAN          BAKU   \n",
       "\n",
       "  Airport transit visas (ATVs) applied for   ATVs issued (including multiple)  \\\n",
       "0                                       NaN                               NaN   \n",
       "1                                       NaN                               NaN   \n",
       "2                                       NaN                               NaN   \n",
       "3                                       NaN                               NaN   \n",
       "4                                         1                                 1   \n",
       "\n",
       "  Multiple ATVs issued ATVs not issued  Not issued rate for ATVs  \\\n",
       "0                  NaN              NaN                      NaN   \n",
       "1                  NaN              NaN                      NaN   \n",
       "2                  NaN              NaN                      NaN   \n",
       "3                  NaN              NaN                      NaN   \n",
       "4                    1              NaN                      NaN   \n",
       "\n",
       "  Uniform visas applied for Total  uniform visas issued (including MEV) \\n  \\\n",
       "0                        62                                             32   \n",
       "1                      2481                                           1658   \n",
       "2                        16                                             16   \n",
       "3                      2776                                           2653   \n",
       "4                      1976                                           1895   \n",
       "\n",
       "  Multiple entry uniform visas (MEVs) issued  \\\n",
       "0                                         10   \n",
       "1                                       1461   \n",
       "2                                         16   \n",
       "3                                        989   \n",
       "4                                       1769   \n",
       "\n",
       "  Share of MEVs on total number of uniform visas issued Total LTVs issued  \\\n",
       "0                                              31.3%                   21   \n",
       "1                                              88.1%                    1   \n",
       "2                                             100.0%                  NaN   \n",
       "3                                              37.3%                    1   \n",
       "4                                              93.4%                    2   \n",
       "\n",
       "  Uniform visas not issued Not issued rate for uniform visas  \\\n",
       "0                        9                             14.5%   \n",
       "1                      822                             33.1%   \n",
       "2                      NaN                               NaN   \n",
       "3                      122                              4.4%   \n",
       "4                       79                              4.0%   \n",
       "\n",
       "  Total ATVs and uniform visas applied for  \\\n",
       "0                                       62   \n",
       "1                                    2,481   \n",
       "2                                       16   \n",
       "3                                    2,776   \n",
       "4                                    1,977   \n",
       "\n",
       "  Total ATVs and uniform visas issued  (including multiple ATVs, MEVs and LTVs)   \\\n",
       "0                                                 53                               \n",
       "1                                              1,659                               \n",
       "2                                                 16                               \n",
       "3                                              2,654                               \n",
       "4                                              1,898                               \n",
       "\n",
       "  Total ATVs and uniform visas not issued  \\\n",
       "0                                       9   \n",
       "1                                     822   \n",
       "2                                     NaN   \n",
       "3                                     122   \n",
       "4                                      79   \n",
       "\n",
       "  Not issued rate for ATVs and uniform visas   \n",
       "0                                       14.5%  \n",
       "1                                       33.1%  \n",
       "2                                         NaN  \n",
       "3                                        4.4%  \n",
       "4                                        4.0%  "
      ]
     },
     "execution_count": 3,
     "metadata": {},
     "output_type": "execute_result"
    }
   ],
   "source": [
    "data = pd.read_csv(PATH)\n",
    "data.head(5)"
   ]
  },
  {
   "cell_type": "markdown",
   "metadata": {},
   "source": [
    "EN: Questions for research:\n",
    "1. Which types of visas (ATV, MEV, LTV) were given and how much\n",
    "2. How much applies for transfer visas were from customers comparing to all applies for visas \n",
    "3. Chances for getting LTV or better quality of visa \n",
    "4. Which consulates in every country are more generous than others?\n",
    "5. Which consulates are more strict that others?\n",
    "6. Which schengen states are more generous in general? \n",
    "7. Which schengen states are more strict than others?\n",
    "8. Generousity and severity rate of consulates in Russia\n",
    "\n",
    "RU: Вопросы для исследования:\n",
    "1. Какие типы виз (ATV, MEV, LTV) были выданы и сколько?\n",
    "2. Сколько заявок на трансферные визы было подано в сравнении со всеми заявками ?\n",
    "3. Шансы получить визу, ограниченую по сроку действия или более выгодную?\n",
    "4. Какие консульства в каждой стране наиболее щедры?\n",
    "5. Какое консульства наиболее строгие?\n",
    "6. Какие страны Шенгена наиболее гостеприиимные?\n",
    "7. Какие страны Шенгена наиболее строгие?\n",
    "8. Рейтинг щедрости и строгости консульств в России"
   ]
  },
  {
   "cell_type": "code",
   "execution_count": 4,
   "metadata": {},
   "outputs": [
    {
     "name": "stdout",
     "output_type": "stream",
     "text": [
      "Index(['Schengen State', 'Country where consulate is located', 'Consulate',\n",
      "       'Airport transit visas (ATVs) applied for ',\n",
      "       ' ATVs issued (including multiple)', 'Multiple ATVs issued',\n",
      "       'ATVs not issued ', 'Not issued rate for ATVs',\n",
      "       'Uniform visas applied for',\n",
      "       'Total  uniform visas issued (including MEV) \\n',\n",
      "       'Multiple entry uniform visas (MEVs) issued',\n",
      "       'Share of MEVs on total number of uniform visas issued',\n",
      "       'Total LTVs issued', 'Uniform visas not issued',\n",
      "       'Not issued rate for uniform visas',\n",
      "       'Total ATVs and uniform visas applied for',\n",
      "       'Total ATVs and uniform visas issued  (including multiple ATVs, MEVs and LTVs) ',\n",
      "       'Total ATVs and uniform visas not issued',\n",
      "       'Not issued rate for ATVs and uniform visas '],\n",
      "      dtype='object')\n"
     ]
    }
   ],
   "source": [
    "print(data.columns)"
   ]
  },
  {
   "cell_type": "markdown",
   "metadata": {},
   "source": [
    "RU: Названия колонок:\n",
    "\n",
    "Заявки на транзитные визы в аэропорту (ATV), \n",
    "Выпущенные транзитные визы (включая многократные), \n",
    "Выпущены многократные транзитные визы, \n",
    "Многократные транзитные визы не выпущены, \n",
    "Рейтинг не выданных многократных транзитные визы, \n",
    "Подачи на единые визы, \n",
    "Всего выдано единых виз (включая MEV),\n",
    "Выданы многократные въездные визы (MEV),\n",
    "Доля MEVs в общем количестве выданных единых виз,\n",
    "Всего выпущено ограниченные виз (LTV),\n",
    "Единые визы не выданы,\n",
    "Рейтинг не выпущенных единых виз,\n",
    "Общее количество подач на транзитные и единые визы,\n",
    "Всего выдано ATV и единых виз (включая несколько ATV, MEV и LTV),\n",
    "Всего транзитных и единых виз не выдано,\n",
    "Рейтинг не выпущенных тариф на транзитные и единые визы"
   ]
  },
  {
   "cell_type": "markdown",
   "metadata": {},
   "source": [
    "1. Which types of visas (ATV, MEV, LTV) were given and how much\n",
    "\n",
    "EN: This dataframe gives us summury about which types of visas and how much were applied and given in 2018 in the world\n",
    "\n",
    "RU: Суммарные данные по заявкам и выдачам-невыдачам виз"
   ]
  },
  {
   "cell_type": "code",
   "execution_count": 5,
   "metadata": {},
   "outputs": [
    {
     "data": {
      "text/html": [
       "<div>\n",
       "<style scoped>\n",
       "    .dataframe tbody tr th:only-of-type {\n",
       "        vertical-align: middle;\n",
       "    }\n",
       "\n",
       "    .dataframe tbody tr th {\n",
       "        vertical-align: top;\n",
       "    }\n",
       "\n",
       "    .dataframe thead th {\n",
       "        text-align: right;\n",
       "    }\n",
       "</style>\n",
       "<table border=\"1\" class=\"dataframe\">\n",
       "  <thead>\n",
       "    <tr style=\"text-align: right;\">\n",
       "      <th></th>\n",
       "      <th>Airport transit visas (ATVs) applied for</th>\n",
       "      <th>ATVs issued (including multiple)</th>\n",
       "      <th>Multiple ATVs issued</th>\n",
       "      <th>ATVs not issued</th>\n",
       "      <th>Not issued rate for ATVs</th>\n",
       "      <th>Uniform visas applied for</th>\n",
       "      <th>Total  uniform visas issued (including MEV)</th>\n",
       "      <th>Multiple entry uniform visas (MEVs) issued</th>\n",
       "      <th>Share of MEVs on total number of uniform visas issued</th>\n",
       "      <th>Total LTVs issued</th>\n",
       "      <th>Uniform visas not issued</th>\n",
       "      <th>Not issued rate for uniform visas</th>\n",
       "      <th>Total ATVs and uniform visas applied for</th>\n",
       "      <th>Total ATVs and uniform visas issued  (including multiple ATVs, MEVs and LTVs)</th>\n",
       "      <th>Total ATVs and uniform visas not issued</th>\n",
       "      <th>Not issued rate for ATVs and uniform visas</th>\n",
       "    </tr>\n",
       "  </thead>\n",
       "  <tbody>\n",
       "    <tr>\n",
       "      <th>Selection Sub total in 2018</th>\n",
       "      <td>5,313</td>\n",
       "      <td>4,277</td>\n",
       "      <td>1,553</td>\n",
       "      <td>767</td>\n",
       "      <td>14.4%</td>\n",
       "      <td>16,016,599</td>\n",
       "      <td>14,265,282</td>\n",
       "      <td>8,325,850</td>\n",
       "      <td>58.4%</td>\n",
       "      <td>113,687</td>\n",
       "      <td>1,539,362</td>\n",
       "      <td>9.6%</td>\n",
       "      <td>16,021,912</td>\n",
       "      <td>14,383,246</td>\n",
       "      <td>1,540,129</td>\n",
       "      <td>9.6%</td>\n",
       "    </tr>\n",
       "    <tr>\n",
       "      <th>Total worldwide 2018</th>\n",
       "      <td>5,313</td>\n",
       "      <td>4,277</td>\n",
       "      <td>1,553</td>\n",
       "      <td>767</td>\n",
       "      <td>14.4%</td>\n",
       "      <td>16,016,599</td>\n",
       "      <td>14,265,282</td>\n",
       "      <td>8,325,850</td>\n",
       "      <td>58.4%</td>\n",
       "      <td>113,687</td>\n",
       "      <td>1,539,362</td>\n",
       "      <td>9.6%</td>\n",
       "      <td>16,021,912</td>\n",
       "      <td>14,383,246</td>\n",
       "      <td>1,540,129</td>\n",
       "      <td>9.6%</td>\n",
       "    </tr>\n",
       "    <tr>\n",
       "      <th>Share of subtotal on worldwide total</th>\n",
       "      <td>100%</td>\n",
       "      <td>100%</td>\n",
       "      <td>100%</td>\n",
       "      <td>100%</td>\n",
       "      <td>NaN</td>\n",
       "      <td>100%</td>\n",
       "      <td>100%</td>\n",
       "      <td>100%</td>\n",
       "      <td>NaN</td>\n",
       "      <td>100%</td>\n",
       "      <td>100%</td>\n",
       "      <td>NaN</td>\n",
       "      <td>100%</td>\n",
       "      <td>100%</td>\n",
       "      <td>100%</td>\n",
       "      <td>NaN</td>\n",
       "    </tr>\n",
       "  </tbody>\n",
       "</table>\n",
       "</div>"
      ],
      "text/plain": [
       "                                     Airport transit visas (ATVs) applied for   \\\n",
       "Selection Sub total in 2018                                             5,313    \n",
       "Total worldwide 2018                                                     5,313   \n",
       "Share of subtotal on worldwide total                                      100%   \n",
       "\n",
       "                                      ATVs issued (including multiple)  \\\n",
       "Selection Sub total in 2018                                     4,277    \n",
       "Total worldwide 2018                                             4,277   \n",
       "Share of subtotal on worldwide total                              100%   \n",
       "\n",
       "                                     Multiple ATVs issued ATVs not issued   \\\n",
       "Selection Sub total in 2018                        1,553              767    \n",
       "Total worldwide 2018                                1,553              767   \n",
       "Share of subtotal on worldwide total                 100%             100%   \n",
       "\n",
       "                                     Not issued rate for ATVs  \\\n",
       "Selection Sub total in 2018                             14.4%   \n",
       "Total worldwide 2018                                    14.4%   \n",
       "Share of subtotal on worldwide total                      NaN   \n",
       "\n",
       "                                     Uniform visas applied for  \\\n",
       "Selection Sub total in 2018                        16,016,599    \n",
       "Total worldwide 2018                                16,016,599   \n",
       "Share of subtotal on worldwide total                      100%   \n",
       "\n",
       "                                     Total  uniform visas issued (including MEV) \\n  \\\n",
       "Selection Sub total in 2018                                             14,265,282    \n",
       "Total worldwide 2018                                                     14,265,282   \n",
       "Share of subtotal on worldwide total                                           100%   \n",
       "\n",
       "                                     Multiple entry uniform visas (MEVs) issued  \\\n",
       "Selection Sub total in 2018                                          8,325,850    \n",
       "Total worldwide 2018                                                  8,325,850   \n",
       "Share of subtotal on worldwide total                                       100%   \n",
       "\n",
       "                                     Share of MEVs on total number of uniform visas issued  \\\n",
       "Selection Sub total in 2018                                                       58.4%      \n",
       "Total worldwide 2018                                                              58.4%      \n",
       "Share of subtotal on worldwide total                                                NaN      \n",
       "\n",
       "                                     Total LTVs issued  \\\n",
       "Selection Sub total in 2018                   113,687    \n",
       "Total worldwide 2018                           113,687   \n",
       "Share of subtotal on worldwide total              100%   \n",
       "\n",
       "                                     Uniform visas not issued  \\\n",
       "Selection Sub total in 2018                        1,539,362    \n",
       "Total worldwide 2018                                1,539,362   \n",
       "Share of subtotal on worldwide total                     100%   \n",
       "\n",
       "                                     Not issued rate for uniform visas  \\\n",
       "Selection Sub total in 2018                                       9.6%   \n",
       "Total worldwide 2018                                              9.6%   \n",
       "Share of subtotal on worldwide total                               NaN   \n",
       "\n",
       "                                     Total ATVs and uniform visas applied for  \\\n",
       "Selection Sub total in 2018                                       16,021,912    \n",
       "Total worldwide 2018                                               16,021,912   \n",
       "Share of subtotal on worldwide total                                     100%   \n",
       "\n",
       "                                     Total ATVs and uniform visas issued  (including multiple ATVs, MEVs and LTVs)   \\\n",
       "Selection Sub total in 2018                                                 14,383,246                                \n",
       "Total worldwide 2018                                                         14,383,246                               \n",
       "Share of subtotal on worldwide total                                               100%                               \n",
       "\n",
       "                                     Total ATVs and uniform visas not issued  \\\n",
       "Selection Sub total in 2018                                       1,540,129    \n",
       "Total worldwide 2018                                               1,540,129   \n",
       "Share of subtotal on worldwide total                                    100%   \n",
       "\n",
       "                                     Not issued rate for ATVs and uniform visas   \n",
       "Selection Sub total in 2018                                                 9.6%  \n",
       "Total worldwide 2018                                                        9.6%  \n",
       "Share of subtotal on worldwide total                                         NaN  "
      ]
     },
     "execution_count": 5,
     "metadata": {},
     "output_type": "execute_result"
    }
   ],
   "source": [
    "total_data = data.iloc[1904:1907, 3:19]\n",
    "total_data.rename(index={1904:'Selection Sub total in 2018',1905:'Total worldwide 2018',1906:'Share of subtotal on worldwide total'}, inplace=True)\n",
    "total_data"
   ]
  },
  {
   "cell_type": "markdown",
   "metadata": {},
   "source": [
    "2. How much applies for transfer visas were from customers comparing to all applies for visas "
   ]
  },
  {
   "cell_type": "code",
   "execution_count": 6,
   "metadata": {},
   "outputs": [
    {
     "name": "stdout",
     "output_type": "stream",
     "text": [
      "Share of ATV applies is 0.03 %\n"
     ]
    }
   ],
   "source": [
    "total_data['Numeric global ATV applies'] = total_data['Airport transit visas (ATVs) applied for ']\\\n",
    "    .iloc[:2].apply(lambda s: int(s.replace(',', '')))\n",
    "total_data['Numeric global applies'] = total_data['Total ATVs and uniform visas applied for']\\\n",
    "    .iloc[:2].apply(lambda s: int(s.replace(',', '')))\n",
    "\n",
    "global_atv_applies = total_data['Numeric global ATV applies'].iloc[:1].sum()\n",
    "global_applies = total_data['Numeric global applies'].iloc[:1].sum()\n",
    "print(\"Share of ATV applies is\", round(((global_atv_applies/global_applies)*100), 2), '%')"
   ]
  },
  {
   "cell_type": "markdown",
   "metadata": {},
   "source": [
    "3. Chances for getting LTV or better quality visa"
   ]
  },
  {
   "cell_type": "code",
   "execution_count": 7,
   "metadata": {},
   "outputs": [
    {
     "name": "stdout",
     "output_type": "stream",
     "text": [
      "Chances for getting LTV or better quality of visa 89.07 %\n"
     ]
    }
   ],
   "source": [
    "total_data['Numeric uniform visa issued'] = total_data['Total  uniform visas issued (including MEV) \\n']\\\n",
    "    .iloc[:2].dropna().apply(lambda s: int(s.replace(',', '')))\n",
    "total_data['Numeric uniform visa applies'] = total_data['Uniform visas applied for'].iloc[:2]\\\n",
    "    .dropna().apply(lambda s: int(s.replace(',', '')))\n",
    "\n",
    "issued_bq_visas = total_data['Numeric uniform visa issued'].iloc[:1].sum()\n",
    "applied_bq_visas = total_data['Numeric uniform visa applies'].iloc[:1].sum()\n",
    "print('Chances for getting LTV or better quality of visa', round(((issued_bq_visas/applied_bq_visas)*100), 2), '%')"
   ]
  },
  {
   "cell_type": "markdown",
   "metadata": {},
   "source": [
    "EN: Data preprocessing and filling or correcting missing values. \n",
    "\n",
    "RU: Обработка данных для заполнения пропущенных данных или их корректировки"
   ]
  },
  {
   "cell_type": "code",
   "execution_count": 8,
   "metadata": {},
   "outputs": [],
   "source": [
    "numeric_data = data.iloc[:1900, 0:3]\n",
    "numeric_data['Numeric applies'] = data['Total ATVs and uniform visas applied for']\\\n",
    "    .iloc[:1900].dropna().apply(lambda s: int(s.replace(',', '')))\n",
    "numeric_data['Numeric total issued visas'] = data['Total ATVs and uniform visas issued  (including multiple ATVs, MEVs and LTVs) ']\\\n",
    "    .iloc[:1900].dropna().apply(lambda s: int(s.replace(',', '')))\n",
    "numeric_data['Numeric not issued visas'] = data['Total ATVs and uniform visas not issued']\\\n",
    "    .iloc[:1900].dropna().apply(lambda s: int(s.replace(',', '')))"
   ]
  },
  {
   "cell_type": "code",
   "execution_count": 9,
   "metadata": {},
   "outputs": [],
   "source": [
    "numeric_data = numeric_data.fillna(0, axis = 0)"
   ]
  },
  {
   "cell_type": "code",
   "execution_count": 10,
   "metadata": {},
   "outputs": [],
   "source": [
    "numeric_data['Numeric applies'] = numeric_data[['Numeric applies', 'Numeric total issued visas', 'Numeric not issued visas']]\\\n",
    ".apply(lambda x: x['Numeric applies'] if x['Numeric total issued visas'] <= x['Numeric applies'] \\\n",
    "       else x['Numeric total issued visas']+x['Numeric not issued visas'], axis = 1)"
   ]
  },
  {
   "cell_type": "code",
   "execution_count": 11,
   "metadata": {},
   "outputs": [],
   "source": [
    "numeric_data['Numeric applies'] = numeric_data[['Numeric applies', 'Numeric total issued visas', 'Numeric not issued visas']]\\\n",
    ".apply(lambda x: x['Numeric applies'] if x['Numeric not issued visas'] <= x['Numeric applies'] \\\n",
    "       else x['Numeric total issued visas']+x['Numeric not issued visas'], axis = 1)"
   ]
  },
  {
   "cell_type": "code",
   "execution_count": 12,
   "metadata": {},
   "outputs": [],
   "source": [
    "numeric_data['Share of issued visas'] = numeric_data['Numeric total issued visas']/numeric_data['Numeric applies']"
   ]
  },
  {
   "cell_type": "code",
   "execution_count": 13,
   "metadata": {},
   "outputs": [],
   "source": [
    "numeric_data['Share of not issued visas'] = numeric_data['Numeric not issued visas']/numeric_data['Numeric applies']"
   ]
  },
  {
   "cell_type": "markdown",
   "metadata": {},
   "source": [
    "4. Which consulates in every country are more generous than others? "
   ]
  },
  {
   "cell_type": "code",
   "execution_count": 14,
   "metadata": {},
   "outputs": [
    {
     "data": {
      "text/plain": [
       "Consulate\n",
       "MOSCOW            2542131.0\n",
       "BEIJING           1058086.0\n",
       "SHANGHAI           923186.0\n",
       "ST. PETERSBURG     741242.0\n",
       "NEW DELHI          534188.0\n",
       "Name: Numeric total issued visas, dtype: float64"
      ]
     },
     "execution_count": 14,
     "metadata": {},
     "output_type": "execute_result"
    }
   ],
   "source": [
    "numeric_data.groupby(['Consulate'])['Numeric total issued visas'].sum().sort_values(ascending = False).head(5)"
   ]
  },
  {
   "cell_type": "code",
   "execution_count": 15,
   "metadata": {},
   "outputs": [
    {
     "data": {
      "text/plain": [
       "Consulate\n",
       "ZURICH                1.000000\n",
       "VICTORIA              1.000000\n",
       "ROSARIO (Santa Fé)    1.000000\n",
       "REYKJAVIK             1.000000\n",
       "SUBOTICA              1.000000\n",
       "LYON                  1.000000\n",
       "LUGANO                1.000000\n",
       "TALLINN               1.000000\n",
       "TAMPA, FL             1.000000\n",
       "JUBA                  1.000000\n",
       "SAN SALVADOR          1.000000\n",
       "GUADALAJARA           1.000000\n",
       "GJIROKASTER           1.000000\n",
       "CORDOBA               1.000000\n",
       "CLEVELAND, OH         1.000000\n",
       "VALETTA               1.000000\n",
       "HAMBURG               1.000000\n",
       "BARCELONA             1.000000\n",
       "AMSTERDAM             1.000000\n",
       "VILNIUS               1.000000\n",
       "BAHIA BLANCA          1.000000\n",
       "GRODNO                0.997340\n",
       "KAZAN                 0.997318\n",
       "BREST                 0.997160\n",
       "PSKOV                 0.996274\n",
       "Name: Share of issued visas, dtype: float64"
      ]
     },
     "execution_count": 15,
     "metadata": {},
     "output_type": "execute_result"
    }
   ],
   "source": [
    "numeric_data.groupby(['Consulate'])['Share of issued visas'].mean().sort_values(ascending = False).head(25)"
   ]
  },
  {
   "cell_type": "markdown",
   "metadata": {},
   "source": [
    "5. Which consulates are more strict that others?"
   ]
  },
  {
   "cell_type": "code",
   "execution_count": 16,
   "metadata": {},
   "outputs": [
    {
     "data": {
      "text/plain": [
       "Consulate\n",
       "ALGIERS      168882.0\n",
       "ORAN          89573.0\n",
       "TEHERAN       80435.0\n",
       "NEW DELHI     67324.0\n",
       "ANNABA        65836.0\n",
       "Name: Numeric not issued visas, dtype: float64"
      ]
     },
     "execution_count": 16,
     "metadata": {},
     "output_type": "execute_result"
    }
   ],
   "source": [
    "numeric_data.groupby(['Consulate'])['Numeric not issued visas'].sum().sort_values(ascending = False).head(5)"
   ]
  },
  {
   "cell_type": "code",
   "execution_count": 17,
   "metadata": {},
   "outputs": [
    {
     "data": {
      "text/plain": [
       "Consulate\n",
       "ALEPPO        1.000000\n",
       "LUBUMBASHI    0.867470\n",
       "VALENCIA      0.800000\n",
       "LAGOS         0.510325\n",
       "MONACO        0.500000\n",
       "Name: Share of not issued visas, dtype: float64"
      ]
     },
     "execution_count": 17,
     "metadata": {},
     "output_type": "execute_result"
    }
   ],
   "source": [
    "numeric_data.groupby(['Consulate'])['Share of not issued visas'].mean().sort_values(ascending = False).head()"
   ]
  },
  {
   "cell_type": "markdown",
   "metadata": {},
   "source": [
    "6. Which schengen states are more generous in general? "
   ]
  },
  {
   "cell_type": "code",
   "execution_count": 18,
   "metadata": {},
   "outputs": [
    {
     "data": {
      "text/plain": [
       "Schengen State\n",
       "Iceland           0.966720\n",
       "Slovakia          0.958992\n",
       "Estonia           0.913243\n",
       "Luxembourg        0.912931\n",
       "Austria           0.910866\n",
       "Italy             0.906366\n",
       "Latvia            0.904608\n",
       "Greece            0.901202\n",
       "Switzerland       0.901003\n",
       "Germany           0.900126\n",
       "Czech Republic    0.889202\n",
       "Slovenia          0.885820\n",
       "Lithuania         0.884841\n",
       "Poland            0.869614\n",
       "Finland           0.866860\n",
       "Portugal          0.858278\n",
       "Denmark           0.857376\n",
       "Spain             0.855763\n",
       "Malta             0.855260\n",
       "Norway            0.852251\n",
       "Hungary           0.849709\n",
       "France            0.837832\n",
       "Netherlands       0.797146\n",
       "Belgium           0.777907\n",
       "Sweden            0.551701\n",
       "Name: Share of issued visas, dtype: float64"
      ]
     },
     "execution_count": 18,
     "metadata": {},
     "output_type": "execute_result"
    }
   ],
   "source": [
    "numeric_data.groupby(['Schengen State'])['Share of issued visas'].mean().sort_values(ascending = False)"
   ]
  },
  {
   "cell_type": "markdown",
   "metadata": {},
   "source": [
    "7. Which schengen states are more strict than others?"
   ]
  },
  {
   "cell_type": "code",
   "execution_count": 19,
   "metadata": {},
   "outputs": [
    {
     "data": {
      "text/plain": [
       "Schengen State\n",
       "Belgium           0.165830\n",
       "Netherlands       0.155411\n",
       "Hungary           0.150291\n",
       "Norway            0.148258\n",
       "Portugal          0.141722\n",
       "France            0.134448\n",
       "Poland            0.130096\n",
       "Malta             0.124488\n",
       "Slovenia          0.114180\n",
       "Czech Republic    0.108563\n",
       "Finland           0.104637\n",
       "Sweden            0.104519\n",
       "Germany           0.099874\n",
       "Switzerland       0.098997\n",
       "Greece            0.098798\n",
       "Denmark           0.095986\n",
       "Spain             0.094561\n",
       "Italy             0.093634\n",
       "Austria           0.089134\n",
       "Estonia           0.086757\n",
       "Luxembourg        0.081355\n",
       "Latvia            0.081001\n",
       "Lithuania         0.077487\n",
       "Slovakia          0.041008\n",
       "Iceland           0.011538\n",
       "Name: Share of not issued visas, dtype: float64"
      ]
     },
     "execution_count": 19,
     "metadata": {},
     "output_type": "execute_result"
    }
   ],
   "source": [
    "numeric_data.groupby(['Schengen State'])['Share of not issued visas'].mean().sort_values(ascending = False)"
   ]
  },
  {
   "cell_type": "markdown",
   "metadata": {},
   "source": [
    "8. Generousity and severity rate of consulates in Russia"
   ]
  },
  {
   "cell_type": "code",
   "execution_count": 20,
   "metadata": {},
   "outputs": [
    {
     "data": {
      "text/plain": [
       "Consulate\n",
       "MOSCOW            2542131.0\n",
       "ST. PETERSBURG     741242.0\n",
       "KALININGRAD        134530.0\n",
       "YEKATERINBURG       60779.0\n",
       "NOVOSIBIRSK         35175.0\n",
       "PETROZAVODSK        32244.0\n",
       "NOVOROSSIISK        23996.0\n",
       "MURMANSK            22437.0\n",
       "PSKOV               19928.0\n",
       "SOVETSK             11996.0\n",
       "KAZAN                4091.0\n",
       "IRKUTSK              2621.0\n",
       "ROSTOV               1353.0\n",
       "Name: Numeric total issued visas, dtype: float64"
      ]
     },
     "execution_count": 20,
     "metadata": {},
     "output_type": "execute_result"
    }
   ],
   "source": [
    "numeric_data[numeric_data['Country where consulate is located'] == 'RUSSIAN FEDERATION']\\\n",
    "    .groupby(['Consulate'])['Numeric total issued visas'].sum().sort_values(ascending = False)"
   ]
  },
  {
   "cell_type": "code",
   "execution_count": 21,
   "metadata": {},
   "outputs": [
    {
     "data": {
      "text/plain": [
       "Consulate\n",
       "KAZAN             0.997318\n",
       "PSKOV             0.996274\n",
       "IRKUTSK           0.995065\n",
       "PETROZAVODSK      0.994786\n",
       "SOVETSK           0.993787\n",
       "KALININGRAD       0.990602\n",
       "ST. PETERSBURG    0.987346\n",
       "YEKATERINBURG     0.981528\n",
       "NOVOROSSIISK      0.977792\n",
       "MOSCOW            0.974420\n",
       "NOVOSIBIRSK       0.962330\n",
       "ROSTOV            0.930536\n",
       "MURMANSK          0.850965\n",
       "Name: Share of issued visas, dtype: float64"
      ]
     },
     "execution_count": 21,
     "metadata": {},
     "output_type": "execute_result"
    }
   ],
   "source": [
    "numeric_data[numeric_data['Country where consulate is located'] == 'RUSSIAN FEDERATION']\\\n",
    "    .groupby(['Consulate'])['Share of issued visas'].mean().sort_values(ascending = False).head(25)"
   ]
  },
  {
   "cell_type": "code",
   "execution_count": 22,
   "metadata": {},
   "outputs": [
    {
     "data": {
      "text/plain": [
       "Consulate\n",
       "MOSCOW            49189.0\n",
       "ST. PETERSBURG     3464.0\n",
       "NOVOSIBIRSK        1422.0\n",
       "YEKATERINBURG      1171.0\n",
       "KALININGRAD        1130.0\n",
       "NOVOROSSIISK        545.0\n",
       "MURMANSK            172.0\n",
       "PETROZAVODSK        132.0\n",
       "ROSTOV               85.0\n",
       "PSKOV                72.0\n",
       "SOVETSK              26.0\n",
       "IRKUTSK              13.0\n",
       "KAZAN                11.0\n",
       "Name: Numeric not issued visas, dtype: float64"
      ]
     },
     "execution_count": 22,
     "metadata": {},
     "output_type": "execute_result"
    }
   ],
   "source": [
    "numeric_data[numeric_data['Country where consulate is located'] == 'RUSSIAN FEDERATION']\\\n",
    "    .groupby(['Consulate'])['Numeric not issued visas'].sum().sort_values(ascending = False)"
   ]
  },
  {
   "cell_type": "code",
   "execution_count": 23,
   "metadata": {},
   "outputs": [
    {
     "data": {
      "text/plain": [
       "Consulate\n",
       "MURMANSK          0.148769\n",
       "ROSTOV            0.058459\n",
       "NOVOSIBIRSK       0.036163\n",
       "MOSCOW            0.022646\n",
       "NOVOROSSIISK      0.022208\n",
       "YEKATERINBURG     0.017613\n",
       "ST. PETERSBURG    0.011811\n",
       "KALININGRAD       0.008364\n",
       "IRKUTSK           0.004935\n",
       "PETROZAVODSK      0.004072\n",
       "PSKOV             0.003049\n",
       "KAZAN             0.002682\n",
       "SOVETSK           0.002154\n",
       "Name: Share of not issued visas, dtype: float64"
      ]
     },
     "execution_count": 23,
     "metadata": {},
     "output_type": "execute_result"
    }
   ],
   "source": [
    "numeric_data[numeric_data['Country where consulate is located'] == 'RUSSIAN FEDERATION']\\\n",
    "    .groupby(['Consulate'])['Share of not issued visas'].mean().sort_values(ascending = False)"
   ]
  }
 ],
 "metadata": {
  "kernelspec": {
   "display_name": "Python 3",
   "language": "python",
   "name": "python3"
  },
  "language_info": {
   "codemirror_mode": {
    "name": "ipython",
    "version": 3
   },
   "file_extension": ".py",
   "mimetype": "text/x-python",
   "name": "python",
   "nbconvert_exporter": "python",
   "pygments_lexer": "ipython3",
   "version": "3.7.1"
  }
 },
 "nbformat": 4,
 "nbformat_minor": 2
}
