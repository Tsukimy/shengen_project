{
 "cells": [
  {
   "cell_type": "markdown",
   "metadata": {},
   "source": [
    "EN: This project represents data statistics and answers for the questions below about schengen visas: applies, issued and not issued visas depending on which country recieve applies and which country sends them. The original source of the data is https://www.kaggle.com/ma7555/schengen-visa-stats#2018-data-for-consulates.csv\n",
    "\n",
    "RU: Этот проект представляет собой сбор данных и ответы на вопросы, связанные с шенгенскими визами: заявки, выдачи, невыдачи в зависимости от страны, в которую идут заявки и из какой страны. \n",
    "Данные взяты с https://www.kaggle.com/ma7555/schengen-visa-stats#2018-data-for-consulates.csv"
   ]
  },
  {
   "cell_type": "code",
   "execution_count": 1,
   "metadata": {},
   "outputs": [],
   "source": [
    "import numpy as np\n",
    "import pandas as pd\n",
    "# pip install seaborn \n",
    "import seaborn as sns\n",
    "import matplotlib.pyplot as plt\n",
    "import plotly.graph_objects as go"
   ]
  },
  {
   "cell_type": "code",
   "execution_count": 2,
   "metadata": {},
   "outputs": [],
   "source": [
    "PATH = 'C:/Users/Anastasiia Murashova/Documents/2018-data-for-consulates.csv'"
   ]
  },
  {
   "cell_type": "markdown",
   "metadata": {},
   "source": [
    "EN: The overall view of original data\n",
    "\n",
    "RU: Общий вид исходных данных"
   ]
  },
  {
   "cell_type": "code",
   "execution_count": 3,
   "metadata": {},
   "outputs": [
    {
     "data": {
      "text/html": [
       "<div>\n",
       "<style scoped>\n",
       "    .dataframe tbody tr th:only-of-type {\n",
       "        vertical-align: middle;\n",
       "    }\n",
       "\n",
       "    .dataframe tbody tr th {\n",
       "        vertical-align: top;\n",
       "    }\n",
       "\n",
       "    .dataframe thead th {\n",
       "        text-align: right;\n",
       "    }\n",
       "</style>\n",
       "<table border=\"1\" class=\"dataframe\">\n",
       "  <thead>\n",
       "    <tr style=\"text-align: right;\">\n",
       "      <th></th>\n",
       "      <th>Schengen State</th>\n",
       "      <th>Country where consulate is located</th>\n",
       "      <th>Consulate</th>\n",
       "      <th>Airport transit visas (ATVs) applied for</th>\n",
       "      <th>ATVs issued (including multiple)</th>\n",
       "      <th>Multiple ATVs issued</th>\n",
       "      <th>ATVs not issued</th>\n",
       "      <th>Not issued rate for ATVs</th>\n",
       "      <th>Uniform visas applied for</th>\n",
       "      <th>Total  uniform visas issued (including MEV)</th>\n",
       "      <th>Multiple entry uniform visas (MEVs) issued</th>\n",
       "      <th>Share of MEVs on total number of uniform visas issued</th>\n",
       "      <th>Total LTVs issued</th>\n",
       "      <th>Uniform visas not issued</th>\n",
       "      <th>Not issued rate for uniform visas</th>\n",
       "      <th>Total ATVs and uniform visas applied for</th>\n",
       "      <th>Total ATVs and uniform visas issued  (including multiple ATVs, MEVs and LTVs)</th>\n",
       "      <th>Total ATVs and uniform visas not issued</th>\n",
       "      <th>Not issued rate for ATVs and uniform visas</th>\n",
       "    </tr>\n",
       "  </thead>\n",
       "  <tbody>\n",
       "    <tr>\n",
       "      <th>0</th>\n",
       "      <td>Austria</td>\n",
       "      <td>ALBANIA</td>\n",
       "      <td>TIRANA</td>\n",
       "      <td>NaN</td>\n",
       "      <td>NaN</td>\n",
       "      <td>NaN</td>\n",
       "      <td>NaN</td>\n",
       "      <td>NaN</td>\n",
       "      <td>62</td>\n",
       "      <td>32</td>\n",
       "      <td>10</td>\n",
       "      <td>31.3%</td>\n",
       "      <td>21</td>\n",
       "      <td>9</td>\n",
       "      <td>14.5%</td>\n",
       "      <td>62</td>\n",
       "      <td>53</td>\n",
       "      <td>9</td>\n",
       "      <td>14.5%</td>\n",
       "    </tr>\n",
       "    <tr>\n",
       "      <th>1</th>\n",
       "      <td>Austria</td>\n",
       "      <td>ALGERIA</td>\n",
       "      <td>ALGIERS</td>\n",
       "      <td>NaN</td>\n",
       "      <td>NaN</td>\n",
       "      <td>NaN</td>\n",
       "      <td>NaN</td>\n",
       "      <td>NaN</td>\n",
       "      <td>2481</td>\n",
       "      <td>1658</td>\n",
       "      <td>1461</td>\n",
       "      <td>88.1%</td>\n",
       "      <td>1</td>\n",
       "      <td>822</td>\n",
       "      <td>33.1%</td>\n",
       "      <td>2,481</td>\n",
       "      <td>1,659</td>\n",
       "      <td>822</td>\n",
       "      <td>33.1%</td>\n",
       "    </tr>\n",
       "    <tr>\n",
       "      <th>2</th>\n",
       "      <td>Austria</td>\n",
       "      <td>ARGENTINA</td>\n",
       "      <td>BUENOS AIRES</td>\n",
       "      <td>NaN</td>\n",
       "      <td>NaN</td>\n",
       "      <td>NaN</td>\n",
       "      <td>NaN</td>\n",
       "      <td>NaN</td>\n",
       "      <td>16</td>\n",
       "      <td>16</td>\n",
       "      <td>16</td>\n",
       "      <td>100.0%</td>\n",
       "      <td>NaN</td>\n",
       "      <td>NaN</td>\n",
       "      <td>NaN</td>\n",
       "      <td>16</td>\n",
       "      <td>16</td>\n",
       "      <td>NaN</td>\n",
       "      <td>NaN</td>\n",
       "    </tr>\n",
       "    <tr>\n",
       "      <th>3</th>\n",
       "      <td>Austria</td>\n",
       "      <td>AUSTRALIA</td>\n",
       "      <td>CANBERRA</td>\n",
       "      <td>NaN</td>\n",
       "      <td>NaN</td>\n",
       "      <td>NaN</td>\n",
       "      <td>NaN</td>\n",
       "      <td>NaN</td>\n",
       "      <td>2776</td>\n",
       "      <td>2653</td>\n",
       "      <td>989</td>\n",
       "      <td>37.3%</td>\n",
       "      <td>1</td>\n",
       "      <td>122</td>\n",
       "      <td>4.4%</td>\n",
       "      <td>2,776</td>\n",
       "      <td>2,654</td>\n",
       "      <td>122</td>\n",
       "      <td>4.4%</td>\n",
       "    </tr>\n",
       "    <tr>\n",
       "      <th>4</th>\n",
       "      <td>Austria</td>\n",
       "      <td>AZERBAIJAN</td>\n",
       "      <td>BAKU</td>\n",
       "      <td>1</td>\n",
       "      <td>1</td>\n",
       "      <td>1</td>\n",
       "      <td>NaN</td>\n",
       "      <td>NaN</td>\n",
       "      <td>1976</td>\n",
       "      <td>1895</td>\n",
       "      <td>1769</td>\n",
       "      <td>93.4%</td>\n",
       "      <td>2</td>\n",
       "      <td>79</td>\n",
       "      <td>4.0%</td>\n",
       "      <td>1,977</td>\n",
       "      <td>1,898</td>\n",
       "      <td>79</td>\n",
       "      <td>4.0%</td>\n",
       "    </tr>\n",
       "  </tbody>\n",
       "</table>\n",
       "</div>"
      ],
      "text/plain": [
       "  Schengen State Country where consulate is located     Consulate  \\\n",
       "0        Austria                            ALBANIA        TIRANA   \n",
       "1        Austria                            ALGERIA       ALGIERS   \n",
       "2        Austria                          ARGENTINA  BUENOS AIRES   \n",
       "3        Austria                          AUSTRALIA      CANBERRA   \n",
       "4        Austria                         AZERBAIJAN          BAKU   \n",
       "\n",
       "  Airport transit visas (ATVs) applied for   ATVs issued (including multiple)  \\\n",
       "0                                       NaN                               NaN   \n",
       "1                                       NaN                               NaN   \n",
       "2                                       NaN                               NaN   \n",
       "3                                       NaN                               NaN   \n",
       "4                                         1                                 1   \n",
       "\n",
       "  Multiple ATVs issued ATVs not issued  Not issued rate for ATVs  \\\n",
       "0                  NaN              NaN                      NaN   \n",
       "1                  NaN              NaN                      NaN   \n",
       "2                  NaN              NaN                      NaN   \n",
       "3                  NaN              NaN                      NaN   \n",
       "4                    1              NaN                      NaN   \n",
       "\n",
       "  Uniform visas applied for Total  uniform visas issued (including MEV) \\n  \\\n",
       "0                        62                                             32   \n",
       "1                      2481                                           1658   \n",
       "2                        16                                             16   \n",
       "3                      2776                                           2653   \n",
       "4                      1976                                           1895   \n",
       "\n",
       "  Multiple entry uniform visas (MEVs) issued  \\\n",
       "0                                         10   \n",
       "1                                       1461   \n",
       "2                                         16   \n",
       "3                                        989   \n",
       "4                                       1769   \n",
       "\n",
       "  Share of MEVs on total number of uniform visas issued Total LTVs issued  \\\n",
       "0                                              31.3%                   21   \n",
       "1                                              88.1%                    1   \n",
       "2                                             100.0%                  NaN   \n",
       "3                                              37.3%                    1   \n",
       "4                                              93.4%                    2   \n",
       "\n",
       "  Uniform visas not issued Not issued rate for uniform visas  \\\n",
       "0                        9                             14.5%   \n",
       "1                      822                             33.1%   \n",
       "2                      NaN                               NaN   \n",
       "3                      122                              4.4%   \n",
       "4                       79                              4.0%   \n",
       "\n",
       "  Total ATVs and uniform visas applied for  \\\n",
       "0                                       62   \n",
       "1                                    2,481   \n",
       "2                                       16   \n",
       "3                                    2,776   \n",
       "4                                    1,977   \n",
       "\n",
       "  Total ATVs and uniform visas issued  (including multiple ATVs, MEVs and LTVs)   \\\n",
       "0                                                 53                               \n",
       "1                                              1,659                               \n",
       "2                                                 16                               \n",
       "3                                              2,654                               \n",
       "4                                              1,898                               \n",
       "\n",
       "  Total ATVs and uniform visas not issued  \\\n",
       "0                                       9   \n",
       "1                                     822   \n",
       "2                                     NaN   \n",
       "3                                     122   \n",
       "4                                      79   \n",
       "\n",
       "  Not issued rate for ATVs and uniform visas   \n",
       "0                                       14.5%  \n",
       "1                                       33.1%  \n",
       "2                                         NaN  \n",
       "3                                        4.4%  \n",
       "4                                        4.0%  "
      ]
     },
     "execution_count": 3,
     "metadata": {},
     "output_type": "execute_result"
    }
   ],
   "source": [
    "data = pd.read_csv(PATH)\n",
    "data.head(5)"
   ]
  },
  {
   "cell_type": "markdown",
   "metadata": {},
   "source": [
    "EN: Questions for research:\n",
    "1. Which types of visas (ATV, MEV, LTV) were given and how much\n",
    "2. How much applies for transfer visas were from customers comparing to all applies for visas \n",
    "3. Chances for getting LTV or better quality of visa \n",
    "4. Which consulates in every country are more generous than others?\n",
    "5. Which consulates are more strict that others?\n",
    "6. Which schengen states are more generous in general? \n",
    "7. Which schengen states are more strict than others?\n",
    "8. Generousity and severity rate of consulates in Russia\n",
    "\n",
    "RU: Вопросы для исследования:\n",
    "1. Какие типы виз (ATV, MEV, LTV) были выданы и сколько?\n",
    "2. Сколько заявок на трансферные визы было подано в сравнении со всеми заявками ?\n",
    "3. Шансы получить визу, ограниченую по сроку действия или более выгодную?\n",
    "4. Какие консульства в каждой стране наиболее щедры?\n",
    "5. Какое консульства наиболее строгие?\n",
    "6. Какие страны Шенгена наиболее гостеприиимные?\n",
    "7. Какие страны Шенгена наиболее строгие?\n",
    "8. Рейтинг щедрости и строгости консульств в России"
   ]
  },
  {
   "cell_type": "code",
   "execution_count": 4,
   "metadata": {},
   "outputs": [
    {
     "name": "stdout",
     "output_type": "stream",
     "text": [
      "Index(['Schengen State', 'Country where consulate is located', 'Consulate',\n",
      "       'Airport transit visas (ATVs) applied for ',\n",
      "       ' ATVs issued (including multiple)', 'Multiple ATVs issued',\n",
      "       'ATVs not issued ', 'Not issued rate for ATVs',\n",
      "       'Uniform visas applied for',\n",
      "       'Total  uniform visas issued (including MEV) \\n',\n",
      "       'Multiple entry uniform visas (MEVs) issued',\n",
      "       'Share of MEVs on total number of uniform visas issued',\n",
      "       'Total LTVs issued', 'Uniform visas not issued',\n",
      "       'Not issued rate for uniform visas',\n",
      "       'Total ATVs and uniform visas applied for',\n",
      "       'Total ATVs and uniform visas issued  (including multiple ATVs, MEVs and LTVs) ',\n",
      "       'Total ATVs and uniform visas not issued',\n",
      "       'Not issued rate for ATVs and uniform visas '],\n",
      "      dtype='object')\n"
     ]
    }
   ],
   "source": [
    "print(data.columns)"
   ]
  },
  {
   "cell_type": "markdown",
   "metadata": {},
   "source": [
    "RU: Названия колонок:\n",
    "\n",
    "Заявки на транзитные визы в аэропорту (ATV), \n",
    "Выпущенные транзитные визы (включая многократные), \n",
    "Выпущены многократные транзитные визы, \n",
    "Многократные транзитные визы не выпущены, \n",
    "Рейтинг не выданных многократных транзитные визы, \n",
    "Подачи на единые визы, \n",
    "Всего выдано единых виз (включая MEV),\n",
    "Выданы многократные въездные визы (MEV),\n",
    "Доля MEVs в общем количестве выданных единых виз,\n",
    "Всего выпущено ограниченные виз (LTV),\n",
    "Единые визы не выданы,\n",
    "Рейтинг не выпущенных единых виз,\n",
    "Общее количество подач на транзитные и единые визы,\n",
    "Всего выдано ATV и единых виз (включая несколько ATV, MEV и LTV),\n",
    "Всего транзитных и единых виз не выдано,\n",
    "Рейтинг не выпущенных тариф на транзитные и единые визы"
   ]
  },
  {
   "cell_type": "markdown",
   "metadata": {},
   "source": [
    "1. Which types of visas (ATV, MEV, LTV) were given and how much\n",
    "\n",
    "EN: This dataframe gives us summury about which types of visas and how much were applied and given in 2018 in the world\n",
    "\n",
    "RU: Суммарные данные по заявкам и выдачам-невыдачам виз"
   ]
  },
  {
   "cell_type": "code",
   "execution_count": 5,
   "metadata": {},
   "outputs": [
    {
     "data": {
      "text/html": [
       "<div>\n",
       "<style scoped>\n",
       "    .dataframe tbody tr th:only-of-type {\n",
       "        vertical-align: middle;\n",
       "    }\n",
       "\n",
       "    .dataframe tbody tr th {\n",
       "        vertical-align: top;\n",
       "    }\n",
       "\n",
       "    .dataframe thead th {\n",
       "        text-align: right;\n",
       "    }\n",
       "</style>\n",
       "<table border=\"1\" class=\"dataframe\">\n",
       "  <thead>\n",
       "    <tr style=\"text-align: right;\">\n",
       "      <th></th>\n",
       "      <th>Airport transit visas (ATVs) applied for</th>\n",
       "      <th>ATVs issued (including multiple)</th>\n",
       "      <th>Multiple ATVs issued</th>\n",
       "      <th>ATVs not issued</th>\n",
       "      <th>Not issued rate for ATVs</th>\n",
       "      <th>Uniform visas applied for</th>\n",
       "      <th>Total  uniform visas issued (including MEV)</th>\n",
       "      <th>Multiple entry uniform visas (MEVs) issued</th>\n",
       "      <th>Share of MEVs on total number of uniform visas issued</th>\n",
       "      <th>Total LTVs issued</th>\n",
       "      <th>Uniform visas not issued</th>\n",
       "      <th>Not issued rate for uniform visas</th>\n",
       "      <th>Total ATVs and uniform visas applied for</th>\n",
       "      <th>Total ATVs and uniform visas issued  (including multiple ATVs, MEVs and LTVs)</th>\n",
       "      <th>Total ATVs and uniform visas not issued</th>\n",
       "      <th>Not issued rate for ATVs and uniform visas</th>\n",
       "    </tr>\n",
       "  </thead>\n",
       "  <tbody>\n",
       "    <tr>\n",
       "      <th>Selection Sub total in 2018</th>\n",
       "      <td>5,313</td>\n",
       "      <td>4,277</td>\n",
       "      <td>1,553</td>\n",
       "      <td>767</td>\n",
       "      <td>14.4%</td>\n",
       "      <td>16,016,599</td>\n",
       "      <td>14,265,282</td>\n",
       "      <td>8,325,850</td>\n",
       "      <td>58.4%</td>\n",
       "      <td>113,687</td>\n",
       "      <td>1,539,362</td>\n",
       "      <td>9.6%</td>\n",
       "      <td>16,021,912</td>\n",
       "      <td>14,383,246</td>\n",
       "      <td>1,540,129</td>\n",
       "      <td>9.6%</td>\n",
       "    </tr>\n",
       "    <tr>\n",
       "      <th>Total worldwide 2018</th>\n",
       "      <td>5,313</td>\n",
       "      <td>4,277</td>\n",
       "      <td>1,553</td>\n",
       "      <td>767</td>\n",
       "      <td>14.4%</td>\n",
       "      <td>16,016,599</td>\n",
       "      <td>14,265,282</td>\n",
       "      <td>8,325,850</td>\n",
       "      <td>58.4%</td>\n",
       "      <td>113,687</td>\n",
       "      <td>1,539,362</td>\n",
       "      <td>9.6%</td>\n",
       "      <td>16,021,912</td>\n",
       "      <td>14,383,246</td>\n",
       "      <td>1,540,129</td>\n",
       "      <td>9.6%</td>\n",
       "    </tr>\n",
       "    <tr>\n",
       "      <th>Share of subtotal on worldwide total</th>\n",
       "      <td>100%</td>\n",
       "      <td>100%</td>\n",
       "      <td>100%</td>\n",
       "      <td>100%</td>\n",
       "      <td>NaN</td>\n",
       "      <td>100%</td>\n",
       "      <td>100%</td>\n",
       "      <td>100%</td>\n",
       "      <td>NaN</td>\n",
       "      <td>100%</td>\n",
       "      <td>100%</td>\n",
       "      <td>NaN</td>\n",
       "      <td>100%</td>\n",
       "      <td>100%</td>\n",
       "      <td>100%</td>\n",
       "      <td>NaN</td>\n",
       "    </tr>\n",
       "  </tbody>\n",
       "</table>\n",
       "</div>"
      ],
      "text/plain": [
       "                                     Airport transit visas (ATVs) applied for   \\\n",
       "Selection Sub total in 2018                                             5,313    \n",
       "Total worldwide 2018                                                     5,313   \n",
       "Share of subtotal on worldwide total                                      100%   \n",
       "\n",
       "                                      ATVs issued (including multiple)  \\\n",
       "Selection Sub total in 2018                                     4,277    \n",
       "Total worldwide 2018                                             4,277   \n",
       "Share of subtotal on worldwide total                              100%   \n",
       "\n",
       "                                     Multiple ATVs issued ATVs not issued   \\\n",
       "Selection Sub total in 2018                        1,553              767    \n",
       "Total worldwide 2018                                1,553              767   \n",
       "Share of subtotal on worldwide total                 100%             100%   \n",
       "\n",
       "                                     Not issued rate for ATVs  \\\n",
       "Selection Sub total in 2018                             14.4%   \n",
       "Total worldwide 2018                                    14.4%   \n",
       "Share of subtotal on worldwide total                      NaN   \n",
       "\n",
       "                                     Uniform visas applied for  \\\n",
       "Selection Sub total in 2018                        16,016,599    \n",
       "Total worldwide 2018                                16,016,599   \n",
       "Share of subtotal on worldwide total                      100%   \n",
       "\n",
       "                                     Total  uniform visas issued (including MEV) \\n  \\\n",
       "Selection Sub total in 2018                                             14,265,282    \n",
       "Total worldwide 2018                                                     14,265,282   \n",
       "Share of subtotal on worldwide total                                           100%   \n",
       "\n",
       "                                     Multiple entry uniform visas (MEVs) issued  \\\n",
       "Selection Sub total in 2018                                          8,325,850    \n",
       "Total worldwide 2018                                                  8,325,850   \n",
       "Share of subtotal on worldwide total                                       100%   \n",
       "\n",
       "                                     Share of MEVs on total number of uniform visas issued  \\\n",
       "Selection Sub total in 2018                                                       58.4%      \n",
       "Total worldwide 2018                                                              58.4%      \n",
       "Share of subtotal on worldwide total                                                NaN      \n",
       "\n",
       "                                     Total LTVs issued  \\\n",
       "Selection Sub total in 2018                   113,687    \n",
       "Total worldwide 2018                           113,687   \n",
       "Share of subtotal on worldwide total              100%   \n",
       "\n",
       "                                     Uniform visas not issued  \\\n",
       "Selection Sub total in 2018                        1,539,362    \n",
       "Total worldwide 2018                                1,539,362   \n",
       "Share of subtotal on worldwide total                     100%   \n",
       "\n",
       "                                     Not issued rate for uniform visas  \\\n",
       "Selection Sub total in 2018                                       9.6%   \n",
       "Total worldwide 2018                                              9.6%   \n",
       "Share of subtotal on worldwide total                               NaN   \n",
       "\n",
       "                                     Total ATVs and uniform visas applied for  \\\n",
       "Selection Sub total in 2018                                       16,021,912    \n",
       "Total worldwide 2018                                               16,021,912   \n",
       "Share of subtotal on worldwide total                                     100%   \n",
       "\n",
       "                                     Total ATVs and uniform visas issued  (including multiple ATVs, MEVs and LTVs)   \\\n",
       "Selection Sub total in 2018                                                 14,383,246                                \n",
       "Total worldwide 2018                                                         14,383,246                               \n",
       "Share of subtotal on worldwide total                                               100%                               \n",
       "\n",
       "                                     Total ATVs and uniform visas not issued  \\\n",
       "Selection Sub total in 2018                                       1,540,129    \n",
       "Total worldwide 2018                                               1,540,129   \n",
       "Share of subtotal on worldwide total                                    100%   \n",
       "\n",
       "                                     Not issued rate for ATVs and uniform visas   \n",
       "Selection Sub total in 2018                                                 9.6%  \n",
       "Total worldwide 2018                                                        9.6%  \n",
       "Share of subtotal on worldwide total                                         NaN  "
      ]
     },
     "execution_count": 5,
     "metadata": {},
     "output_type": "execute_result"
    }
   ],
   "source": [
    "total_data = data.iloc[1904:1907, 3:19]\n",
    "total_data.rename(index={1904:'Selection Sub total in 2018',1905:'Total worldwide 2018',1906:'Share of subtotal on worldwide total'}, inplace=True)\n",
    "total_data"
   ]
  },
  {
   "cell_type": "markdown",
   "metadata": {},
   "source": [
    "2. How much applies for transfer visas were from customers comparing to all applies for visas "
   ]
  },
  {
   "cell_type": "code",
   "execution_count": 6,
   "metadata": {},
   "outputs": [
    {
     "name": "stdout",
     "output_type": "stream",
     "text": [
      "Share of ATV applies is 0.03 %\n"
     ]
    }
   ],
   "source": [
    "total_data['Numeric global ATV applies'] = total_data['Airport transit visas (ATVs) applied for ']\\\n",
    "    .iloc[:2].apply(lambda s: int(s.replace(',', '')))\n",
    "total_data['Numeric global applies'] = total_data['Total ATVs and uniform visas applied for']\\\n",
    "    .iloc[:2].apply(lambda s: int(s.replace(',', '')))\n",
    "\n",
    "global_atv_applies = total_data['Numeric global ATV applies'].iloc[:1].sum()\n",
    "global_applies = total_data['Numeric global applies'].iloc[:1].sum()\n",
    "print(\"Share of ATV applies is\", round(((global_atv_applies/global_applies)*100), 2), '%')"
   ]
  },
  {
   "cell_type": "markdown",
   "metadata": {},
   "source": [
    "3. Chances for getting LTV or better quality visa"
   ]
  },
  {
   "cell_type": "code",
   "execution_count": 7,
   "metadata": {},
   "outputs": [
    {
     "name": "stdout",
     "output_type": "stream",
     "text": [
      "Chances for getting LTV or better quality of visa 89.07 %\n"
     ]
    }
   ],
   "source": [
    "total_data['Numeric uniform visa issued'] = total_data['Total  uniform visas issued (including MEV) \\n']\\\n",
    "    .iloc[:2].dropna().apply(lambda s: int(s.replace(',', '')))\n",
    "total_data['Numeric uniform visa applies'] = total_data['Uniform visas applied for'].iloc[:2]\\\n",
    "    .dropna().apply(lambda s: int(s.replace(',', '')))\n",
    "\n",
    "issued_bq_visas = total_data['Numeric uniform visa issued'].iloc[:1].sum()\n",
    "applied_bq_visas = total_data['Numeric uniform visa applies'].iloc[:1].sum()\n",
    "print('Chances for getting LTV or better quality of visa', round(((issued_bq_visas/applied_bq_visas)*100), 2), '%')"
   ]
  },
  {
   "cell_type": "markdown",
   "metadata": {},
   "source": [
    "EN: Data preprocessing and filling or correcting missing values. \n",
    "\n",
    "RU: Обработка данных для заполнения пропущенных данных или их корректировки"
   ]
  },
  {
   "cell_type": "code",
   "execution_count": 8,
   "metadata": {},
   "outputs": [],
   "source": [
    "numeric_data = data.iloc[:1900, 0:3]\n",
    "numeric_data['Numeric applies'] = data['Total ATVs and uniform visas applied for']\\\n",
    "    .iloc[:1900].dropna().apply(lambda s: int(s.replace(',', '')))\n",
    "numeric_data['Numeric total issued visas'] = data['Total ATVs and uniform visas issued  (including multiple ATVs, MEVs and LTVs) ']\\\n",
    "    .iloc[:1900].dropna().apply(lambda s: int(s.replace(',', '')))\n",
    "numeric_data['Numeric not issued visas'] = data['Total ATVs and uniform visas not issued']\\\n",
    "    .iloc[:1900].dropna().apply(lambda s: int(s.replace(',', '')))"
   ]
  },
  {
   "cell_type": "code",
   "execution_count": 9,
   "metadata": {},
   "outputs": [],
   "source": [
    "numeric_data = numeric_data.fillna(0, axis = 0)"
   ]
  },
  {
   "cell_type": "code",
   "execution_count": 10,
   "metadata": {},
   "outputs": [],
   "source": [
    "numeric_data['Numeric applies'] = numeric_data[['Numeric applies', 'Numeric total issued visas', 'Numeric not issued visas']]\\\n",
    ".apply(lambda x: x['Numeric applies'] if x['Numeric total issued visas'] <= x['Numeric applies'] \\\n",
    "       else x['Numeric total issued visas']+x['Numeric not issued visas'], axis = 1)"
   ]
  },
  {
   "cell_type": "code",
   "execution_count": 11,
   "metadata": {},
   "outputs": [],
   "source": [
    "numeric_data['Numeric applies'] = numeric_data[['Numeric applies', 'Numeric total issued visas', 'Numeric not issued visas']]\\\n",
    ".apply(lambda x: x['Numeric applies'] if x['Numeric not issued visas'] <= x['Numeric applies'] \\\n",
    "       else x['Numeric total issued visas']+x['Numeric not issued visas'], axis = 1)"
   ]
  },
  {
   "cell_type": "code",
   "execution_count": 12,
   "metadata": {},
   "outputs": [],
   "source": [
    "numeric_data['Share of issued visas'] = numeric_data['Numeric total issued visas']/numeric_data['Numeric applies']"
   ]
  },
  {
   "cell_type": "code",
   "execution_count": 13,
   "metadata": {},
   "outputs": [],
   "source": [
    "numeric_data['Share of not issued visas'] = numeric_data['Numeric not issued visas']/numeric_data['Numeric applies']"
   ]
  },
  {
   "cell_type": "markdown",
   "metadata": {},
   "source": [
    "4. Which consulates in every country are more generous than others? "
   ]
  },
  {
   "cell_type": "code",
   "execution_count": 14,
   "metadata": {},
   "outputs": [
    {
     "data": {
      "text/plain": [
       "Consulate\n",
       "MOSCOW            2542131.0\n",
       "BEIJING           1058086.0\n",
       "SHANGHAI           923186.0\n",
       "ST. PETERSBURG     741242.0\n",
       "NEW DELHI          534188.0\n",
       "Name: Numeric total issued visas, dtype: float64"
      ]
     },
     "execution_count": 14,
     "metadata": {},
     "output_type": "execute_result"
    }
   ],
   "source": [
    "numeric_data.groupby(['Consulate'])['Numeric total issued visas'].sum().sort_values(ascending = False).head(5)"
   ]
  },
  {
   "cell_type": "code",
   "execution_count": 15,
   "metadata": {},
   "outputs": [
    {
     "data": {
      "text/plain": [
       "Consulate\n",
       "ZURICH                1.000000\n",
       "VICTORIA              1.000000\n",
       "ROSARIO (Santa Fé)    1.000000\n",
       "REYKJAVIK             1.000000\n",
       "SUBOTICA              1.000000\n",
       "LYON                  1.000000\n",
       "LUGANO                1.000000\n",
       "TALLINN               1.000000\n",
       "TAMPA, FL             1.000000\n",
       "JUBA                  1.000000\n",
       "SAN SALVADOR          1.000000\n",
       "GUADALAJARA           1.000000\n",
       "GJIROKASTER           1.000000\n",
       "CORDOBA               1.000000\n",
       "CLEVELAND, OH         1.000000\n",
       "VALETTA               1.000000\n",
       "HAMBURG               1.000000\n",
       "BARCELONA             1.000000\n",
       "AMSTERDAM             1.000000\n",
       "VILNIUS               1.000000\n",
       "BAHIA BLANCA          1.000000\n",
       "GRODNO                0.997340\n",
       "KAZAN                 0.997318\n",
       "BREST                 0.997160\n",
       "PSKOV                 0.996274\n",
       "Name: Share of issued visas, dtype: float64"
      ]
     },
     "execution_count": 15,
     "metadata": {},
     "output_type": "execute_result"
    }
   ],
   "source": [
    "numeric_data.groupby(['Consulate'])['Share of issued visas'].mean().sort_values(ascending = False).head(25)"
   ]
  },
  {
   "cell_type": "code",
   "execution_count": 83,
   "metadata": {},
   "outputs": [],
   "source": [
    "codes_world = ['AFG', 'ALB', 'DZA', 'AND', 'AGO', 'ARG', 'ARM', 'AUS', 'AUT', 'AZE', 'BHR', 'BGD', 'BLR', \n",
    "             'BEL', 'BEN', 'BOL', 'BIH', 'BWA', 'BRA', 'BGR', 'BFA', 'BDI', 'KHM', 'CMR', 'CAN', \n",
    "             'CPV', 'CAF', 'TCD', 'CHL', 'CHN', 'COL', 'COM', 'COG', 'COD', 'CRI', 'CIV', 'HRV', 'CUB', 'CYP', \n",
    "             'CZE', 'DNK', 'DJI', 'DOM', 'ECU', 'EGY', 'SLV', 'GNQ', 'ERI', 'EST', 'ETH', 'FJI', 'FIN', 'FRA', \n",
    "             'GAB', 'GEO', 'DEU', 'GHA', 'GRC', 'GTM', 'GIN', 'GNB', 'HTI', 'HND', 'HKG', 'HUN', 'ISL', 'IND', \n",
    "             'IDN', 'IRN', 'IRQ', 'IRL', 'ISR', 'ITA', 'JAM', 'JPN', 'JOR', 'KAZ', 'KEN', 'KSV', 'KWT', 'KGZ',  \n",
    "             'LAO', 'LVA', 'LBN', 'LBR', 'LBY', 'LTU', 'LUX', 'MAC', 'MDG', 'MWI', 'MYS', 'MLI', 'MLT', 'MRT',  \n",
    "             'MUS', 'MEX', 'MDA', 'MCO', 'MNG', 'MNE', 'MAR', 'MOZ', 'MMR', 'NAM', 'NPL', 'NLD', 'NZL', 'NIC', \n",
    "             'NER', 'NGA', 'PRK', 'MKD', 'NOR', 'OMN', 'PAK', 'PSE', 'PAN', 'PRY', 'PER', 'PHL', 'POL', 'PRT', \n",
    "             'QAT', 'ROU', 'RUS', 'RWA', 'LCA', 'SMR', 'STP', 'SAU', 'SEN', 'SRB', 'SYC', 'SGP', 'SVK', 'SVN', \n",
    "             'ZAF', 'KOR', 'SSD', 'ESP', 'LKA', 'SDN', 'SUR', 'SWE', 'CHE', 'SYR', 'TWN', 'TJK', 'TZA', 'THA', \n",
    "             'TLS', 'TGO', 'TTO', 'TUN', 'TUR', 'TKM', 'UGA', 'UKR', 'ARE', 'GBR', 'URY', 'USA', 'UZB', 'VUT', \n",
    "             'VEN', 'VNM', 'ZMB', 'ZWE']"
   ]
  },
  {
   "cell_type": "code",
   "execution_count": 84,
   "metadata": {},
   "outputs": [],
   "source": [
    "list_of_generosity_world = numeric_data.groupby(['Country where consulate is located'])['Share of issued visas'].mean()\n",
    "generosity_wld_df = list_of_generosity_world.reset_index() \n",
    "generosity_wld_df['Code'] = codes_world\n"
   ]
  },
  {
   "cell_type": "code",
   "execution_count": 87,
   "metadata": {},
   "outputs": [],
   "source": [
    "def mappa(Locations, Z, Text, Colorscale, Reversescale, Colorbar_title, Title_text, Projection_type, Text_source):\n",
    "    fig = go.Figure(data=go.Choropleth(\n",
    "        locations = Locations,\n",
    "        z = Z,\n",
    "        text = Text,\n",
    "        colorscale = Colorscale,\n",
    "        autocolorscale = False,\n",
    "        reversescale = Reversescale,\n",
    "        marker_line_color='darkgray',\n",
    "        marker_line_width=0.5,\n",
    "        colorbar_tickprefix = ' ',\n",
    "        colorbar_title = Colorbar_title,\n",
    "    ))\n",
    "\n",
    "    fig.update_layout(\n",
    "        title_text = Title_text,\n",
    "        geo=dict(\n",
    "            showframe = False,\n",
    "            showcoastlines = False,\n",
    "            projection_type = Projection_type\n",
    "        ),\n",
    "        annotations = [dict(\n",
    "            x = 0.55,\n",
    "            y = 0.1,\n",
    "            xref = 'paper',\n",
    "            yref = 'paper',\n",
    "            text = Text_source,\n",
    "            showarrow = False\n",
    "        )]\n",
    "    )\n",
    "\n",
    "    fig.show()"
   ]
  },
  {
   "cell_type": "code",
   "execution_count": 90,
   "metadata": {},
   "outputs": [
    {
     "data": {
      "application/vnd.plotly.v1+json": {
       "config": {
        "plotlyServerURL": "https://plot.ly"
       },
       "data": [
        {
         "autocolorscale": false,
         "colorbar": {
          "tickprefix": " ",
          "title": {
           "text": "Share of issued visas"
          }
         },
         "colorscale": [
          [
           0,
           "rgb(247,251,255)"
          ],
          [
           0.125,
           "rgb(222,235,247)"
          ],
          [
           0.25,
           "rgb(198,219,239)"
          ],
          [
           0.375,
           "rgb(158,202,225)"
          ],
          [
           0.5,
           "rgb(107,174,214)"
          ],
          [
           0.625,
           "rgb(66,146,198)"
          ],
          [
           0.75,
           "rgb(33,113,181)"
          ],
          [
           0.875,
           "rgb(8,81,156)"
          ],
          [
           1,
           "rgb(8,48,107)"
          ]
         ],
         "locations": [
          "AFG",
          "ALB",
          "DZA",
          "AND",
          "AGO",
          "ARG",
          "ARM",
          "AUS",
          "AUT",
          "AZE",
          "BHR",
          "BGD",
          "BLR",
          "BEL",
          "BEN",
          "BOL",
          "BIH",
          "BWA",
          "BRA",
          "BGR",
          "BFA",
          "BDI",
          "KHM",
          "CMR",
          "CAN",
          "CPV",
          "CAF",
          "TCD",
          "CHL",
          "CHN",
          "COL",
          "COM",
          "COG",
          "COD",
          "CRI",
          "CIV",
          "HRV",
          "CUB",
          "CYP",
          "CZE",
          "DNK",
          "DJI",
          "DOM",
          "ECU",
          "EGY",
          "SLV",
          "GNQ",
          "ERI",
          "EST",
          "ETH",
          "FJI",
          "FIN",
          "FRA",
          "GAB",
          "GEO",
          "DEU",
          "GHA",
          "GRC",
          "GTM",
          "GIN",
          "GNB",
          "HTI",
          "HND",
          "HKG",
          "HUN",
          "ISL",
          "IND",
          "IDN",
          "IRN",
          "IRQ",
          "IRL",
          "ISR",
          "ITA",
          "JAM",
          "JPN",
          "JOR",
          "KAZ",
          "KEN",
          "KSV",
          "KWT",
          "KGZ",
          "LAO",
          "LVA",
          "LBN",
          "LBR",
          "LBY",
          "LTU",
          "LUX",
          "MAC",
          "MDG",
          "MWI",
          "MYS",
          "MLI",
          "MLT",
          "MRT",
          "MUS",
          "MEX",
          "MDA",
          "MCO",
          "MNG",
          "MNE",
          "MAR",
          "MOZ",
          "MMR",
          "NAM",
          "NPL",
          "NLD",
          "NZL",
          "NIC",
          "NER",
          "NGA",
          "PRK",
          "MKD",
          "NOR",
          "OMN",
          "PAK",
          "PSE",
          "PAN",
          "PRY",
          "PER",
          "PHL",
          "POL",
          "PRT",
          "QAT",
          "ROU",
          "RUS",
          "RWA",
          "LCA",
          "SMR",
          "STP",
          "SAU",
          "SEN",
          "SRB",
          "SYC",
          "SGP",
          "SVK",
          "SVN",
          "ZAF",
          "KOR",
          "SSD",
          "ESP",
          "LKA",
          "SDN",
          "SUR",
          "SWE",
          "CHE",
          "SYR",
          "TWN",
          "TJK",
          "TZA",
          "THA",
          "TLS",
          "TGO",
          "TTO",
          "TUN",
          "TUR",
          "TKM",
          "UGA",
          "UKR",
          "ARE",
          "GBR",
          "URY",
          "USA",
          "UZB",
          "VUT",
          "VEN",
          "VNM",
          "ZMB",
          "ZWE"
         ],
         "marker": {
          "line": {
           "color": "darkgray",
           "width": 0.5
          }
         },
         "reversescale": false,
         "text": [
          "AFGHANISTAN",
          "ALBANIA",
          "ALGERIA",
          "ANDORRA",
          "ANGOLA",
          "ARGENTINA",
          "ARMENIA",
          "AUSTRALIA",
          "AUSTRIA",
          "AZERBAIJAN",
          "BAHRAIN",
          "BANGLADESH",
          "BELARUS",
          "BELGIUM",
          "BENIN",
          "BOLIVIA",
          "BOSNIA AND HERZEGOVINA",
          "BOTSWANA",
          "BRAZIL",
          "BULGARIA",
          "BURKINA FASO",
          "BURUNDI",
          "CAMBODIA",
          "CAMEROON",
          "CANADA",
          "CAPE VERDE",
          "CENTRAL AFRICAN REPUBLIC",
          "CHAD",
          "CHILE",
          "CHINA",
          "COLOMBIA",
          "COMOROS",
          "CONGO (BRAZZAVILLE)",
          "CONGO (DEMOCRATIC REPUBLIC)",
          "COSTA RICA",
          "COTE D'IVOIRE",
          "CROATIA",
          "CUBA",
          "CYPRUS",
          "CZECH REPUBLIC",
          "DENMARK",
          "DJIBOUTI",
          "DOMINICAN REPUBLIC",
          "ECUADOR",
          "EGYPT",
          "EL SALVADOR",
          "EQUATORIAL GUINEA",
          "ERITREA",
          "ESTONIA",
          "ETHIOPIA",
          "FIJI",
          "FINLAND",
          "FRANCE",
          "GABON",
          "GEORGIA",
          "GERMANY",
          "GHANA",
          "GREECE",
          "GUATEMALA",
          "GUINEA",
          "GUINEA-BISSAU",
          "HAITI",
          "HONDURAS",
          "HONG KONG S.A.R.",
          "HUNGARY",
          "ICELAND",
          "INDIA",
          "INDONESIA",
          "IRAN",
          "IRAQ",
          "IRELAND",
          "ISRAEL",
          "ITALY",
          "JAMAICA",
          "JAPAN",
          "JORDAN",
          "KAZAKHSTAN",
          "KENYA",
          "KOSOVO",
          "KUWAIT",
          "KYRGYZSTAN",
          "LAOS",
          "LATVIA",
          "LEBANON",
          "LIBERIA",
          "LIBYA",
          "LITHUANIA",
          "LUXEMBOURG",
          "MACAO S.A.R.",
          "MADAGASCAR",
          "MALAWI",
          "MALAYSIA",
          "MALI",
          "MALTA",
          "MAURITANIA",
          "MAURITIUS",
          "MEXICO",
          "MOLDOVA",
          "MONACO",
          "MONGOLIA",
          "MONTENEGRO",
          "MOROCCO",
          "MOZAMBIQUE",
          "MYANMAR",
          "NAMIBIA",
          "NEPAL",
          "NETHERLANDS",
          "NEW ZEALAND",
          "NICARAGUA",
          "NIGER",
          "NIGERIA",
          "NORTH KOREA",
          "NORTH MACEDONIA",
          "NORWAY",
          "OMAN",
          "PAKISTAN",
          "PALESTINIAN AUTHORITY",
          "PANAMA",
          "PARAGUAY",
          "PERU",
          "PHILIPPINES",
          "POLAND",
          "PORTUGAL",
          "QATAR",
          "ROMANIA",
          "RUSSIAN FEDERATION",
          "RWANDA",
          "SAINT LUCIA",
          "SAN MARINO",
          "SAO TOME AND PRINCIPE",
          "SAUDI ARABIA",
          "SENEGAL",
          "SERBIA",
          "SEYCHELLES",
          "SINGAPORE",
          "SLOVAKIA",
          "SLOVENIA",
          "SOUTH AFRICA",
          "SOUTH KOREA",
          "SOUTH SUDAN",
          "SPAIN",
          "SRI LANKA",
          "SUDAN",
          "SURINAME",
          "SWEDEN",
          "SWITZERLAND",
          "SYRIA",
          "TAIWAN",
          "TAJIKISTAN",
          "TANZANIA",
          "THAILAND",
          "TIMOR-LESTE",
          "TOGO",
          "TRINIDAD AND TOBAGO",
          "TUNISIA",
          "TURKEY",
          "TURKMENISTAN",
          "UGANDA",
          "UKRAINE",
          "UNITED ARAB EMIRATES",
          "UNITED KINGDOM",
          "URUGUAY",
          "USA",
          "UZBEKISTAN",
          "VANUATU",
          "VENEZUELA",
          "VIETNAM",
          "ZAMBIA",
          "ZIMBABWE"
         ],
         "type": "choropleth",
         "z": [
          0.9041569013701476,
          0.9066273410946354,
          0.5056533856441886,
          0.9855072463768116,
          0.6427019020787502,
          0.8501899095304769,
          0.8744062018328295,
          0.9567437986545146,
          0.9316239316239316,
          0.8821829275307108,
          0.7223270397045923,
          0.7306243244167689,
          0.993718217070617,
          0.9155652959480711,
          0.7608851197836634,
          0.6769901328155675,
          0.9045599885022066,
          0.9951719975859988,
          0.7948150053474127,
          0.9264730400425565,
          0.811692446485893,
          0.7925130701012469,
          0.8680739230788372,
          0.6533510474310117,
          0.9329214701481437,
          0.6417557276769679,
          0.6256684491978609,
          0.6909188897871194,
          0.8612657148645059,
          0.9579967610023257,
          0.859368389054367,
          0.7002956393200296,
          0.6024328057329457,
          0.6398980526987421,
          0.9554515050167224,
          0.6697365320777062,
          0.8829332972175667,
          0.855826433403952,
          0.7669507639409269,
          0.8636363636363636,
          0.9725333333333334,
          0.6997840172786177,
          0.7210582271569719,
          0.862224897924946,
          0.7794274604885864,
          1,
          0.7316913658873205,
          0.5946196660482375,
          1,
          0.785961806751036,
          0.6666666666666666,
          0.8594696969696969,
          0.823765223818246,
          0.6827112991999619,
          0.674010349349014,
          0.8449652626123214,
          0.5690951316838334,
          0.8391615791615792,
          0.8529417249417248,
          0.47532179957899984,
          0.7249107411350836,
          0.6523885628391998,
          0.9666666666666667,
          0.9817276148346474,
          0.8734126984126984,
          1,
          0.8745037050636455,
          0.9781446889436456,
          0.6725712862092179,
          0.6611664249266596,
          0.9635703688068619,
          0.9081380933974619,
          0.839201388888889,
          0.8952456707969816,
          0.9630257020263664,
          0.8028490256653417,
          0.9537577128040361,
          0.8434120789216302,
          0.773670292799726,
          0.915422771705127,
          0.925833935761552,
          0.9259704112046203,
          0.825,
          0.8345821214625827,
          0.9487179487179487,
          0.5753273158876246,
          1,
          0.47435897435897434,
          0.9712746858168761,
          0.7906740840816502,
          0.9197080291970803,
          0.7670840824368396,
          0.5262666074852567,
          1,
          0.753307353354563,
          0.9362912400455062,
          0.8845416963578409,
          0.9325218055645843,
          0.5,
          0.8316433487533879,
          0.9765861950782068,
          0.7189517338276162,
          0.8271964515655632,
          0.9290415099550033,
          0.9639278547710314,
          0.7443652101322228,
          0.903114732867044,
          0.9812935171774225,
          0.7068965517241379,
          0.8459460598593298,
          0.5494843355826765,
          0.8506770833333334,
          0.8737622568491092,
          0.9894736842105264,
          0.9399758331822132,
          0.6159371892722955,
          0.8756195236980256,
          0.8512285159660341,
          0.7333333333333334,
          0.9455883528096031,
          0.9124101025723429,
          0.8977777777777778,
          0.8870798319327732,
          0.8940002611969589,
          0.8997868484576156,
          0.9757402250061594,
          0.9043937453101716,
          0.8980322003577818,
          0.9954233409610984,
          0.8418949771689498,
          0.8964842000180159,
          0.5246211998124818,
          0.9037092132669402,
          1,
          0.8952071650172574,
          0.593939393939394,
          0.9406392694063926,
          0.9628390829463097,
          0.9046814024301769,
          1,
          0.8563487931594549,
          0.8150370324267987,
          0.6128343146717323,
          0.916092193411781,
          0.9172568172568172,
          0.9411962365591399,
          0.6098029655548226,
          0.9605393046290754,
          0.8067353067353067,
          0.8343923688857169,
          0.96048880079975,
          0.9444444444444444,
          0.7287740811124581,
          0.9104377104377104,
          0.7451413074826035,
          0.8861604438748281,
          0.9826876366516232,
          0.6710586075387448,
          0.9303942386006607,
          0.7767105821025995,
          0.9577915148993089,
          0.9597701149425287,
          0.9700838248431538,
          0.8520097023448926,
          0.9207317073170732,
          0.7730171935839825,
          0.8555710274523903,
          0.885205044903164,
          0.8132005854633216
         ]
        }
       ],
       "layout": {
        "annotations": [
         {
          "showarrow": false,
          "text": "Source: <a href=\"https://www.kaggle.com/ma7555/schengen-visa-stats#2018-data-for-consulates.csv\">            Kaggle",
          "x": 0.55,
          "xref": "paper",
          "y": 0.1,
          "yref": "paper"
         }
        ],
        "geo": {
         "projection": {
          "type": "kavrayskiy7"
         },
         "showcoastlines": false,
         "showframe": false
        },
        "template": {
         "data": {
          "bar": [
           {
            "error_x": {
             "color": "#2a3f5f"
            },
            "error_y": {
             "color": "#2a3f5f"
            },
            "marker": {
             "line": {
              "color": "#E5ECF6",
              "width": 0.5
             }
            },
            "type": "bar"
           }
          ],
          "barpolar": [
           {
            "marker": {
             "line": {
              "color": "#E5ECF6",
              "width": 0.5
             }
            },
            "type": "barpolar"
           }
          ],
          "carpet": [
           {
            "aaxis": {
             "endlinecolor": "#2a3f5f",
             "gridcolor": "white",
             "linecolor": "white",
             "minorgridcolor": "white",
             "startlinecolor": "#2a3f5f"
            },
            "baxis": {
             "endlinecolor": "#2a3f5f",
             "gridcolor": "white",
             "linecolor": "white",
             "minorgridcolor": "white",
             "startlinecolor": "#2a3f5f"
            },
            "type": "carpet"
           }
          ],
          "choropleth": [
           {
            "colorbar": {
             "outlinewidth": 0,
             "ticks": ""
            },
            "type": "choropleth"
           }
          ],
          "contour": [
           {
            "colorbar": {
             "outlinewidth": 0,
             "ticks": ""
            },
            "colorscale": [
             [
              0,
              "#0d0887"
             ],
             [
              0.1111111111111111,
              "#46039f"
             ],
             [
              0.2222222222222222,
              "#7201a8"
             ],
             [
              0.3333333333333333,
              "#9c179e"
             ],
             [
              0.4444444444444444,
              "#bd3786"
             ],
             [
              0.5555555555555556,
              "#d8576b"
             ],
             [
              0.6666666666666666,
              "#ed7953"
             ],
             [
              0.7777777777777778,
              "#fb9f3a"
             ],
             [
              0.8888888888888888,
              "#fdca26"
             ],
             [
              1,
              "#f0f921"
             ]
            ],
            "type": "contour"
           }
          ],
          "contourcarpet": [
           {
            "colorbar": {
             "outlinewidth": 0,
             "ticks": ""
            },
            "type": "contourcarpet"
           }
          ],
          "heatmap": [
           {
            "colorbar": {
             "outlinewidth": 0,
             "ticks": ""
            },
            "colorscale": [
             [
              0,
              "#0d0887"
             ],
             [
              0.1111111111111111,
              "#46039f"
             ],
             [
              0.2222222222222222,
              "#7201a8"
             ],
             [
              0.3333333333333333,
              "#9c179e"
             ],
             [
              0.4444444444444444,
              "#bd3786"
             ],
             [
              0.5555555555555556,
              "#d8576b"
             ],
             [
              0.6666666666666666,
              "#ed7953"
             ],
             [
              0.7777777777777778,
              "#fb9f3a"
             ],
             [
              0.8888888888888888,
              "#fdca26"
             ],
             [
              1,
              "#f0f921"
             ]
            ],
            "type": "heatmap"
           }
          ],
          "heatmapgl": [
           {
            "colorbar": {
             "outlinewidth": 0,
             "ticks": ""
            },
            "colorscale": [
             [
              0,
              "#0d0887"
             ],
             [
              0.1111111111111111,
              "#46039f"
             ],
             [
              0.2222222222222222,
              "#7201a8"
             ],
             [
              0.3333333333333333,
              "#9c179e"
             ],
             [
              0.4444444444444444,
              "#bd3786"
             ],
             [
              0.5555555555555556,
              "#d8576b"
             ],
             [
              0.6666666666666666,
              "#ed7953"
             ],
             [
              0.7777777777777778,
              "#fb9f3a"
             ],
             [
              0.8888888888888888,
              "#fdca26"
             ],
             [
              1,
              "#f0f921"
             ]
            ],
            "type": "heatmapgl"
           }
          ],
          "histogram": [
           {
            "marker": {
             "colorbar": {
              "outlinewidth": 0,
              "ticks": ""
             }
            },
            "type": "histogram"
           }
          ],
          "histogram2d": [
           {
            "colorbar": {
             "outlinewidth": 0,
             "ticks": ""
            },
            "colorscale": [
             [
              0,
              "#0d0887"
             ],
             [
              0.1111111111111111,
              "#46039f"
             ],
             [
              0.2222222222222222,
              "#7201a8"
             ],
             [
              0.3333333333333333,
              "#9c179e"
             ],
             [
              0.4444444444444444,
              "#bd3786"
             ],
             [
              0.5555555555555556,
              "#d8576b"
             ],
             [
              0.6666666666666666,
              "#ed7953"
             ],
             [
              0.7777777777777778,
              "#fb9f3a"
             ],
             [
              0.8888888888888888,
              "#fdca26"
             ],
             [
              1,
              "#f0f921"
             ]
            ],
            "type": "histogram2d"
           }
          ],
          "histogram2dcontour": [
           {
            "colorbar": {
             "outlinewidth": 0,
             "ticks": ""
            },
            "colorscale": [
             [
              0,
              "#0d0887"
             ],
             [
              0.1111111111111111,
              "#46039f"
             ],
             [
              0.2222222222222222,
              "#7201a8"
             ],
             [
              0.3333333333333333,
              "#9c179e"
             ],
             [
              0.4444444444444444,
              "#bd3786"
             ],
             [
              0.5555555555555556,
              "#d8576b"
             ],
             [
              0.6666666666666666,
              "#ed7953"
             ],
             [
              0.7777777777777778,
              "#fb9f3a"
             ],
             [
              0.8888888888888888,
              "#fdca26"
             ],
             [
              1,
              "#f0f921"
             ]
            ],
            "type": "histogram2dcontour"
           }
          ],
          "mesh3d": [
           {
            "colorbar": {
             "outlinewidth": 0,
             "ticks": ""
            },
            "type": "mesh3d"
           }
          ],
          "parcoords": [
           {
            "line": {
             "colorbar": {
              "outlinewidth": 0,
              "ticks": ""
             }
            },
            "type": "parcoords"
           }
          ],
          "scatter": [
           {
            "marker": {
             "colorbar": {
              "outlinewidth": 0,
              "ticks": ""
             }
            },
            "type": "scatter"
           }
          ],
          "scatter3d": [
           {
            "line": {
             "colorbar": {
              "outlinewidth": 0,
              "ticks": ""
             }
            },
            "marker": {
             "colorbar": {
              "outlinewidth": 0,
              "ticks": ""
             }
            },
            "type": "scatter3d"
           }
          ],
          "scattercarpet": [
           {
            "marker": {
             "colorbar": {
              "outlinewidth": 0,
              "ticks": ""
             }
            },
            "type": "scattercarpet"
           }
          ],
          "scattergeo": [
           {
            "marker": {
             "colorbar": {
              "outlinewidth": 0,
              "ticks": ""
             }
            },
            "type": "scattergeo"
           }
          ],
          "scattergl": [
           {
            "marker": {
             "colorbar": {
              "outlinewidth": 0,
              "ticks": ""
             }
            },
            "type": "scattergl"
           }
          ],
          "scattermapbox": [
           {
            "marker": {
             "colorbar": {
              "outlinewidth": 0,
              "ticks": ""
             }
            },
            "type": "scattermapbox"
           }
          ],
          "scatterpolar": [
           {
            "marker": {
             "colorbar": {
              "outlinewidth": 0,
              "ticks": ""
             }
            },
            "type": "scatterpolar"
           }
          ],
          "scatterpolargl": [
           {
            "marker": {
             "colorbar": {
              "outlinewidth": 0,
              "ticks": ""
             }
            },
            "type": "scatterpolargl"
           }
          ],
          "scatterternary": [
           {
            "marker": {
             "colorbar": {
              "outlinewidth": 0,
              "ticks": ""
             }
            },
            "type": "scatterternary"
           }
          ],
          "surface": [
           {
            "colorbar": {
             "outlinewidth": 0,
             "ticks": ""
            },
            "colorscale": [
             [
              0,
              "#0d0887"
             ],
             [
              0.1111111111111111,
              "#46039f"
             ],
             [
              0.2222222222222222,
              "#7201a8"
             ],
             [
              0.3333333333333333,
              "#9c179e"
             ],
             [
              0.4444444444444444,
              "#bd3786"
             ],
             [
              0.5555555555555556,
              "#d8576b"
             ],
             [
              0.6666666666666666,
              "#ed7953"
             ],
             [
              0.7777777777777778,
              "#fb9f3a"
             ],
             [
              0.8888888888888888,
              "#fdca26"
             ],
             [
              1,
              "#f0f921"
             ]
            ],
            "type": "surface"
           }
          ],
          "table": [
           {
            "cells": {
             "fill": {
              "color": "#EBF0F8"
             },
             "line": {
              "color": "white"
             }
            },
            "header": {
             "fill": {
              "color": "#C8D4E3"
             },
             "line": {
              "color": "white"
             }
            },
            "type": "table"
           }
          ]
         },
         "layout": {
          "annotationdefaults": {
           "arrowcolor": "#2a3f5f",
           "arrowhead": 0,
           "arrowwidth": 1
          },
          "colorscale": {
           "diverging": [
            [
             0,
             "#8e0152"
            ],
            [
             0.1,
             "#c51b7d"
            ],
            [
             0.2,
             "#de77ae"
            ],
            [
             0.3,
             "#f1b6da"
            ],
            [
             0.4,
             "#fde0ef"
            ],
            [
             0.5,
             "#f7f7f7"
            ],
            [
             0.6,
             "#e6f5d0"
            ],
            [
             0.7,
             "#b8e186"
            ],
            [
             0.8,
             "#7fbc41"
            ],
            [
             0.9,
             "#4d9221"
            ],
            [
             1,
             "#276419"
            ]
           ],
           "sequential": [
            [
             0,
             "#0d0887"
            ],
            [
             0.1111111111111111,
             "#46039f"
            ],
            [
             0.2222222222222222,
             "#7201a8"
            ],
            [
             0.3333333333333333,
             "#9c179e"
            ],
            [
             0.4444444444444444,
             "#bd3786"
            ],
            [
             0.5555555555555556,
             "#d8576b"
            ],
            [
             0.6666666666666666,
             "#ed7953"
            ],
            [
             0.7777777777777778,
             "#fb9f3a"
            ],
            [
             0.8888888888888888,
             "#fdca26"
            ],
            [
             1,
             "#f0f921"
            ]
           ],
           "sequentialminus": [
            [
             0,
             "#0d0887"
            ],
            [
             0.1111111111111111,
             "#46039f"
            ],
            [
             0.2222222222222222,
             "#7201a8"
            ],
            [
             0.3333333333333333,
             "#9c179e"
            ],
            [
             0.4444444444444444,
             "#bd3786"
            ],
            [
             0.5555555555555556,
             "#d8576b"
            ],
            [
             0.6666666666666666,
             "#ed7953"
            ],
            [
             0.7777777777777778,
             "#fb9f3a"
            ],
            [
             0.8888888888888888,
             "#fdca26"
            ],
            [
             1,
             "#f0f921"
            ]
           ]
          },
          "colorway": [
           "#636efa",
           "#EF553B",
           "#00cc96",
           "#ab63fa",
           "#FFA15A",
           "#19d3f3",
           "#FF6692",
           "#B6E880",
           "#FF97FF",
           "#FECB52"
          ],
          "font": {
           "color": "#2a3f5f"
          },
          "geo": {
           "bgcolor": "white",
           "lakecolor": "white",
           "landcolor": "#E5ECF6",
           "showlakes": true,
           "showland": true,
           "subunitcolor": "white"
          },
          "hoverlabel": {
           "align": "left"
          },
          "hovermode": "closest",
          "mapbox": {
           "style": "light"
          },
          "paper_bgcolor": "white",
          "plot_bgcolor": "#E5ECF6",
          "polar": {
           "angularaxis": {
            "gridcolor": "white",
            "linecolor": "white",
            "ticks": ""
           },
           "bgcolor": "#E5ECF6",
           "radialaxis": {
            "gridcolor": "white",
            "linecolor": "white",
            "ticks": ""
           }
          },
          "scene": {
           "xaxis": {
            "backgroundcolor": "#E5ECF6",
            "gridcolor": "white",
            "gridwidth": 2,
            "linecolor": "white",
            "showbackground": true,
            "ticks": "",
            "zerolinecolor": "white"
           },
           "yaxis": {
            "backgroundcolor": "#E5ECF6",
            "gridcolor": "white",
            "gridwidth": 2,
            "linecolor": "white",
            "showbackground": true,
            "ticks": "",
            "zerolinecolor": "white"
           },
           "zaxis": {
            "backgroundcolor": "#E5ECF6",
            "gridcolor": "white",
            "gridwidth": 2,
            "linecolor": "white",
            "showbackground": true,
            "ticks": "",
            "zerolinecolor": "white"
           }
          },
          "shapedefaults": {
           "line": {
            "color": "#2a3f5f"
           }
          },
          "ternary": {
           "aaxis": {
            "gridcolor": "white",
            "linecolor": "white",
            "ticks": ""
           },
           "baxis": {
            "gridcolor": "white",
            "linecolor": "white",
            "ticks": ""
           },
           "bgcolor": "#E5ECF6",
           "caxis": {
            "gridcolor": "white",
            "linecolor": "white",
            "ticks": ""
           }
          },
          "title": {
           "x": 0.05
          },
          "xaxis": {
           "automargin": true,
           "gridcolor": "white",
           "linecolor": "white",
           "ticks": "",
           "zerolinecolor": "white",
           "zerolinewidth": 2
          },
          "yaxis": {
           "automargin": true,
           "gridcolor": "white",
           "linecolor": "white",
           "ticks": "",
           "zerolinecolor": "white",
           "zerolinewidth": 2
          }
         }
        },
        "title": {
         "text": "Share of issued visas"
        }
       }
      },
      "text/html": [
       "<div>\n",
       "        \n",
       "        \n",
       "            <div id=\"2cbbbc60-8bf5-40c4-a633-bd04c0c049e4\" class=\"plotly-graph-div\" style=\"height:525px; width:100%;\"></div>\n",
       "            <script type=\"text/javascript\">\n",
       "                require([\"plotly\"], function(Plotly) {\n",
       "                    window.PLOTLYENV=window.PLOTLYENV || {};\n",
       "                    \n",
       "                if (document.getElementById(\"2cbbbc60-8bf5-40c4-a633-bd04c0c049e4\")) {\n",
       "                    Plotly.newPlot(\n",
       "                        '2cbbbc60-8bf5-40c4-a633-bd04c0c049e4',\n",
       "                        [{\"autocolorscale\": false, \"colorbar\": {\"tickprefix\": \" \", \"title\": {\"text\": \"Share of issued visas\"}}, \"colorscale\": [[0.0, \"rgb(247,251,255)\"], [0.125, \"rgb(222,235,247)\"], [0.25, \"rgb(198,219,239)\"], [0.375, \"rgb(158,202,225)\"], [0.5, \"rgb(107,174,214)\"], [0.625, \"rgb(66,146,198)\"], [0.75, \"rgb(33,113,181)\"], [0.875, \"rgb(8,81,156)\"], [1.0, \"rgb(8,48,107)\"]], \"locations\": [\"AFG\", \"ALB\", \"DZA\", \"AND\", \"AGO\", \"ARG\", \"ARM\", \"AUS\", \"AUT\", \"AZE\", \"BHR\", \"BGD\", \"BLR\", \"BEL\", \"BEN\", \"BOL\", \"BIH\", \"BWA\", \"BRA\", \"BGR\", \"BFA\", \"BDI\", \"KHM\", \"CMR\", \"CAN\", \"CPV\", \"CAF\", \"TCD\", \"CHL\", \"CHN\", \"COL\", \"COM\", \"COG\", \"COD\", \"CRI\", \"CIV\", \"HRV\", \"CUB\", \"CYP\", \"CZE\", \"DNK\", \"DJI\", \"DOM\", \"ECU\", \"EGY\", \"SLV\", \"GNQ\", \"ERI\", \"EST\", \"ETH\", \"FJI\", \"FIN\", \"FRA\", \"GAB\", \"GEO\", \"DEU\", \"GHA\", \"GRC\", \"GTM\", \"GIN\", \"GNB\", \"HTI\", \"HND\", \"HKG\", \"HUN\", \"ISL\", \"IND\", \"IDN\", \"IRN\", \"IRQ\", \"IRL\", \"ISR\", \"ITA\", \"JAM\", \"JPN\", \"JOR\", \"KAZ\", \"KEN\", \"KSV\", \"KWT\", \"KGZ\", \"LAO\", \"LVA\", \"LBN\", \"LBR\", \"LBY\", \"LTU\", \"LUX\", \"MAC\", \"MDG\", \"MWI\", \"MYS\", \"MLI\", \"MLT\", \"MRT\", \"MUS\", \"MEX\", \"MDA\", \"MCO\", \"MNG\", \"MNE\", \"MAR\", \"MOZ\", \"MMR\", \"NAM\", \"NPL\", \"NLD\", \"NZL\", \"NIC\", \"NER\", \"NGA\", \"PRK\", \"MKD\", \"NOR\", \"OMN\", \"PAK\", \"PSE\", \"PAN\", \"PRY\", \"PER\", \"PHL\", \"POL\", \"PRT\", \"QAT\", \"ROU\", \"RUS\", \"RWA\", \"LCA\", \"SMR\", \"STP\", \"SAU\", \"SEN\", \"SRB\", \"SYC\", \"SGP\", \"SVK\", \"SVN\", \"ZAF\", \"KOR\", \"SSD\", \"ESP\", \"LKA\", \"SDN\", \"SUR\", \"SWE\", \"CHE\", \"SYR\", \"TWN\", \"TJK\", \"TZA\", \"THA\", \"TLS\", \"TGO\", \"TTO\", \"TUN\", \"TUR\", \"TKM\", \"UGA\", \"UKR\", \"ARE\", \"GBR\", \"URY\", \"USA\", \"UZB\", \"VUT\", \"VEN\", \"VNM\", \"ZMB\", \"ZWE\"], \"marker\": {\"line\": {\"color\": \"darkgray\", \"width\": 0.5}}, \"reversescale\": false, \"text\": [\"AFGHANISTAN\", \"ALBANIA\", \"ALGERIA\", \"ANDORRA\", \"ANGOLA\", \"ARGENTINA\", \"ARMENIA\", \"AUSTRALIA\", \"AUSTRIA\", \"AZERBAIJAN\", \"BAHRAIN\", \"BANGLADESH\", \"BELARUS\", \"BELGIUM\", \"BENIN\", \"BOLIVIA\", \"BOSNIA AND HERZEGOVINA\", \"BOTSWANA\", \"BRAZIL\", \"BULGARIA\", \"BURKINA FASO\", \"BURUNDI\", \"CAMBODIA\", \"CAMEROON\", \"CANADA\", \"CAPE VERDE\", \"CENTRAL AFRICAN REPUBLIC\", \"CHAD\", \"CHILE\", \"CHINA\", \"COLOMBIA\", \"COMOROS\", \"CONGO (BRAZZAVILLE)\", \"CONGO (DEMOCRATIC REPUBLIC)\", \"COSTA RICA\", \"COTE D'IVOIRE\", \"CROATIA\", \"CUBA\", \"CYPRUS\", \"CZECH REPUBLIC\", \"DENMARK\", \"DJIBOUTI\", \"DOMINICAN REPUBLIC\", \"ECUADOR\", \"EGYPT\", \"EL SALVADOR\", \"EQUATORIAL GUINEA\", \"ERITREA\", \"ESTONIA\", \"ETHIOPIA\", \"FIJI\", \"FINLAND\", \"FRANCE\", \"GABON\", \"GEORGIA\", \"GERMANY\", \"GHANA\", \"GREECE\", \"GUATEMALA\", \"GUINEA\", \"GUINEA-BISSAU\", \"HAITI\", \"HONDURAS\", \"HONG KONG S.A.R.\", \"HUNGARY\", \"ICELAND\", \"INDIA\", \"INDONESIA\", \"IRAN\", \"IRAQ\", \"IRELAND\", \"ISRAEL\", \"ITALY\", \"JAMAICA\", \"JAPAN\", \"JORDAN\", \"KAZAKHSTAN\", \"KENYA\", \"KOSOVO\", \"KUWAIT\", \"KYRGYZSTAN\", \"LAOS\", \"LATVIA\", \"LEBANON\", \"LIBERIA\", \"LIBYA\", \"LITHUANIA\", \"LUXEMBOURG\", \"MACAO S.A.R.\", \"MADAGASCAR\", \"MALAWI\", \"MALAYSIA\", \"MALI\", \"MALTA\", \"MAURITANIA\", \"MAURITIUS\", \"MEXICO\", \"MOLDOVA\", \"MONACO\", \"MONGOLIA\", \"MONTENEGRO\", \"MOROCCO\", \"MOZAMBIQUE\", \"MYANMAR\", \"NAMIBIA\", \"NEPAL\", \"NETHERLANDS\", \"NEW ZEALAND\", \"NICARAGUA\", \"NIGER\", \"NIGERIA\", \"NORTH KOREA\", \"NORTH MACEDONIA\", \"NORWAY\", \"OMAN\", \"PAKISTAN\", \"PALESTINIAN AUTHORITY\", \"PANAMA\", \"PARAGUAY\", \"PERU\", \"PHILIPPINES\", \"POLAND\", \"PORTUGAL\", \"QATAR\", \"ROMANIA\", \"RUSSIAN FEDERATION\", \"RWANDA\", \"SAINT LUCIA\", \"SAN MARINO\", \"SAO TOME AND PRINCIPE\", \"SAUDI ARABIA\", \"SENEGAL\", \"SERBIA\", \"SEYCHELLES\", \"SINGAPORE\", \"SLOVAKIA\", \"SLOVENIA\", \"SOUTH AFRICA\", \"SOUTH KOREA\", \"SOUTH SUDAN\", \"SPAIN\", \"SRI LANKA\", \"SUDAN\", \"SURINAME\", \"SWEDEN\", \"SWITZERLAND\", \"SYRIA\", \"TAIWAN\", \"TAJIKISTAN\", \"TANZANIA\", \"THAILAND\", \"TIMOR-LESTE\", \"TOGO\", \"TRINIDAD AND TOBAGO\", \"TUNISIA\", \"TURKEY\", \"TURKMENISTAN\", \"UGANDA\", \"UKRAINE\", \"UNITED ARAB EMIRATES\", \"UNITED KINGDOM\", \"URUGUAY\", \"USA\", \"UZBEKISTAN\", \"VANUATU\", \"VENEZUELA\", \"VIETNAM\", \"ZAMBIA\", \"ZIMBABWE\"], \"type\": \"choropleth\", \"z\": [0.9041569013701476, 0.9066273410946354, 0.5056533856441886, 0.9855072463768116, 0.6427019020787502, 0.8501899095304769, 0.8744062018328295, 0.9567437986545146, 0.9316239316239316, 0.8821829275307108, 0.7223270397045923, 0.7306243244167689, 0.993718217070617, 0.9155652959480711, 0.7608851197836634, 0.6769901328155675, 0.9045599885022066, 0.9951719975859988, 0.7948150053474127, 0.9264730400425565, 0.811692446485893, 0.7925130701012469, 0.8680739230788372, 0.6533510474310117, 0.9329214701481437, 0.6417557276769679, 0.6256684491978609, 0.6909188897871194, 0.8612657148645059, 0.9579967610023257, 0.859368389054367, 0.7002956393200296, 0.6024328057329457, 0.6398980526987421, 0.9554515050167224, 0.6697365320777062, 0.8829332972175667, 0.855826433403952, 0.7669507639409269, 0.8636363636363636, 0.9725333333333334, 0.6997840172786177, 0.7210582271569719, 0.862224897924946, 0.7794274604885864, 1.0, 0.7316913658873205, 0.5946196660482375, 1.0, 0.785961806751036, 0.6666666666666666, 0.8594696969696969, 0.823765223818246, 0.6827112991999619, 0.674010349349014, 0.8449652626123214, 0.5690951316838334, 0.8391615791615792, 0.8529417249417248, 0.47532179957899984, 0.7249107411350836, 0.6523885628391998, 0.9666666666666667, 0.9817276148346474, 0.8734126984126984, 1.0, 0.8745037050636455, 0.9781446889436456, 0.6725712862092179, 0.6611664249266596, 0.9635703688068619, 0.9081380933974619, 0.839201388888889, 0.8952456707969816, 0.9630257020263664, 0.8028490256653417, 0.9537577128040361, 0.8434120789216302, 0.773670292799726, 0.915422771705127, 0.925833935761552, 0.9259704112046203, 0.825, 0.8345821214625827, 0.9487179487179487, 0.5753273158876246, 1.0, 0.47435897435897434, 0.9712746858168761, 0.7906740840816502, 0.9197080291970803, 0.7670840824368396, 0.5262666074852567, 1.0, 0.753307353354563, 0.9362912400455062, 0.8845416963578409, 0.9325218055645843, 0.5, 0.8316433487533879, 0.9765861950782068, 0.7189517338276162, 0.8271964515655632, 0.9290415099550033, 0.9639278547710314, 0.7443652101322228, 0.903114732867044, 0.9812935171774225, 0.7068965517241379, 0.8459460598593298, 0.5494843355826765, 0.8506770833333334, 0.8737622568491092, 0.9894736842105264, 0.9399758331822132, 0.6159371892722955, 0.8756195236980256, 0.8512285159660341, 0.7333333333333334, 0.9455883528096031, 0.9124101025723429, 0.8977777777777778, 0.8870798319327732, 0.8940002611969589, 0.8997868484576156, 0.9757402250061594, 0.9043937453101716, 0.8980322003577818, 0.9954233409610984, 0.8418949771689498, 0.8964842000180159, 0.5246211998124818, 0.9037092132669402, 1.0, 0.8952071650172574, 0.593939393939394, 0.9406392694063926, 0.9628390829463097, 0.9046814024301769, 1.0, 0.8563487931594549, 0.8150370324267987, 0.6128343146717323, 0.916092193411781, 0.9172568172568172, 0.9411962365591399, 0.6098029655548226, 0.9605393046290754, 0.8067353067353067, 0.8343923688857169, 0.96048880079975, 0.9444444444444444, 0.7287740811124581, 0.9104377104377104, 0.7451413074826035, 0.8861604438748281, 0.9826876366516232, 0.6710586075387448, 0.9303942386006607, 0.7767105821025995, 0.9577915148993089, 0.9597701149425287, 0.9700838248431538, 0.8520097023448926, 0.9207317073170732, 0.7730171935839825, 0.8555710274523903, 0.885205044903164, 0.8132005854633216]}],\n",
       "                        {\"annotations\": [{\"showarrow\": false, \"text\": \"Source: <a href=\\\"https://www.kaggle.com/ma7555/schengen-visa-stats#2018-data-for-consulates.csv\\\">            Kaggle\", \"x\": 0.55, \"xref\": \"paper\", \"y\": 0.1, \"yref\": \"paper\"}], \"geo\": {\"projection\": {\"type\": \"kavrayskiy7\"}, \"showcoastlines\": false, \"showframe\": false}, \"template\": {\"data\": {\"bar\": [{\"error_x\": {\"color\": \"#2a3f5f\"}, \"error_y\": {\"color\": \"#2a3f5f\"}, \"marker\": {\"line\": {\"color\": \"#E5ECF6\", \"width\": 0.5}}, \"type\": \"bar\"}], \"barpolar\": [{\"marker\": {\"line\": {\"color\": \"#E5ECF6\", \"width\": 0.5}}, \"type\": \"barpolar\"}], \"carpet\": [{\"aaxis\": {\"endlinecolor\": \"#2a3f5f\", \"gridcolor\": \"white\", \"linecolor\": \"white\", \"minorgridcolor\": \"white\", \"startlinecolor\": \"#2a3f5f\"}, \"baxis\": {\"endlinecolor\": \"#2a3f5f\", \"gridcolor\": \"white\", \"linecolor\": \"white\", \"minorgridcolor\": \"white\", \"startlinecolor\": \"#2a3f5f\"}, \"type\": \"carpet\"}], \"choropleth\": [{\"colorbar\": {\"outlinewidth\": 0, \"ticks\": \"\"}, \"type\": \"choropleth\"}], \"contour\": [{\"colorbar\": {\"outlinewidth\": 0, \"ticks\": \"\"}, \"colorscale\": [[0.0, \"#0d0887\"], [0.1111111111111111, \"#46039f\"], [0.2222222222222222, \"#7201a8\"], [0.3333333333333333, \"#9c179e\"], [0.4444444444444444, \"#bd3786\"], [0.5555555555555556, \"#d8576b\"], [0.6666666666666666, \"#ed7953\"], [0.7777777777777778, \"#fb9f3a\"], [0.8888888888888888, \"#fdca26\"], [1.0, \"#f0f921\"]], \"type\": \"contour\"}], \"contourcarpet\": [{\"colorbar\": {\"outlinewidth\": 0, \"ticks\": \"\"}, \"type\": \"contourcarpet\"}], \"heatmap\": [{\"colorbar\": {\"outlinewidth\": 0, \"ticks\": \"\"}, \"colorscale\": [[0.0, \"#0d0887\"], [0.1111111111111111, \"#46039f\"], [0.2222222222222222, \"#7201a8\"], [0.3333333333333333, \"#9c179e\"], [0.4444444444444444, \"#bd3786\"], [0.5555555555555556, \"#d8576b\"], [0.6666666666666666, \"#ed7953\"], [0.7777777777777778, \"#fb9f3a\"], [0.8888888888888888, \"#fdca26\"], [1.0, \"#f0f921\"]], \"type\": \"heatmap\"}], \"heatmapgl\": [{\"colorbar\": {\"outlinewidth\": 0, \"ticks\": \"\"}, \"colorscale\": [[0.0, \"#0d0887\"], [0.1111111111111111, \"#46039f\"], [0.2222222222222222, \"#7201a8\"], [0.3333333333333333, \"#9c179e\"], [0.4444444444444444, \"#bd3786\"], [0.5555555555555556, \"#d8576b\"], [0.6666666666666666, \"#ed7953\"], [0.7777777777777778, \"#fb9f3a\"], [0.8888888888888888, \"#fdca26\"], [1.0, \"#f0f921\"]], \"type\": \"heatmapgl\"}], \"histogram\": [{\"marker\": {\"colorbar\": {\"outlinewidth\": 0, \"ticks\": \"\"}}, \"type\": \"histogram\"}], \"histogram2d\": [{\"colorbar\": {\"outlinewidth\": 0, \"ticks\": \"\"}, \"colorscale\": [[0.0, \"#0d0887\"], [0.1111111111111111, \"#46039f\"], [0.2222222222222222, \"#7201a8\"], [0.3333333333333333, \"#9c179e\"], [0.4444444444444444, \"#bd3786\"], [0.5555555555555556, \"#d8576b\"], [0.6666666666666666, \"#ed7953\"], [0.7777777777777778, \"#fb9f3a\"], [0.8888888888888888, \"#fdca26\"], [1.0, \"#f0f921\"]], \"type\": \"histogram2d\"}], \"histogram2dcontour\": [{\"colorbar\": {\"outlinewidth\": 0, \"ticks\": \"\"}, \"colorscale\": [[0.0, \"#0d0887\"], [0.1111111111111111, \"#46039f\"], [0.2222222222222222, \"#7201a8\"], [0.3333333333333333, \"#9c179e\"], [0.4444444444444444, \"#bd3786\"], [0.5555555555555556, \"#d8576b\"], [0.6666666666666666, \"#ed7953\"], [0.7777777777777778, \"#fb9f3a\"], [0.8888888888888888, \"#fdca26\"], [1.0, \"#f0f921\"]], \"type\": \"histogram2dcontour\"}], \"mesh3d\": [{\"colorbar\": {\"outlinewidth\": 0, \"ticks\": \"\"}, \"type\": \"mesh3d\"}], \"parcoords\": [{\"line\": {\"colorbar\": {\"outlinewidth\": 0, \"ticks\": \"\"}}, \"type\": \"parcoords\"}], \"scatter\": [{\"marker\": {\"colorbar\": {\"outlinewidth\": 0, \"ticks\": \"\"}}, \"type\": \"scatter\"}], \"scatter3d\": [{\"line\": {\"colorbar\": {\"outlinewidth\": 0, \"ticks\": \"\"}}, \"marker\": {\"colorbar\": {\"outlinewidth\": 0, \"ticks\": \"\"}}, \"type\": \"scatter3d\"}], \"scattercarpet\": [{\"marker\": {\"colorbar\": {\"outlinewidth\": 0, \"ticks\": \"\"}}, \"type\": \"scattercarpet\"}], \"scattergeo\": [{\"marker\": {\"colorbar\": {\"outlinewidth\": 0, \"ticks\": \"\"}}, \"type\": \"scattergeo\"}], \"scattergl\": [{\"marker\": {\"colorbar\": {\"outlinewidth\": 0, \"ticks\": \"\"}}, \"type\": \"scattergl\"}], \"scattermapbox\": [{\"marker\": {\"colorbar\": {\"outlinewidth\": 0, \"ticks\": \"\"}}, \"type\": \"scattermapbox\"}], \"scatterpolar\": [{\"marker\": {\"colorbar\": {\"outlinewidth\": 0, \"ticks\": \"\"}}, \"type\": \"scatterpolar\"}], \"scatterpolargl\": [{\"marker\": {\"colorbar\": {\"outlinewidth\": 0, \"ticks\": \"\"}}, \"type\": \"scatterpolargl\"}], \"scatterternary\": [{\"marker\": {\"colorbar\": {\"outlinewidth\": 0, \"ticks\": \"\"}}, \"type\": \"scatterternary\"}], \"surface\": [{\"colorbar\": {\"outlinewidth\": 0, \"ticks\": \"\"}, \"colorscale\": [[0.0, \"#0d0887\"], [0.1111111111111111, \"#46039f\"], [0.2222222222222222, \"#7201a8\"], [0.3333333333333333, \"#9c179e\"], [0.4444444444444444, \"#bd3786\"], [0.5555555555555556, \"#d8576b\"], [0.6666666666666666, \"#ed7953\"], [0.7777777777777778, \"#fb9f3a\"], [0.8888888888888888, \"#fdca26\"], [1.0, \"#f0f921\"]], \"type\": \"surface\"}], \"table\": [{\"cells\": {\"fill\": {\"color\": \"#EBF0F8\"}, \"line\": {\"color\": \"white\"}}, \"header\": {\"fill\": {\"color\": \"#C8D4E3\"}, \"line\": {\"color\": \"white\"}}, \"type\": \"table\"}]}, \"layout\": {\"annotationdefaults\": {\"arrowcolor\": \"#2a3f5f\", \"arrowhead\": 0, \"arrowwidth\": 1}, \"colorscale\": {\"diverging\": [[0, \"#8e0152\"], [0.1, \"#c51b7d\"], [0.2, \"#de77ae\"], [0.3, \"#f1b6da\"], [0.4, \"#fde0ef\"], [0.5, \"#f7f7f7\"], [0.6, \"#e6f5d0\"], [0.7, \"#b8e186\"], [0.8, \"#7fbc41\"], [0.9, \"#4d9221\"], [1, \"#276419\"]], \"sequential\": [[0.0, \"#0d0887\"], [0.1111111111111111, \"#46039f\"], [0.2222222222222222, \"#7201a8\"], [0.3333333333333333, \"#9c179e\"], [0.4444444444444444, \"#bd3786\"], [0.5555555555555556, \"#d8576b\"], [0.6666666666666666, \"#ed7953\"], [0.7777777777777778, \"#fb9f3a\"], [0.8888888888888888, \"#fdca26\"], [1.0, \"#f0f921\"]], \"sequentialminus\": [[0.0, \"#0d0887\"], [0.1111111111111111, \"#46039f\"], [0.2222222222222222, \"#7201a8\"], [0.3333333333333333, \"#9c179e\"], [0.4444444444444444, \"#bd3786\"], [0.5555555555555556, \"#d8576b\"], [0.6666666666666666, \"#ed7953\"], [0.7777777777777778, \"#fb9f3a\"], [0.8888888888888888, \"#fdca26\"], [1.0, \"#f0f921\"]]}, \"colorway\": [\"#636efa\", \"#EF553B\", \"#00cc96\", \"#ab63fa\", \"#FFA15A\", \"#19d3f3\", \"#FF6692\", \"#B6E880\", \"#FF97FF\", \"#FECB52\"], \"font\": {\"color\": \"#2a3f5f\"}, \"geo\": {\"bgcolor\": \"white\", \"lakecolor\": \"white\", \"landcolor\": \"#E5ECF6\", \"showlakes\": true, \"showland\": true, \"subunitcolor\": \"white\"}, \"hoverlabel\": {\"align\": \"left\"}, \"hovermode\": \"closest\", \"mapbox\": {\"style\": \"light\"}, \"paper_bgcolor\": \"white\", \"plot_bgcolor\": \"#E5ECF6\", \"polar\": {\"angularaxis\": {\"gridcolor\": \"white\", \"linecolor\": \"white\", \"ticks\": \"\"}, \"bgcolor\": \"#E5ECF6\", \"radialaxis\": {\"gridcolor\": \"white\", \"linecolor\": \"white\", \"ticks\": \"\"}}, \"scene\": {\"xaxis\": {\"backgroundcolor\": \"#E5ECF6\", \"gridcolor\": \"white\", \"gridwidth\": 2, \"linecolor\": \"white\", \"showbackground\": true, \"ticks\": \"\", \"zerolinecolor\": \"white\"}, \"yaxis\": {\"backgroundcolor\": \"#E5ECF6\", \"gridcolor\": \"white\", \"gridwidth\": 2, \"linecolor\": \"white\", \"showbackground\": true, \"ticks\": \"\", \"zerolinecolor\": \"white\"}, \"zaxis\": {\"backgroundcolor\": \"#E5ECF6\", \"gridcolor\": \"white\", \"gridwidth\": 2, \"linecolor\": \"white\", \"showbackground\": true, \"ticks\": \"\", \"zerolinecolor\": \"white\"}}, \"shapedefaults\": {\"line\": {\"color\": \"#2a3f5f\"}}, \"ternary\": {\"aaxis\": {\"gridcolor\": \"white\", \"linecolor\": \"white\", \"ticks\": \"\"}, \"baxis\": {\"gridcolor\": \"white\", \"linecolor\": \"white\", \"ticks\": \"\"}, \"bgcolor\": \"#E5ECF6\", \"caxis\": {\"gridcolor\": \"white\", \"linecolor\": \"white\", \"ticks\": \"\"}}, \"title\": {\"x\": 0.05}, \"xaxis\": {\"automargin\": true, \"gridcolor\": \"white\", \"linecolor\": \"white\", \"ticks\": \"\", \"zerolinecolor\": \"white\", \"zerolinewidth\": 2}, \"yaxis\": {\"automargin\": true, \"gridcolor\": \"white\", \"linecolor\": \"white\", \"ticks\": \"\", \"zerolinecolor\": \"white\", \"zerolinewidth\": 2}}}, \"title\": {\"text\": \"Share of issued visas\"}},\n",
       "                        {\"responsive\": true}\n",
       "                    ).then(function(){\n",
       "                            \n",
       "var gd = document.getElementById('2cbbbc60-8bf5-40c4-a633-bd04c0c049e4');\n",
       "var x = new MutationObserver(function (mutations, observer) {{\n",
       "        var display = window.getComputedStyle(gd).display;\n",
       "        if (!display || display === 'none') {{\n",
       "            console.log([gd, 'removed!']);\n",
       "            Plotly.purge(gd);\n",
       "            observer.disconnect();\n",
       "        }}\n",
       "}});\n",
       "\n",
       "// Listen for the removal of the full notebook cells\n",
       "var notebookContainer = gd.closest('#notebook-container');\n",
       "if (notebookContainer) {{\n",
       "    x.observe(notebookContainer, {childList: true});\n",
       "}}\n",
       "\n",
       "// Listen for the clearing of the current output cell\n",
       "var outputEl = gd.closest('.output');\n",
       "if (outputEl) {{\n",
       "    x.observe(outputEl, {childList: true});\n",
       "}}\n",
       "\n",
       "                        })\n",
       "                };\n",
       "                });\n",
       "            </script>\n",
       "        </div>"
      ]
     },
     "metadata": {},
     "output_type": "display_data"
    }
   ],
   "source": [
    "mappa(generosity_wld_df['Code'], generosity_wld_df['Share of issued visas'],\\\n",
    "      generosity_wld_df['Country where consulate is located'], 'blues', False,\\\n",
    "      'Share of issued visas', 'Share of issued visas', 'kavrayskiy7',\\\n",
    "      'Source: <a href=\"https://www.kaggle.com/ma7555/schengen-visa-stats#2018-data-for-consulates.csv\">\\\n",
    "            Kaggle')"
   ]
  },
  {
   "cell_type": "markdown",
   "metadata": {},
   "source": [
    "5. Which consulates are more strict that others?"
   ]
  },
  {
   "cell_type": "code",
   "execution_count": 17,
   "metadata": {},
   "outputs": [
    {
     "data": {
      "text/plain": [
       "Consulate\n",
       "ALGIERS      168882.0\n",
       "ORAN          89573.0\n",
       "TEHERAN       80435.0\n",
       "NEW DELHI     67324.0\n",
       "ANNABA        65836.0\n",
       "Name: Numeric not issued visas, dtype: float64"
      ]
     },
     "execution_count": 17,
     "metadata": {},
     "output_type": "execute_result"
    }
   ],
   "source": [
    "numeric_data.groupby(['Consulate'])['Numeric not issued visas'].sum().sort_values(ascending = False).head(5)"
   ]
  },
  {
   "cell_type": "code",
   "execution_count": 18,
   "metadata": {},
   "outputs": [
    {
     "data": {
      "text/plain": [
       "Consulate\n",
       "ALEPPO        1.000000\n",
       "LUBUMBASHI    0.867470\n",
       "VALENCIA      0.800000\n",
       "LAGOS         0.510325\n",
       "MONACO        0.500000\n",
       "Name: Share of not issued visas, dtype: float64"
      ]
     },
     "execution_count": 18,
     "metadata": {},
     "output_type": "execute_result"
    }
   ],
   "source": [
    "numeric_data.groupby(['Consulate'])['Share of not issued visas'].mean().sort_values(ascending = False).head()"
   ]
  },
  {
   "cell_type": "code",
   "execution_count": 36,
   "metadata": {},
   "outputs": [],
   "source": [
    "list_of_severity_world = numeric_data.groupby(['Country where consulate is located'])['Share of not issued visas'].mean()\n",
    "severity_wld_df = list_of_severity_world.reset_index() \n",
    "severity_wld_df['Code'] = codes_world"
   ]
  },
  {
   "cell_type": "code",
   "execution_count": 93,
   "metadata": {},
   "outputs": [
    {
     "data": {
      "application/vnd.plotly.v1+json": {
       "config": {
        "plotlyServerURL": "https://plot.ly"
       },
       "data": [
        {
         "autocolorscale": false,
         "colorbar": {
          "tickprefix": " ",
          "title": {
           "text": "Share of not issued visas"
          }
         },
         "colorscale": [
          [
           0,
           "rgb(255,245,240)"
          ],
          [
           0.125,
           "rgb(254,224,210)"
          ],
          [
           0.25,
           "rgb(252,187,161)"
          ],
          [
           0.375,
           "rgb(252,146,114)"
          ],
          [
           0.5,
           "rgb(251,106,74)"
          ],
          [
           0.625,
           "rgb(239,59,44)"
          ],
          [
           0.75,
           "rgb(203,24,29)"
          ],
          [
           0.875,
           "rgb(165,15,21)"
          ],
          [
           1,
           "rgb(103,0,13)"
          ]
         ],
         "locations": [
          "AFG",
          "ALB",
          "DZA",
          "AND",
          "AGO",
          "ARG",
          "ARM",
          "AUS",
          "AUT",
          "AZE",
          "BHR",
          "BGD",
          "BLR",
          "BEL",
          "BEN",
          "BOL",
          "BIH",
          "BWA",
          "BRA",
          "BGR",
          "BFA",
          "BDI",
          "KHM",
          "CMR",
          "CAN",
          "CPV",
          "CAF",
          "TCD",
          "CHL",
          "CHN",
          "COL",
          "COM",
          "COG",
          "COD",
          "CRI",
          "CIV",
          "HRV",
          "CUB",
          "CYP",
          "CZE",
          "DNK",
          "DJI",
          "DOM",
          "ECU",
          "EGY",
          "SLV",
          "GNQ",
          "ERI",
          "EST",
          "ETH",
          "FJI",
          "FIN",
          "FRA",
          "GAB",
          "GEO",
          "DEU",
          "GHA",
          "GRC",
          "GTM",
          "GIN",
          "HUN",
          "ISL",
          "GNB",
          "HTI",
          "HND",
          "HKG",
          "ITA",
          "JAM",
          "IND",
          "IDN",
          "IRN",
          "IRQ",
          "IRL",
          "ISR",
          "KSV",
          "KWT",
          "KGZ",
          "JPN",
          "JOR",
          "KAZ",
          "KEN",
          "LBY",
          "LTU",
          "LAO",
          "LVA",
          "LBN",
          "LBR",
          "MLI",
          "MLT",
          "LUX",
          "MAC",
          "MDG",
          "MWI",
          "MYS",
          "MCO",
          "MNG",
          "MNE",
          "MRT",
          "MUS",
          "MEX",
          "MDA",
          "MAR",
          "MOZ",
          "MMR",
          "NAM",
          "NPL",
          "NLD",
          "NZL",
          "NIC",
          "NER",
          "NGA",
          "PRK",
          "MKD",
          "NOR",
          "OMN",
          "PAK",
          "PSE",
          "PAN",
          "PRY",
          "PER",
          "PHL",
          "POL",
          "PRT",
          "QAT",
          "ROU",
          "RUS",
          "RWA",
          "LCA",
          "SMR",
          "STP",
          "SAU",
          "SEN",
          "SRB",
          "SYC",
          "SGP",
          "SVK",
          "SVN",
          "ZAF",
          "KOR",
          "SSD",
          "ESP",
          "LKA",
          "SDN",
          "SUR",
          "SWE",
          "CHE",
          "SYR",
          "TWN",
          "TJK",
          "TZA",
          "THA",
          "TLS",
          "TGO",
          "TTO",
          "TUN",
          "TUR",
          "TKM",
          "UGA",
          "UKR",
          "ARE",
          "GBR",
          "URY",
          "USA",
          "UZB",
          "VUT",
          "VEN",
          "VNM",
          "ZMB",
          "ZWE"
         ],
         "marker": {
          "line": {
           "color": "darkgray",
           "width": 0.5
          }
         },
         "reversescale": false,
         "text": [
          "AFGHANISTAN",
          "ALBANIA",
          "ALGERIA",
          "ANDORRA",
          "ANGOLA",
          "ARGENTINA",
          "ARMENIA",
          "AUSTRALIA",
          "AUSTRIA",
          "AZERBAIJAN",
          "BAHRAIN",
          "BANGLADESH",
          "BELARUS",
          "BELGIUM",
          "BENIN",
          "BOLIVIA",
          "BOSNIA AND HERZEGOVINA",
          "BOTSWANA",
          "BRAZIL",
          "BULGARIA",
          "BURKINA FASO",
          "BURUNDI",
          "CAMBODIA",
          "CAMEROON",
          "CANADA",
          "CAPE VERDE",
          "CENTRAL AFRICAN REPUBLIC",
          "CHAD",
          "CHILE",
          "CHINA",
          "COLOMBIA",
          "COMOROS",
          "CONGO (BRAZZAVILLE)",
          "CONGO (DEMOCRATIC REPUBLIC)",
          "COSTA RICA",
          "COTE D'IVOIRE",
          "CROATIA",
          "CUBA",
          "CYPRUS",
          "CZECH REPUBLIC",
          "DENMARK",
          "DJIBOUTI",
          "DOMINICAN REPUBLIC",
          "ECUADOR",
          "EGYPT",
          "EL SALVADOR",
          "EQUATORIAL GUINEA",
          "ERITREA",
          "ESTONIA",
          "ETHIOPIA",
          "FIJI",
          "FINLAND",
          "FRANCE",
          "GABON",
          "GEORGIA",
          "GERMANY",
          "GHANA",
          "GREECE",
          "GUATEMALA",
          "GUINEA",
          "GUINEA-BISSAU",
          "HAITI",
          "HONDURAS",
          "HONG KONG S.A.R.",
          "HUNGARY",
          "ICELAND",
          "INDIA",
          "INDONESIA",
          "IRAN",
          "IRAQ",
          "IRELAND",
          "ISRAEL",
          "ITALY",
          "JAMAICA",
          "JAPAN",
          "JORDAN",
          "KAZAKHSTAN",
          "KENYA",
          "KOSOVO",
          "KUWAIT",
          "KYRGYZSTAN",
          "LAOS",
          "LATVIA",
          "LEBANON",
          "LIBERIA",
          "LIBYA",
          "LITHUANIA",
          "LUXEMBOURG",
          "MACAO S.A.R.",
          "MADAGASCAR",
          "MALAWI",
          "MALAYSIA",
          "MALI",
          "MALTA",
          "MAURITANIA",
          "MAURITIUS",
          "MEXICO",
          "MOLDOVA",
          "MONACO",
          "MONGOLIA",
          "MONTENEGRO",
          "MOROCCO",
          "MOZAMBIQUE",
          "MYANMAR",
          "NAMIBIA",
          "NEPAL",
          "NETHERLANDS",
          "NEW ZEALAND",
          "NICARAGUA",
          "NIGER",
          "NIGERIA",
          "NORTH KOREA",
          "NORTH MACEDONIA",
          "NORWAY",
          "OMAN",
          "PAKISTAN",
          "PALESTINIAN AUTHORITY",
          "PANAMA",
          "PARAGUAY",
          "PERU",
          "PHILIPPINES",
          "POLAND",
          "PORTUGAL",
          "QATAR",
          "ROMANIA",
          "RUSSIAN FEDERATION",
          "RWANDA",
          "SAINT LUCIA",
          "SAN MARINO",
          "SAO TOME AND PRINCIPE",
          "SAUDI ARABIA",
          "SENEGAL",
          "SERBIA",
          "SEYCHELLES",
          "SINGAPORE",
          "SLOVAKIA",
          "SLOVENIA",
          "SOUTH AFRICA",
          "SOUTH KOREA",
          "SOUTH SUDAN",
          "SPAIN",
          "SRI LANKA",
          "SUDAN",
          "SURINAME",
          "SWEDEN",
          "SWITZERLAND",
          "SYRIA",
          "TAIWAN",
          "TAJIKISTAN",
          "TANZANIA",
          "THAILAND",
          "TIMOR-LESTE",
          "TOGO",
          "TRINIDAD AND TOBAGO",
          "TUNISIA",
          "TURKEY",
          "TURKMENISTAN",
          "UGANDA",
          "UKRAINE",
          "UNITED ARAB EMIRATES",
          "UNITED KINGDOM",
          "URUGUAY",
          "USA",
          "UZBEKISTAN",
          "VANUATU",
          "VENEZUELA",
          "VIETNAM",
          "ZAMBIA",
          "ZIMBABWE"
         ],
         "type": "choropleth",
         "z": [
          0.03039949407502154,
          0.08760666745717229,
          0.4403803874097645,
          0,
          0.3472690743963187,
          0.07863514408677218,
          0.12607227506935215,
          0.028236799830831057,
          0.015873015873015872,
          0.1134752978893041,
          0.2766796215084496,
          0.2573244345169551,
          0.00471139609340383,
          0.05023923444976076,
          0.22667420066711821,
          0.13802254923943968,
          0.08964291004851811,
          0.004828002414001207,
          0.18741711423769053,
          0.04761189600512013,
          0.1555495621002029,
          0.12975135894430184,
          0.12584350930112906,
          0.31689391516612125,
          0.03259650612197341,
          0.33089696147526554,
          0.3580456976178901,
          0.2980328752357855,
          0.11199824656684981,
          0.03783646174995261,
          0.12222840714624089,
          0.3757120927852635,
          0.386879212925062,
          0.3435088311232458,
          0.008846153846153847,
          0.3132727005390124,
          0.047475098024588124,
          0.13462643441527655,
          0.20160784856983247,
          0.125,
          0.0018666666666666669,
          0.2761493366244986,
          0.2743162616128254,
          0.13058520717214198,
          0.2069857868072289,
          0,
          0.22193951022855127,
          0.40538033395176254,
          0,
          0.19757420041964716,
          0.3333333333333333,
          0.07386363636363637,
          0.027762092979484284,
          0.31106393791592546,
          0.31310313677754925,
          0.1038065538065538,
          0.41530586816712367,
          0.0683028083028083,
          0,
          0.4943552036837582,
          0.24430901548624784,
          0.32505710770993357,
          0,
          0.01145022250651989,
          0.023809523809523808,
          0,
          0.12059053314083656,
          0.015892755877673706,
          0.31267204504801904,
          0.3238216694100328,
          0.016544005007005085,
          0.07852205247130424,
          0.035104166666666665,
          0.06138393143652903,
          0.023047065765542954,
          0.16916986183381688,
          0.039206982308177006,
          0.14484202120728157,
          0.22910199456639896,
          0.07945500048232682,
          0.07416606423844793,
          0.07097203483854507,
          0.025,
          0.1557786087634172,
          0,
          0.42467268411237535,
          0,
          0.02564102564102564,
          0.02872531418312388,
          0.20370330916152757,
          0.08029197080291971,
          0.22380625857445377,
          0.2823467969455111,
          0,
          0.209716558865661,
          0.019340159271899887,
          0.03694758620427271,
          0.06747819443541571,
          0.5,
          0.16677387188605497,
          0.023413804921793256,
          0.26212254988644357,
          0.05962410364690257,
          0.061029842931069736,
          0.02406595150988074,
          0.24676246364471155,
          0.07851915667088456,
          0.012592447255526539,
          0.25,
          0.1312935649122726,
          0.43789504770063303,
          0.07250000000000001,
          0.10970934887946605,
          0,
          0.048571428484849646,
          0.3690543629900295,
          0.11714027187267288,
          0.12794002925021758,
          0.03333333333333333,
          0.039077235480916524,
          0.08322330720583501,
          0.05555555555555555,
          0.08035714285714285,
          0.09426827316992856,
          0.09313558675067032,
          0.022311351290187294,
          0.07364197885574206,
          0.03756708407871199,
          0.004576659038901602,
          0.15810502283105024,
          0.08995301217563545,
          0.46119502742238966,
          0.07101762006299418,
          0,
          0.01608871732363131,
          0.20606060606060606,
          0.0593607305936073,
          0.03220412670731739,
          0.07963002489171019,
          0,
          0.04301971006934242,
          0.1828978925253519,
          0.24453272307122859,
          0.06759254691973085,
          0.05056980056980057,
          0.0013440860215053762,
          0.383894513436774,
          0.01846507580082185,
          0.19326469326469325,
          0.13999409759073098,
          0.0363448208976569,
          0.05555555555555555,
          0.26269827065303164,
          0.06965488215488215,
          0.24414630798383372,
          0.1110722697671729,
          0.017312363348376852,
          0.16971713680165718,
          0.06389333656358888,
          0.20971186511354897,
          0.03260376634218864,
          0.03333333333333333,
          0.016384381196531836,
          0.1433595687102384,
          0,
          0.21818766320306596,
          0.10637855140559399,
          0.09138418449864535,
          0.0556563955958081
         ]
        }
       ],
       "layout": {
        "annotations": [
         {
          "showarrow": false,
          "text": "Source: <a href=\"https://www.kaggle.com/ma7555/schengen-visa-stats#2018-data-for-consulates.csv\">            Kaggle",
          "x": 0.55,
          "xref": "paper",
          "y": 0.1,
          "yref": "paper"
         }
        ],
        "geo": {
         "projection": {
          "type": "kavrayskiy7"
         },
         "showcoastlines": false,
         "showframe": false
        },
        "template": {
         "data": {
          "bar": [
           {
            "error_x": {
             "color": "#2a3f5f"
            },
            "error_y": {
             "color": "#2a3f5f"
            },
            "marker": {
             "line": {
              "color": "#E5ECF6",
              "width": 0.5
             }
            },
            "type": "bar"
           }
          ],
          "barpolar": [
           {
            "marker": {
             "line": {
              "color": "#E5ECF6",
              "width": 0.5
             }
            },
            "type": "barpolar"
           }
          ],
          "carpet": [
           {
            "aaxis": {
             "endlinecolor": "#2a3f5f",
             "gridcolor": "white",
             "linecolor": "white",
             "minorgridcolor": "white",
             "startlinecolor": "#2a3f5f"
            },
            "baxis": {
             "endlinecolor": "#2a3f5f",
             "gridcolor": "white",
             "linecolor": "white",
             "minorgridcolor": "white",
             "startlinecolor": "#2a3f5f"
            },
            "type": "carpet"
           }
          ],
          "choropleth": [
           {
            "colorbar": {
             "outlinewidth": 0,
             "ticks": ""
            },
            "type": "choropleth"
           }
          ],
          "contour": [
           {
            "colorbar": {
             "outlinewidth": 0,
             "ticks": ""
            },
            "colorscale": [
             [
              0,
              "#0d0887"
             ],
             [
              0.1111111111111111,
              "#46039f"
             ],
             [
              0.2222222222222222,
              "#7201a8"
             ],
             [
              0.3333333333333333,
              "#9c179e"
             ],
             [
              0.4444444444444444,
              "#bd3786"
             ],
             [
              0.5555555555555556,
              "#d8576b"
             ],
             [
              0.6666666666666666,
              "#ed7953"
             ],
             [
              0.7777777777777778,
              "#fb9f3a"
             ],
             [
              0.8888888888888888,
              "#fdca26"
             ],
             [
              1,
              "#f0f921"
             ]
            ],
            "type": "contour"
           }
          ],
          "contourcarpet": [
           {
            "colorbar": {
             "outlinewidth": 0,
             "ticks": ""
            },
            "type": "contourcarpet"
           }
          ],
          "heatmap": [
           {
            "colorbar": {
             "outlinewidth": 0,
             "ticks": ""
            },
            "colorscale": [
             [
              0,
              "#0d0887"
             ],
             [
              0.1111111111111111,
              "#46039f"
             ],
             [
              0.2222222222222222,
              "#7201a8"
             ],
             [
              0.3333333333333333,
              "#9c179e"
             ],
             [
              0.4444444444444444,
              "#bd3786"
             ],
             [
              0.5555555555555556,
              "#d8576b"
             ],
             [
              0.6666666666666666,
              "#ed7953"
             ],
             [
              0.7777777777777778,
              "#fb9f3a"
             ],
             [
              0.8888888888888888,
              "#fdca26"
             ],
             [
              1,
              "#f0f921"
             ]
            ],
            "type": "heatmap"
           }
          ],
          "heatmapgl": [
           {
            "colorbar": {
             "outlinewidth": 0,
             "ticks": ""
            },
            "colorscale": [
             [
              0,
              "#0d0887"
             ],
             [
              0.1111111111111111,
              "#46039f"
             ],
             [
              0.2222222222222222,
              "#7201a8"
             ],
             [
              0.3333333333333333,
              "#9c179e"
             ],
             [
              0.4444444444444444,
              "#bd3786"
             ],
             [
              0.5555555555555556,
              "#d8576b"
             ],
             [
              0.6666666666666666,
              "#ed7953"
             ],
             [
              0.7777777777777778,
              "#fb9f3a"
             ],
             [
              0.8888888888888888,
              "#fdca26"
             ],
             [
              1,
              "#f0f921"
             ]
            ],
            "type": "heatmapgl"
           }
          ],
          "histogram": [
           {
            "marker": {
             "colorbar": {
              "outlinewidth": 0,
              "ticks": ""
             }
            },
            "type": "histogram"
           }
          ],
          "histogram2d": [
           {
            "colorbar": {
             "outlinewidth": 0,
             "ticks": ""
            },
            "colorscale": [
             [
              0,
              "#0d0887"
             ],
             [
              0.1111111111111111,
              "#46039f"
             ],
             [
              0.2222222222222222,
              "#7201a8"
             ],
             [
              0.3333333333333333,
              "#9c179e"
             ],
             [
              0.4444444444444444,
              "#bd3786"
             ],
             [
              0.5555555555555556,
              "#d8576b"
             ],
             [
              0.6666666666666666,
              "#ed7953"
             ],
             [
              0.7777777777777778,
              "#fb9f3a"
             ],
             [
              0.8888888888888888,
              "#fdca26"
             ],
             [
              1,
              "#f0f921"
             ]
            ],
            "type": "histogram2d"
           }
          ],
          "histogram2dcontour": [
           {
            "colorbar": {
             "outlinewidth": 0,
             "ticks": ""
            },
            "colorscale": [
             [
              0,
              "#0d0887"
             ],
             [
              0.1111111111111111,
              "#46039f"
             ],
             [
              0.2222222222222222,
              "#7201a8"
             ],
             [
              0.3333333333333333,
              "#9c179e"
             ],
             [
              0.4444444444444444,
              "#bd3786"
             ],
             [
              0.5555555555555556,
              "#d8576b"
             ],
             [
              0.6666666666666666,
              "#ed7953"
             ],
             [
              0.7777777777777778,
              "#fb9f3a"
             ],
             [
              0.8888888888888888,
              "#fdca26"
             ],
             [
              1,
              "#f0f921"
             ]
            ],
            "type": "histogram2dcontour"
           }
          ],
          "mesh3d": [
           {
            "colorbar": {
             "outlinewidth": 0,
             "ticks": ""
            },
            "type": "mesh3d"
           }
          ],
          "parcoords": [
           {
            "line": {
             "colorbar": {
              "outlinewidth": 0,
              "ticks": ""
             }
            },
            "type": "parcoords"
           }
          ],
          "scatter": [
           {
            "marker": {
             "colorbar": {
              "outlinewidth": 0,
              "ticks": ""
             }
            },
            "type": "scatter"
           }
          ],
          "scatter3d": [
           {
            "line": {
             "colorbar": {
              "outlinewidth": 0,
              "ticks": ""
             }
            },
            "marker": {
             "colorbar": {
              "outlinewidth": 0,
              "ticks": ""
             }
            },
            "type": "scatter3d"
           }
          ],
          "scattercarpet": [
           {
            "marker": {
             "colorbar": {
              "outlinewidth": 0,
              "ticks": ""
             }
            },
            "type": "scattercarpet"
           }
          ],
          "scattergeo": [
           {
            "marker": {
             "colorbar": {
              "outlinewidth": 0,
              "ticks": ""
             }
            },
            "type": "scattergeo"
           }
          ],
          "scattergl": [
           {
            "marker": {
             "colorbar": {
              "outlinewidth": 0,
              "ticks": ""
             }
            },
            "type": "scattergl"
           }
          ],
          "scattermapbox": [
           {
            "marker": {
             "colorbar": {
              "outlinewidth": 0,
              "ticks": ""
             }
            },
            "type": "scattermapbox"
           }
          ],
          "scatterpolar": [
           {
            "marker": {
             "colorbar": {
              "outlinewidth": 0,
              "ticks": ""
             }
            },
            "type": "scatterpolar"
           }
          ],
          "scatterpolargl": [
           {
            "marker": {
             "colorbar": {
              "outlinewidth": 0,
              "ticks": ""
             }
            },
            "type": "scatterpolargl"
           }
          ],
          "scatterternary": [
           {
            "marker": {
             "colorbar": {
              "outlinewidth": 0,
              "ticks": ""
             }
            },
            "type": "scatterternary"
           }
          ],
          "surface": [
           {
            "colorbar": {
             "outlinewidth": 0,
             "ticks": ""
            },
            "colorscale": [
             [
              0,
              "#0d0887"
             ],
             [
              0.1111111111111111,
              "#46039f"
             ],
             [
              0.2222222222222222,
              "#7201a8"
             ],
             [
              0.3333333333333333,
              "#9c179e"
             ],
             [
              0.4444444444444444,
              "#bd3786"
             ],
             [
              0.5555555555555556,
              "#d8576b"
             ],
             [
              0.6666666666666666,
              "#ed7953"
             ],
             [
              0.7777777777777778,
              "#fb9f3a"
             ],
             [
              0.8888888888888888,
              "#fdca26"
             ],
             [
              1,
              "#f0f921"
             ]
            ],
            "type": "surface"
           }
          ],
          "table": [
           {
            "cells": {
             "fill": {
              "color": "#EBF0F8"
             },
             "line": {
              "color": "white"
             }
            },
            "header": {
             "fill": {
              "color": "#C8D4E3"
             },
             "line": {
              "color": "white"
             }
            },
            "type": "table"
           }
          ]
         },
         "layout": {
          "annotationdefaults": {
           "arrowcolor": "#2a3f5f",
           "arrowhead": 0,
           "arrowwidth": 1
          },
          "colorscale": {
           "diverging": [
            [
             0,
             "#8e0152"
            ],
            [
             0.1,
             "#c51b7d"
            ],
            [
             0.2,
             "#de77ae"
            ],
            [
             0.3,
             "#f1b6da"
            ],
            [
             0.4,
             "#fde0ef"
            ],
            [
             0.5,
             "#f7f7f7"
            ],
            [
             0.6,
             "#e6f5d0"
            ],
            [
             0.7,
             "#b8e186"
            ],
            [
             0.8,
             "#7fbc41"
            ],
            [
             0.9,
             "#4d9221"
            ],
            [
             1,
             "#276419"
            ]
           ],
           "sequential": [
            [
             0,
             "#0d0887"
            ],
            [
             0.1111111111111111,
             "#46039f"
            ],
            [
             0.2222222222222222,
             "#7201a8"
            ],
            [
             0.3333333333333333,
             "#9c179e"
            ],
            [
             0.4444444444444444,
             "#bd3786"
            ],
            [
             0.5555555555555556,
             "#d8576b"
            ],
            [
             0.6666666666666666,
             "#ed7953"
            ],
            [
             0.7777777777777778,
             "#fb9f3a"
            ],
            [
             0.8888888888888888,
             "#fdca26"
            ],
            [
             1,
             "#f0f921"
            ]
           ],
           "sequentialminus": [
            [
             0,
             "#0d0887"
            ],
            [
             0.1111111111111111,
             "#46039f"
            ],
            [
             0.2222222222222222,
             "#7201a8"
            ],
            [
             0.3333333333333333,
             "#9c179e"
            ],
            [
             0.4444444444444444,
             "#bd3786"
            ],
            [
             0.5555555555555556,
             "#d8576b"
            ],
            [
             0.6666666666666666,
             "#ed7953"
            ],
            [
             0.7777777777777778,
             "#fb9f3a"
            ],
            [
             0.8888888888888888,
             "#fdca26"
            ],
            [
             1,
             "#f0f921"
            ]
           ]
          },
          "colorway": [
           "#636efa",
           "#EF553B",
           "#00cc96",
           "#ab63fa",
           "#FFA15A",
           "#19d3f3",
           "#FF6692",
           "#B6E880",
           "#FF97FF",
           "#FECB52"
          ],
          "font": {
           "color": "#2a3f5f"
          },
          "geo": {
           "bgcolor": "white",
           "lakecolor": "white",
           "landcolor": "#E5ECF6",
           "showlakes": true,
           "showland": true,
           "subunitcolor": "white"
          },
          "hoverlabel": {
           "align": "left"
          },
          "hovermode": "closest",
          "mapbox": {
           "style": "light"
          },
          "paper_bgcolor": "white",
          "plot_bgcolor": "#E5ECF6",
          "polar": {
           "angularaxis": {
            "gridcolor": "white",
            "linecolor": "white",
            "ticks": ""
           },
           "bgcolor": "#E5ECF6",
           "radialaxis": {
            "gridcolor": "white",
            "linecolor": "white",
            "ticks": ""
           }
          },
          "scene": {
           "xaxis": {
            "backgroundcolor": "#E5ECF6",
            "gridcolor": "white",
            "gridwidth": 2,
            "linecolor": "white",
            "showbackground": true,
            "ticks": "",
            "zerolinecolor": "white"
           },
           "yaxis": {
            "backgroundcolor": "#E5ECF6",
            "gridcolor": "white",
            "gridwidth": 2,
            "linecolor": "white",
            "showbackground": true,
            "ticks": "",
            "zerolinecolor": "white"
           },
           "zaxis": {
            "backgroundcolor": "#E5ECF6",
            "gridcolor": "white",
            "gridwidth": 2,
            "linecolor": "white",
            "showbackground": true,
            "ticks": "",
            "zerolinecolor": "white"
           }
          },
          "shapedefaults": {
           "line": {
            "color": "#2a3f5f"
           }
          },
          "ternary": {
           "aaxis": {
            "gridcolor": "white",
            "linecolor": "white",
            "ticks": ""
           },
           "baxis": {
            "gridcolor": "white",
            "linecolor": "white",
            "ticks": ""
           },
           "bgcolor": "#E5ECF6",
           "caxis": {
            "gridcolor": "white",
            "linecolor": "white",
            "ticks": ""
           }
          },
          "title": {
           "x": 0.05
          },
          "xaxis": {
           "automargin": true,
           "gridcolor": "white",
           "linecolor": "white",
           "ticks": "",
           "zerolinecolor": "white",
           "zerolinewidth": 2
          },
          "yaxis": {
           "automargin": true,
           "gridcolor": "white",
           "linecolor": "white",
           "ticks": "",
           "zerolinecolor": "white",
           "zerolinewidth": 2
          }
         }
        },
        "title": {
         "text": "Share of not issued visas"
        }
       }
      },
      "text/html": [
       "<div>\n",
       "        \n",
       "        \n",
       "            <div id=\"44566a2d-3506-4c47-b9a3-d921de178e4b\" class=\"plotly-graph-div\" style=\"height:525px; width:100%;\"></div>\n",
       "            <script type=\"text/javascript\">\n",
       "                require([\"plotly\"], function(Plotly) {\n",
       "                    window.PLOTLYENV=window.PLOTLYENV || {};\n",
       "                    \n",
       "                if (document.getElementById(\"44566a2d-3506-4c47-b9a3-d921de178e4b\")) {\n",
       "                    Plotly.newPlot(\n",
       "                        '44566a2d-3506-4c47-b9a3-d921de178e4b',\n",
       "                        [{\"autocolorscale\": false, \"colorbar\": {\"tickprefix\": \" \", \"title\": {\"text\": \"Share of not issued visas\"}}, \"colorscale\": [[0.0, \"rgb(255,245,240)\"], [0.125, \"rgb(254,224,210)\"], [0.25, \"rgb(252,187,161)\"], [0.375, \"rgb(252,146,114)\"], [0.5, \"rgb(251,106,74)\"], [0.625, \"rgb(239,59,44)\"], [0.75, \"rgb(203,24,29)\"], [0.875, \"rgb(165,15,21)\"], [1.0, \"rgb(103,0,13)\"]], \"locations\": [\"AFG\", \"ALB\", \"DZA\", \"AND\", \"AGO\", \"ARG\", \"ARM\", \"AUS\", \"AUT\", \"AZE\", \"BHR\", \"BGD\", \"BLR\", \"BEL\", \"BEN\", \"BOL\", \"BIH\", \"BWA\", \"BRA\", \"BGR\", \"BFA\", \"BDI\", \"KHM\", \"CMR\", \"CAN\", \"CPV\", \"CAF\", \"TCD\", \"CHL\", \"CHN\", \"COL\", \"COM\", \"COG\", \"COD\", \"CRI\", \"CIV\", \"HRV\", \"CUB\", \"CYP\", \"CZE\", \"DNK\", \"DJI\", \"DOM\", \"ECU\", \"EGY\", \"SLV\", \"GNQ\", \"ERI\", \"EST\", \"ETH\", \"FJI\", \"FIN\", \"FRA\", \"GAB\", \"GEO\", \"DEU\", \"GHA\", \"GRC\", \"GTM\", \"GIN\", \"HUN\", \"ISL\", \"GNB\", \"HTI\", \"HND\", \"HKG\", \"ITA\", \"JAM\", \"IND\", \"IDN\", \"IRN\", \"IRQ\", \"IRL\", \"ISR\", \"KSV\", \"KWT\", \"KGZ\", \"JPN\", \"JOR\", \"KAZ\", \"KEN\", \"LBY\", \"LTU\", \"LAO\", \"LVA\", \"LBN\", \"LBR\", \"MLI\", \"MLT\", \"LUX\", \"MAC\", \"MDG\", \"MWI\", \"MYS\", \"MCO\", \"MNG\", \"MNE\", \"MRT\", \"MUS\", \"MEX\", \"MDA\", \"MAR\", \"MOZ\", \"MMR\", \"NAM\", \"NPL\", \"NLD\", \"NZL\", \"NIC\", \"NER\", \"NGA\", \"PRK\", \"MKD\", \"NOR\", \"OMN\", \"PAK\", \"PSE\", \"PAN\", \"PRY\", \"PER\", \"PHL\", \"POL\", \"PRT\", \"QAT\", \"ROU\", \"RUS\", \"RWA\", \"LCA\", \"SMR\", \"STP\", \"SAU\", \"SEN\", \"SRB\", \"SYC\", \"SGP\", \"SVK\", \"SVN\", \"ZAF\", \"KOR\", \"SSD\", \"ESP\", \"LKA\", \"SDN\", \"SUR\", \"SWE\", \"CHE\", \"SYR\", \"TWN\", \"TJK\", \"TZA\", \"THA\", \"TLS\", \"TGO\", \"TTO\", \"TUN\", \"TUR\", \"TKM\", \"UGA\", \"UKR\", \"ARE\", \"GBR\", \"URY\", \"USA\", \"UZB\", \"VUT\", \"VEN\", \"VNM\", \"ZMB\", \"ZWE\"], \"marker\": {\"line\": {\"color\": \"darkgray\", \"width\": 0.5}}, \"reversescale\": false, \"text\": [\"AFGHANISTAN\", \"ALBANIA\", \"ALGERIA\", \"ANDORRA\", \"ANGOLA\", \"ARGENTINA\", \"ARMENIA\", \"AUSTRALIA\", \"AUSTRIA\", \"AZERBAIJAN\", \"BAHRAIN\", \"BANGLADESH\", \"BELARUS\", \"BELGIUM\", \"BENIN\", \"BOLIVIA\", \"BOSNIA AND HERZEGOVINA\", \"BOTSWANA\", \"BRAZIL\", \"BULGARIA\", \"BURKINA FASO\", \"BURUNDI\", \"CAMBODIA\", \"CAMEROON\", \"CANADA\", \"CAPE VERDE\", \"CENTRAL AFRICAN REPUBLIC\", \"CHAD\", \"CHILE\", \"CHINA\", \"COLOMBIA\", \"COMOROS\", \"CONGO (BRAZZAVILLE)\", \"CONGO (DEMOCRATIC REPUBLIC)\", \"COSTA RICA\", \"COTE D'IVOIRE\", \"CROATIA\", \"CUBA\", \"CYPRUS\", \"CZECH REPUBLIC\", \"DENMARK\", \"DJIBOUTI\", \"DOMINICAN REPUBLIC\", \"ECUADOR\", \"EGYPT\", \"EL SALVADOR\", \"EQUATORIAL GUINEA\", \"ERITREA\", \"ESTONIA\", \"ETHIOPIA\", \"FIJI\", \"FINLAND\", \"FRANCE\", \"GABON\", \"GEORGIA\", \"GERMANY\", \"GHANA\", \"GREECE\", \"GUATEMALA\", \"GUINEA\", \"GUINEA-BISSAU\", \"HAITI\", \"HONDURAS\", \"HONG KONG S.A.R.\", \"HUNGARY\", \"ICELAND\", \"INDIA\", \"INDONESIA\", \"IRAN\", \"IRAQ\", \"IRELAND\", \"ISRAEL\", \"ITALY\", \"JAMAICA\", \"JAPAN\", \"JORDAN\", \"KAZAKHSTAN\", \"KENYA\", \"KOSOVO\", \"KUWAIT\", \"KYRGYZSTAN\", \"LAOS\", \"LATVIA\", \"LEBANON\", \"LIBERIA\", \"LIBYA\", \"LITHUANIA\", \"LUXEMBOURG\", \"MACAO S.A.R.\", \"MADAGASCAR\", \"MALAWI\", \"MALAYSIA\", \"MALI\", \"MALTA\", \"MAURITANIA\", \"MAURITIUS\", \"MEXICO\", \"MOLDOVA\", \"MONACO\", \"MONGOLIA\", \"MONTENEGRO\", \"MOROCCO\", \"MOZAMBIQUE\", \"MYANMAR\", \"NAMIBIA\", \"NEPAL\", \"NETHERLANDS\", \"NEW ZEALAND\", \"NICARAGUA\", \"NIGER\", \"NIGERIA\", \"NORTH KOREA\", \"NORTH MACEDONIA\", \"NORWAY\", \"OMAN\", \"PAKISTAN\", \"PALESTINIAN AUTHORITY\", \"PANAMA\", \"PARAGUAY\", \"PERU\", \"PHILIPPINES\", \"POLAND\", \"PORTUGAL\", \"QATAR\", \"ROMANIA\", \"RUSSIAN FEDERATION\", \"RWANDA\", \"SAINT LUCIA\", \"SAN MARINO\", \"SAO TOME AND PRINCIPE\", \"SAUDI ARABIA\", \"SENEGAL\", \"SERBIA\", \"SEYCHELLES\", \"SINGAPORE\", \"SLOVAKIA\", \"SLOVENIA\", \"SOUTH AFRICA\", \"SOUTH KOREA\", \"SOUTH SUDAN\", \"SPAIN\", \"SRI LANKA\", \"SUDAN\", \"SURINAME\", \"SWEDEN\", \"SWITZERLAND\", \"SYRIA\", \"TAIWAN\", \"TAJIKISTAN\", \"TANZANIA\", \"THAILAND\", \"TIMOR-LESTE\", \"TOGO\", \"TRINIDAD AND TOBAGO\", \"TUNISIA\", \"TURKEY\", \"TURKMENISTAN\", \"UGANDA\", \"UKRAINE\", \"UNITED ARAB EMIRATES\", \"UNITED KINGDOM\", \"URUGUAY\", \"USA\", \"UZBEKISTAN\", \"VANUATU\", \"VENEZUELA\", \"VIETNAM\", \"ZAMBIA\", \"ZIMBABWE\"], \"type\": \"choropleth\", \"z\": [0.03039949407502154, 0.08760666745717229, 0.4403803874097645, 0.0, 0.3472690743963187, 0.07863514408677218, 0.12607227506935215, 0.028236799830831057, 0.015873015873015872, 0.1134752978893041, 0.2766796215084496, 0.2573244345169551, 0.00471139609340383, 0.05023923444976076, 0.22667420066711821, 0.13802254923943968, 0.08964291004851811, 0.004828002414001207, 0.18741711423769053, 0.04761189600512013, 0.1555495621002029, 0.12975135894430184, 0.12584350930112906, 0.31689391516612125, 0.03259650612197341, 0.33089696147526554, 0.3580456976178901, 0.2980328752357855, 0.11199824656684981, 0.03783646174995261, 0.12222840714624089, 0.3757120927852635, 0.386879212925062, 0.3435088311232458, 0.008846153846153847, 0.3132727005390124, 0.047475098024588124, 0.13462643441527655, 0.20160784856983247, 0.125, 0.0018666666666666669, 0.2761493366244986, 0.2743162616128254, 0.13058520717214198, 0.2069857868072289, 0.0, 0.22193951022855127, 0.40538033395176254, 0.0, 0.19757420041964716, 0.3333333333333333, 0.07386363636363637, 0.027762092979484284, 0.31106393791592546, 0.31310313677754925, 0.1038065538065538, 0.41530586816712367, 0.0683028083028083, 0.0, 0.4943552036837582, 0.24430901548624784, 0.32505710770993357, 0.0, 0.01145022250651989, 0.023809523809523808, 0.0, 0.12059053314083656, 0.015892755877673706, 0.31267204504801904, 0.3238216694100328, 0.016544005007005085, 0.07852205247130424, 0.035104166666666665, 0.06138393143652903, 0.023047065765542954, 0.16916986183381688, 0.039206982308177006, 0.14484202120728157, 0.22910199456639896, 0.07945500048232682, 0.07416606423844793, 0.07097203483854507, 0.025, 0.1557786087634172, 0.0, 0.42467268411237535, 0.0, 0.02564102564102564, 0.02872531418312388, 0.20370330916152757, 0.08029197080291971, 0.22380625857445377, 0.2823467969455111, 0.0, 0.209716558865661, 0.019340159271899887, 0.03694758620427271, 0.06747819443541571, 0.5, 0.16677387188605497, 0.023413804921793256, 0.26212254988644357, 0.05962410364690257, 0.061029842931069736, 0.02406595150988074, 0.24676246364471155, 0.07851915667088456, 0.012592447255526539, 0.25, 0.1312935649122726, 0.43789504770063303, 0.07250000000000001, 0.10970934887946605, 0.0, 0.048571428484849646, 0.3690543629900295, 0.11714027187267288, 0.12794002925021758, 0.03333333333333333, 0.039077235480916524, 0.08322330720583501, 0.05555555555555555, 0.08035714285714285, 0.09426827316992856, 0.09313558675067032, 0.022311351290187294, 0.07364197885574206, 0.03756708407871199, 0.004576659038901602, 0.15810502283105024, 0.08995301217563545, 0.46119502742238966, 0.07101762006299418, 0.0, 0.01608871732363131, 0.20606060606060606, 0.0593607305936073, 0.03220412670731739, 0.07963002489171019, 0.0, 0.04301971006934242, 0.1828978925253519, 0.24453272307122859, 0.06759254691973085, 0.05056980056980057, 0.0013440860215053762, 0.383894513436774, 0.01846507580082185, 0.19326469326469325, 0.13999409759073098, 0.0363448208976569, 0.05555555555555555, 0.26269827065303164, 0.06965488215488215, 0.24414630798383372, 0.1110722697671729, 0.017312363348376852, 0.16971713680165718, 0.06389333656358888, 0.20971186511354897, 0.03260376634218864, 0.03333333333333333, 0.016384381196531836, 0.1433595687102384, 0.0, 0.21818766320306596, 0.10637855140559399, 0.09138418449864535, 0.0556563955958081]}],\n",
       "                        {\"annotations\": [{\"showarrow\": false, \"text\": \"Source: <a href=\\\"https://www.kaggle.com/ma7555/schengen-visa-stats#2018-data-for-consulates.csv\\\">            Kaggle\", \"x\": 0.55, \"xref\": \"paper\", \"y\": 0.1, \"yref\": \"paper\"}], \"geo\": {\"projection\": {\"type\": \"kavrayskiy7\"}, \"showcoastlines\": false, \"showframe\": false}, \"template\": {\"data\": {\"bar\": [{\"error_x\": {\"color\": \"#2a3f5f\"}, \"error_y\": {\"color\": \"#2a3f5f\"}, \"marker\": {\"line\": {\"color\": \"#E5ECF6\", \"width\": 0.5}}, \"type\": \"bar\"}], \"barpolar\": [{\"marker\": {\"line\": {\"color\": \"#E5ECF6\", \"width\": 0.5}}, \"type\": \"barpolar\"}], \"carpet\": [{\"aaxis\": {\"endlinecolor\": \"#2a3f5f\", \"gridcolor\": \"white\", \"linecolor\": \"white\", \"minorgridcolor\": \"white\", \"startlinecolor\": \"#2a3f5f\"}, \"baxis\": {\"endlinecolor\": \"#2a3f5f\", \"gridcolor\": \"white\", \"linecolor\": \"white\", \"minorgridcolor\": \"white\", \"startlinecolor\": \"#2a3f5f\"}, \"type\": \"carpet\"}], \"choropleth\": [{\"colorbar\": {\"outlinewidth\": 0, \"ticks\": \"\"}, \"type\": \"choropleth\"}], \"contour\": [{\"colorbar\": {\"outlinewidth\": 0, \"ticks\": \"\"}, \"colorscale\": [[0.0, \"#0d0887\"], [0.1111111111111111, \"#46039f\"], [0.2222222222222222, \"#7201a8\"], [0.3333333333333333, \"#9c179e\"], [0.4444444444444444, \"#bd3786\"], [0.5555555555555556, \"#d8576b\"], [0.6666666666666666, \"#ed7953\"], [0.7777777777777778, \"#fb9f3a\"], [0.8888888888888888, \"#fdca26\"], [1.0, \"#f0f921\"]], \"type\": \"contour\"}], \"contourcarpet\": [{\"colorbar\": {\"outlinewidth\": 0, \"ticks\": \"\"}, \"type\": \"contourcarpet\"}], \"heatmap\": [{\"colorbar\": {\"outlinewidth\": 0, \"ticks\": \"\"}, \"colorscale\": [[0.0, \"#0d0887\"], [0.1111111111111111, \"#46039f\"], [0.2222222222222222, \"#7201a8\"], [0.3333333333333333, \"#9c179e\"], [0.4444444444444444, \"#bd3786\"], [0.5555555555555556, \"#d8576b\"], [0.6666666666666666, \"#ed7953\"], [0.7777777777777778, \"#fb9f3a\"], [0.8888888888888888, \"#fdca26\"], [1.0, \"#f0f921\"]], \"type\": \"heatmap\"}], \"heatmapgl\": [{\"colorbar\": {\"outlinewidth\": 0, \"ticks\": \"\"}, \"colorscale\": [[0.0, \"#0d0887\"], [0.1111111111111111, \"#46039f\"], [0.2222222222222222, \"#7201a8\"], [0.3333333333333333, \"#9c179e\"], [0.4444444444444444, \"#bd3786\"], [0.5555555555555556, \"#d8576b\"], [0.6666666666666666, \"#ed7953\"], [0.7777777777777778, \"#fb9f3a\"], [0.8888888888888888, \"#fdca26\"], [1.0, \"#f0f921\"]], \"type\": \"heatmapgl\"}], \"histogram\": [{\"marker\": {\"colorbar\": {\"outlinewidth\": 0, \"ticks\": \"\"}}, \"type\": \"histogram\"}], \"histogram2d\": [{\"colorbar\": {\"outlinewidth\": 0, \"ticks\": \"\"}, \"colorscale\": [[0.0, \"#0d0887\"], [0.1111111111111111, \"#46039f\"], [0.2222222222222222, \"#7201a8\"], [0.3333333333333333, \"#9c179e\"], [0.4444444444444444, \"#bd3786\"], [0.5555555555555556, \"#d8576b\"], [0.6666666666666666, \"#ed7953\"], [0.7777777777777778, \"#fb9f3a\"], [0.8888888888888888, \"#fdca26\"], [1.0, \"#f0f921\"]], \"type\": \"histogram2d\"}], \"histogram2dcontour\": [{\"colorbar\": {\"outlinewidth\": 0, \"ticks\": \"\"}, \"colorscale\": [[0.0, \"#0d0887\"], [0.1111111111111111, \"#46039f\"], [0.2222222222222222, \"#7201a8\"], [0.3333333333333333, \"#9c179e\"], [0.4444444444444444, \"#bd3786\"], [0.5555555555555556, \"#d8576b\"], [0.6666666666666666, \"#ed7953\"], [0.7777777777777778, \"#fb9f3a\"], [0.8888888888888888, \"#fdca26\"], [1.0, \"#f0f921\"]], \"type\": \"histogram2dcontour\"}], \"mesh3d\": [{\"colorbar\": {\"outlinewidth\": 0, \"ticks\": \"\"}, \"type\": \"mesh3d\"}], \"parcoords\": [{\"line\": {\"colorbar\": {\"outlinewidth\": 0, \"ticks\": \"\"}}, \"type\": \"parcoords\"}], \"scatter\": [{\"marker\": {\"colorbar\": {\"outlinewidth\": 0, \"ticks\": \"\"}}, \"type\": \"scatter\"}], \"scatter3d\": [{\"line\": {\"colorbar\": {\"outlinewidth\": 0, \"ticks\": \"\"}}, \"marker\": {\"colorbar\": {\"outlinewidth\": 0, \"ticks\": \"\"}}, \"type\": \"scatter3d\"}], \"scattercarpet\": [{\"marker\": {\"colorbar\": {\"outlinewidth\": 0, \"ticks\": \"\"}}, \"type\": \"scattercarpet\"}], \"scattergeo\": [{\"marker\": {\"colorbar\": {\"outlinewidth\": 0, \"ticks\": \"\"}}, \"type\": \"scattergeo\"}], \"scattergl\": [{\"marker\": {\"colorbar\": {\"outlinewidth\": 0, \"ticks\": \"\"}}, \"type\": \"scattergl\"}], \"scattermapbox\": [{\"marker\": {\"colorbar\": {\"outlinewidth\": 0, \"ticks\": \"\"}}, \"type\": \"scattermapbox\"}], \"scatterpolar\": [{\"marker\": {\"colorbar\": {\"outlinewidth\": 0, \"ticks\": \"\"}}, \"type\": \"scatterpolar\"}], \"scatterpolargl\": [{\"marker\": {\"colorbar\": {\"outlinewidth\": 0, \"ticks\": \"\"}}, \"type\": \"scatterpolargl\"}], \"scatterternary\": [{\"marker\": {\"colorbar\": {\"outlinewidth\": 0, \"ticks\": \"\"}}, \"type\": \"scatterternary\"}], \"surface\": [{\"colorbar\": {\"outlinewidth\": 0, \"ticks\": \"\"}, \"colorscale\": [[0.0, \"#0d0887\"], [0.1111111111111111, \"#46039f\"], [0.2222222222222222, \"#7201a8\"], [0.3333333333333333, \"#9c179e\"], [0.4444444444444444, \"#bd3786\"], [0.5555555555555556, \"#d8576b\"], [0.6666666666666666, \"#ed7953\"], [0.7777777777777778, \"#fb9f3a\"], [0.8888888888888888, \"#fdca26\"], [1.0, \"#f0f921\"]], \"type\": \"surface\"}], \"table\": [{\"cells\": {\"fill\": {\"color\": \"#EBF0F8\"}, \"line\": {\"color\": \"white\"}}, \"header\": {\"fill\": {\"color\": \"#C8D4E3\"}, \"line\": {\"color\": \"white\"}}, \"type\": \"table\"}]}, \"layout\": {\"annotationdefaults\": {\"arrowcolor\": \"#2a3f5f\", \"arrowhead\": 0, \"arrowwidth\": 1}, \"colorscale\": {\"diverging\": [[0, \"#8e0152\"], [0.1, \"#c51b7d\"], [0.2, \"#de77ae\"], [0.3, \"#f1b6da\"], [0.4, \"#fde0ef\"], [0.5, \"#f7f7f7\"], [0.6, \"#e6f5d0\"], [0.7, \"#b8e186\"], [0.8, \"#7fbc41\"], [0.9, \"#4d9221\"], [1, \"#276419\"]], \"sequential\": [[0.0, \"#0d0887\"], [0.1111111111111111, \"#46039f\"], [0.2222222222222222, \"#7201a8\"], [0.3333333333333333, \"#9c179e\"], [0.4444444444444444, \"#bd3786\"], [0.5555555555555556, \"#d8576b\"], [0.6666666666666666, \"#ed7953\"], [0.7777777777777778, \"#fb9f3a\"], [0.8888888888888888, \"#fdca26\"], [1.0, \"#f0f921\"]], \"sequentialminus\": [[0.0, \"#0d0887\"], [0.1111111111111111, \"#46039f\"], [0.2222222222222222, \"#7201a8\"], [0.3333333333333333, \"#9c179e\"], [0.4444444444444444, \"#bd3786\"], [0.5555555555555556, \"#d8576b\"], [0.6666666666666666, \"#ed7953\"], [0.7777777777777778, \"#fb9f3a\"], [0.8888888888888888, \"#fdca26\"], [1.0, \"#f0f921\"]]}, \"colorway\": [\"#636efa\", \"#EF553B\", \"#00cc96\", \"#ab63fa\", \"#FFA15A\", \"#19d3f3\", \"#FF6692\", \"#B6E880\", \"#FF97FF\", \"#FECB52\"], \"font\": {\"color\": \"#2a3f5f\"}, \"geo\": {\"bgcolor\": \"white\", \"lakecolor\": \"white\", \"landcolor\": \"#E5ECF6\", \"showlakes\": true, \"showland\": true, \"subunitcolor\": \"white\"}, \"hoverlabel\": {\"align\": \"left\"}, \"hovermode\": \"closest\", \"mapbox\": {\"style\": \"light\"}, \"paper_bgcolor\": \"white\", \"plot_bgcolor\": \"#E5ECF6\", \"polar\": {\"angularaxis\": {\"gridcolor\": \"white\", \"linecolor\": \"white\", \"ticks\": \"\"}, \"bgcolor\": \"#E5ECF6\", \"radialaxis\": {\"gridcolor\": \"white\", \"linecolor\": \"white\", \"ticks\": \"\"}}, \"scene\": {\"xaxis\": {\"backgroundcolor\": \"#E5ECF6\", \"gridcolor\": \"white\", \"gridwidth\": 2, \"linecolor\": \"white\", \"showbackground\": true, \"ticks\": \"\", \"zerolinecolor\": \"white\"}, \"yaxis\": {\"backgroundcolor\": \"#E5ECF6\", \"gridcolor\": \"white\", \"gridwidth\": 2, \"linecolor\": \"white\", \"showbackground\": true, \"ticks\": \"\", \"zerolinecolor\": \"white\"}, \"zaxis\": {\"backgroundcolor\": \"#E5ECF6\", \"gridcolor\": \"white\", \"gridwidth\": 2, \"linecolor\": \"white\", \"showbackground\": true, \"ticks\": \"\", \"zerolinecolor\": \"white\"}}, \"shapedefaults\": {\"line\": {\"color\": \"#2a3f5f\"}}, \"ternary\": {\"aaxis\": {\"gridcolor\": \"white\", \"linecolor\": \"white\", \"ticks\": \"\"}, \"baxis\": {\"gridcolor\": \"white\", \"linecolor\": \"white\", \"ticks\": \"\"}, \"bgcolor\": \"#E5ECF6\", \"caxis\": {\"gridcolor\": \"white\", \"linecolor\": \"white\", \"ticks\": \"\"}}, \"title\": {\"x\": 0.05}, \"xaxis\": {\"automargin\": true, \"gridcolor\": \"white\", \"linecolor\": \"white\", \"ticks\": \"\", \"zerolinecolor\": \"white\", \"zerolinewidth\": 2}, \"yaxis\": {\"automargin\": true, \"gridcolor\": \"white\", \"linecolor\": \"white\", \"ticks\": \"\", \"zerolinecolor\": \"white\", \"zerolinewidth\": 2}}}, \"title\": {\"text\": \"Share of not issued visas\"}},\n",
       "                        {\"responsive\": true}\n",
       "                    ).then(function(){\n",
       "                            \n",
       "var gd = document.getElementById('44566a2d-3506-4c47-b9a3-d921de178e4b');\n",
       "var x = new MutationObserver(function (mutations, observer) {{\n",
       "        var display = window.getComputedStyle(gd).display;\n",
       "        if (!display || display === 'none') {{\n",
       "            console.log([gd, 'removed!']);\n",
       "            Plotly.purge(gd);\n",
       "            observer.disconnect();\n",
       "        }}\n",
       "}});\n",
       "\n",
       "// Listen for the removal of the full notebook cells\n",
       "var notebookContainer = gd.closest('#notebook-container');\n",
       "if (notebookContainer) {{\n",
       "    x.observe(notebookContainer, {childList: true});\n",
       "}}\n",
       "\n",
       "// Listen for the clearing of the current output cell\n",
       "var outputEl = gd.closest('.output');\n",
       "if (outputEl) {{\n",
       "    x.observe(outputEl, {childList: true});\n",
       "}}\n",
       "\n",
       "                        })\n",
       "                };\n",
       "                });\n",
       "            </script>\n",
       "        </div>"
      ]
     },
     "metadata": {},
     "output_type": "display_data"
    }
   ],
   "source": [
    "mappa(severity_wld_df['Code'], severity_wld_df['Share of not issued visas'],\\\n",
    "      severity_wld_df['Country where consulate is located'], 'reds', False,\\\n",
    "      'Share of not issued visas', 'Share of not issued visas', 'kavrayskiy7',\\\n",
    "      'Source: <a href=\"https://www.kaggle.com/ma7555/schengen-visa-stats#2018-data-for-consulates.csv\">\\\n",
    "            Kaggle')"
   ]
  },
  {
   "cell_type": "markdown",
   "metadata": {},
   "source": [
    "6. Which schengen states are more generous in general? "
   ]
  },
  {
   "cell_type": "code",
   "execution_count": 19,
   "metadata": {},
   "outputs": [
    {
     "data": {
      "text/plain": [
       "Schengen State\n",
       "Iceland           0.966720\n",
       "Slovakia          0.958992\n",
       "Estonia           0.913243\n",
       "Luxembourg        0.912931\n",
       "Austria           0.910866\n",
       "Italy             0.906366\n",
       "Latvia            0.904608\n",
       "Greece            0.901202\n",
       "Switzerland       0.901003\n",
       "Germany           0.900126\n",
       "Czech Republic    0.889202\n",
       "Slovenia          0.885820\n",
       "Lithuania         0.884841\n",
       "Poland            0.869614\n",
       "Finland           0.866860\n",
       "Portugal          0.858278\n",
       "Denmark           0.857376\n",
       "Spain             0.855763\n",
       "Malta             0.855260\n",
       "Norway            0.852251\n",
       "Hungary           0.849709\n",
       "France            0.837832\n",
       "Netherlands       0.797146\n",
       "Belgium           0.777907\n",
       "Sweden            0.551701\n",
       "Name: Share of issued visas, dtype: float64"
      ]
     },
     "execution_count": 19,
     "metadata": {},
     "output_type": "execute_result"
    }
   ],
   "source": [
    "numeric_data.groupby(['Schengen State'])['Share of issued visas'].mean().sort_values(ascending = False)"
   ]
  },
  {
   "cell_type": "code",
   "execution_count": 20,
   "metadata": {},
   "outputs": [],
   "source": [
    "list_of_generosity_schengen = numeric_data.groupby(['Schengen State'])['Share of issued visas'].mean().sort_values(ascending = True)\n",
    "generosity_sch_df = list_of_generosity_schengen.reset_index() \n",
    "codes_gen = ['SWE', 'BEL', 'NLD', 'FRA', 'HUN', 'NOR', 'MLT', 'ESP', 'DNK', 'PRT', 'FIN', 'POL', 'LTU', 'SVN', 'CZE', 'DEU', 'CHE', 'GRC', 'LVA', 'ITA', 'AUT', 'LUX', 'EST', 'SVK', 'ISL']\n",
    "generosity_sch_df['Code'] = codes_gen"
   ]
  },
  {
   "cell_type": "code",
   "execution_count": 94,
   "metadata": {},
   "outputs": [
    {
     "data": {
      "application/vnd.plotly.v1+json": {
       "config": {
        "plotlyServerURL": "https://plot.ly"
       },
       "data": [
        {
         "autocolorscale": false,
         "colorbar": {
          "tickprefix": " ",
          "title": {
           "text": "Share of issued visas"
          }
         },
         "colorscale": [
          [
           0,
           "rgb(121, 130, 52)"
          ],
          [
           0.16666666666666666,
           "rgb(163, 173, 98)"
          ],
          [
           0.3333333333333333,
           "rgb(208, 211, 162)"
          ],
          [
           0.5,
           "rgb(253, 251, 228)"
          ],
          [
           0.6666666666666666,
           "rgb(240, 198, 195)"
          ],
          [
           0.8333333333333334,
           "rgb(223, 145, 163)"
          ],
          [
           1,
           "rgb(212, 103, 128)"
          ]
         ],
         "locations": [
          "SWE",
          "BEL",
          "NLD",
          "FRA",
          "HUN",
          "NOR",
          "MLT",
          "ESP",
          "DNK",
          "PRT",
          "FIN",
          "POL",
          "LTU",
          "SVN",
          "CZE",
          "DEU",
          "CHE",
          "GRC",
          "LVA",
          "ITA",
          "AUT",
          "LUX",
          "EST",
          "SVK",
          "ISL"
         ],
         "marker": {
          "line": {
           "color": "darkgray",
           "width": 0.5
          }
         },
         "reversescale": true,
         "text": [
          "Sweden",
          "Belgium",
          "Netherlands",
          "France",
          "Hungary",
          "Norway",
          "Malta",
          "Spain",
          "Denmark",
          "Portugal",
          "Finland",
          "Poland",
          "Lithuania",
          "Slovenia",
          "Czech Republic",
          "Germany",
          "Switzerland",
          "Greece",
          "Latvia",
          "Italy",
          "Austria",
          "Luxembourg",
          "Estonia",
          "Slovakia",
          "Iceland"
         ],
         "type": "choropleth",
         "z": [
          0.5517012611580283,
          0.7779067439302944,
          0.7971462980891235,
          0.837831669922712,
          0.8497090424397902,
          0.8522511274050111,
          0.8552601473074731,
          0.8557627661198716,
          0.857375879488361,
          0.858277903331962,
          0.866860031571202,
          0.8696143602660004,
          0.8848409473090488,
          0.8858199282672017,
          0.8892021445219171,
          0.9001258095294374,
          0.9010032645573929,
          0.9012024924857185,
          0.9046081738070122,
          0.9063657771346462,
          0.910865697190033,
          0.9129305241195652,
          0.9132432100104942,
          0.9589923266172423,
          0.9667198429976978
         ]
        }
       ],
       "layout": {
        "annotations": [
         {
          "showarrow": false,
          "text": "Source: <a href=\"https://www.kaggle.com/ma7555/schengen-visa-stats#2018-data-for-consulates.csv\">            Kaggle",
          "x": 0.55,
          "xref": "paper",
          "y": 0.1,
          "yref": "paper"
         }
        ],
        "geo": {
         "projection": {
          "type": "kavrayskiy7"
         },
         "showcoastlines": false,
         "showframe": false
        },
        "template": {
         "data": {
          "bar": [
           {
            "error_x": {
             "color": "#2a3f5f"
            },
            "error_y": {
             "color": "#2a3f5f"
            },
            "marker": {
             "line": {
              "color": "#E5ECF6",
              "width": 0.5
             }
            },
            "type": "bar"
           }
          ],
          "barpolar": [
           {
            "marker": {
             "line": {
              "color": "#E5ECF6",
              "width": 0.5
             }
            },
            "type": "barpolar"
           }
          ],
          "carpet": [
           {
            "aaxis": {
             "endlinecolor": "#2a3f5f",
             "gridcolor": "white",
             "linecolor": "white",
             "minorgridcolor": "white",
             "startlinecolor": "#2a3f5f"
            },
            "baxis": {
             "endlinecolor": "#2a3f5f",
             "gridcolor": "white",
             "linecolor": "white",
             "minorgridcolor": "white",
             "startlinecolor": "#2a3f5f"
            },
            "type": "carpet"
           }
          ],
          "choropleth": [
           {
            "colorbar": {
             "outlinewidth": 0,
             "ticks": ""
            },
            "type": "choropleth"
           }
          ],
          "contour": [
           {
            "colorbar": {
             "outlinewidth": 0,
             "ticks": ""
            },
            "colorscale": [
             [
              0,
              "#0d0887"
             ],
             [
              0.1111111111111111,
              "#46039f"
             ],
             [
              0.2222222222222222,
              "#7201a8"
             ],
             [
              0.3333333333333333,
              "#9c179e"
             ],
             [
              0.4444444444444444,
              "#bd3786"
             ],
             [
              0.5555555555555556,
              "#d8576b"
             ],
             [
              0.6666666666666666,
              "#ed7953"
             ],
             [
              0.7777777777777778,
              "#fb9f3a"
             ],
             [
              0.8888888888888888,
              "#fdca26"
             ],
             [
              1,
              "#f0f921"
             ]
            ],
            "type": "contour"
           }
          ],
          "contourcarpet": [
           {
            "colorbar": {
             "outlinewidth": 0,
             "ticks": ""
            },
            "type": "contourcarpet"
           }
          ],
          "heatmap": [
           {
            "colorbar": {
             "outlinewidth": 0,
             "ticks": ""
            },
            "colorscale": [
             [
              0,
              "#0d0887"
             ],
             [
              0.1111111111111111,
              "#46039f"
             ],
             [
              0.2222222222222222,
              "#7201a8"
             ],
             [
              0.3333333333333333,
              "#9c179e"
             ],
             [
              0.4444444444444444,
              "#bd3786"
             ],
             [
              0.5555555555555556,
              "#d8576b"
             ],
             [
              0.6666666666666666,
              "#ed7953"
             ],
             [
              0.7777777777777778,
              "#fb9f3a"
             ],
             [
              0.8888888888888888,
              "#fdca26"
             ],
             [
              1,
              "#f0f921"
             ]
            ],
            "type": "heatmap"
           }
          ],
          "heatmapgl": [
           {
            "colorbar": {
             "outlinewidth": 0,
             "ticks": ""
            },
            "colorscale": [
             [
              0,
              "#0d0887"
             ],
             [
              0.1111111111111111,
              "#46039f"
             ],
             [
              0.2222222222222222,
              "#7201a8"
             ],
             [
              0.3333333333333333,
              "#9c179e"
             ],
             [
              0.4444444444444444,
              "#bd3786"
             ],
             [
              0.5555555555555556,
              "#d8576b"
             ],
             [
              0.6666666666666666,
              "#ed7953"
             ],
             [
              0.7777777777777778,
              "#fb9f3a"
             ],
             [
              0.8888888888888888,
              "#fdca26"
             ],
             [
              1,
              "#f0f921"
             ]
            ],
            "type": "heatmapgl"
           }
          ],
          "histogram": [
           {
            "marker": {
             "colorbar": {
              "outlinewidth": 0,
              "ticks": ""
             }
            },
            "type": "histogram"
           }
          ],
          "histogram2d": [
           {
            "colorbar": {
             "outlinewidth": 0,
             "ticks": ""
            },
            "colorscale": [
             [
              0,
              "#0d0887"
             ],
             [
              0.1111111111111111,
              "#46039f"
             ],
             [
              0.2222222222222222,
              "#7201a8"
             ],
             [
              0.3333333333333333,
              "#9c179e"
             ],
             [
              0.4444444444444444,
              "#bd3786"
             ],
             [
              0.5555555555555556,
              "#d8576b"
             ],
             [
              0.6666666666666666,
              "#ed7953"
             ],
             [
              0.7777777777777778,
              "#fb9f3a"
             ],
             [
              0.8888888888888888,
              "#fdca26"
             ],
             [
              1,
              "#f0f921"
             ]
            ],
            "type": "histogram2d"
           }
          ],
          "histogram2dcontour": [
           {
            "colorbar": {
             "outlinewidth": 0,
             "ticks": ""
            },
            "colorscale": [
             [
              0,
              "#0d0887"
             ],
             [
              0.1111111111111111,
              "#46039f"
             ],
             [
              0.2222222222222222,
              "#7201a8"
             ],
             [
              0.3333333333333333,
              "#9c179e"
             ],
             [
              0.4444444444444444,
              "#bd3786"
             ],
             [
              0.5555555555555556,
              "#d8576b"
             ],
             [
              0.6666666666666666,
              "#ed7953"
             ],
             [
              0.7777777777777778,
              "#fb9f3a"
             ],
             [
              0.8888888888888888,
              "#fdca26"
             ],
             [
              1,
              "#f0f921"
             ]
            ],
            "type": "histogram2dcontour"
           }
          ],
          "mesh3d": [
           {
            "colorbar": {
             "outlinewidth": 0,
             "ticks": ""
            },
            "type": "mesh3d"
           }
          ],
          "parcoords": [
           {
            "line": {
             "colorbar": {
              "outlinewidth": 0,
              "ticks": ""
             }
            },
            "type": "parcoords"
           }
          ],
          "scatter": [
           {
            "marker": {
             "colorbar": {
              "outlinewidth": 0,
              "ticks": ""
             }
            },
            "type": "scatter"
           }
          ],
          "scatter3d": [
           {
            "line": {
             "colorbar": {
              "outlinewidth": 0,
              "ticks": ""
             }
            },
            "marker": {
             "colorbar": {
              "outlinewidth": 0,
              "ticks": ""
             }
            },
            "type": "scatter3d"
           }
          ],
          "scattercarpet": [
           {
            "marker": {
             "colorbar": {
              "outlinewidth": 0,
              "ticks": ""
             }
            },
            "type": "scattercarpet"
           }
          ],
          "scattergeo": [
           {
            "marker": {
             "colorbar": {
              "outlinewidth": 0,
              "ticks": ""
             }
            },
            "type": "scattergeo"
           }
          ],
          "scattergl": [
           {
            "marker": {
             "colorbar": {
              "outlinewidth": 0,
              "ticks": ""
             }
            },
            "type": "scattergl"
           }
          ],
          "scattermapbox": [
           {
            "marker": {
             "colorbar": {
              "outlinewidth": 0,
              "ticks": ""
             }
            },
            "type": "scattermapbox"
           }
          ],
          "scatterpolar": [
           {
            "marker": {
             "colorbar": {
              "outlinewidth": 0,
              "ticks": ""
             }
            },
            "type": "scatterpolar"
           }
          ],
          "scatterpolargl": [
           {
            "marker": {
             "colorbar": {
              "outlinewidth": 0,
              "ticks": ""
             }
            },
            "type": "scatterpolargl"
           }
          ],
          "scatterternary": [
           {
            "marker": {
             "colorbar": {
              "outlinewidth": 0,
              "ticks": ""
             }
            },
            "type": "scatterternary"
           }
          ],
          "surface": [
           {
            "colorbar": {
             "outlinewidth": 0,
             "ticks": ""
            },
            "colorscale": [
             [
              0,
              "#0d0887"
             ],
             [
              0.1111111111111111,
              "#46039f"
             ],
             [
              0.2222222222222222,
              "#7201a8"
             ],
             [
              0.3333333333333333,
              "#9c179e"
             ],
             [
              0.4444444444444444,
              "#bd3786"
             ],
             [
              0.5555555555555556,
              "#d8576b"
             ],
             [
              0.6666666666666666,
              "#ed7953"
             ],
             [
              0.7777777777777778,
              "#fb9f3a"
             ],
             [
              0.8888888888888888,
              "#fdca26"
             ],
             [
              1,
              "#f0f921"
             ]
            ],
            "type": "surface"
           }
          ],
          "table": [
           {
            "cells": {
             "fill": {
              "color": "#EBF0F8"
             },
             "line": {
              "color": "white"
             }
            },
            "header": {
             "fill": {
              "color": "#C8D4E3"
             },
             "line": {
              "color": "white"
             }
            },
            "type": "table"
           }
          ]
         },
         "layout": {
          "annotationdefaults": {
           "arrowcolor": "#2a3f5f",
           "arrowhead": 0,
           "arrowwidth": 1
          },
          "colorscale": {
           "diverging": [
            [
             0,
             "#8e0152"
            ],
            [
             0.1,
             "#c51b7d"
            ],
            [
             0.2,
             "#de77ae"
            ],
            [
             0.3,
             "#f1b6da"
            ],
            [
             0.4,
             "#fde0ef"
            ],
            [
             0.5,
             "#f7f7f7"
            ],
            [
             0.6,
             "#e6f5d0"
            ],
            [
             0.7,
             "#b8e186"
            ],
            [
             0.8,
             "#7fbc41"
            ],
            [
             0.9,
             "#4d9221"
            ],
            [
             1,
             "#276419"
            ]
           ],
           "sequential": [
            [
             0,
             "#0d0887"
            ],
            [
             0.1111111111111111,
             "#46039f"
            ],
            [
             0.2222222222222222,
             "#7201a8"
            ],
            [
             0.3333333333333333,
             "#9c179e"
            ],
            [
             0.4444444444444444,
             "#bd3786"
            ],
            [
             0.5555555555555556,
             "#d8576b"
            ],
            [
             0.6666666666666666,
             "#ed7953"
            ],
            [
             0.7777777777777778,
             "#fb9f3a"
            ],
            [
             0.8888888888888888,
             "#fdca26"
            ],
            [
             1,
             "#f0f921"
            ]
           ],
           "sequentialminus": [
            [
             0,
             "#0d0887"
            ],
            [
             0.1111111111111111,
             "#46039f"
            ],
            [
             0.2222222222222222,
             "#7201a8"
            ],
            [
             0.3333333333333333,
             "#9c179e"
            ],
            [
             0.4444444444444444,
             "#bd3786"
            ],
            [
             0.5555555555555556,
             "#d8576b"
            ],
            [
             0.6666666666666666,
             "#ed7953"
            ],
            [
             0.7777777777777778,
             "#fb9f3a"
            ],
            [
             0.8888888888888888,
             "#fdca26"
            ],
            [
             1,
             "#f0f921"
            ]
           ]
          },
          "colorway": [
           "#636efa",
           "#EF553B",
           "#00cc96",
           "#ab63fa",
           "#FFA15A",
           "#19d3f3",
           "#FF6692",
           "#B6E880",
           "#FF97FF",
           "#FECB52"
          ],
          "font": {
           "color": "#2a3f5f"
          },
          "geo": {
           "bgcolor": "white",
           "lakecolor": "white",
           "landcolor": "#E5ECF6",
           "showlakes": true,
           "showland": true,
           "subunitcolor": "white"
          },
          "hoverlabel": {
           "align": "left"
          },
          "hovermode": "closest",
          "mapbox": {
           "style": "light"
          },
          "paper_bgcolor": "white",
          "plot_bgcolor": "#E5ECF6",
          "polar": {
           "angularaxis": {
            "gridcolor": "white",
            "linecolor": "white",
            "ticks": ""
           },
           "bgcolor": "#E5ECF6",
           "radialaxis": {
            "gridcolor": "white",
            "linecolor": "white",
            "ticks": ""
           }
          },
          "scene": {
           "xaxis": {
            "backgroundcolor": "#E5ECF6",
            "gridcolor": "white",
            "gridwidth": 2,
            "linecolor": "white",
            "showbackground": true,
            "ticks": "",
            "zerolinecolor": "white"
           },
           "yaxis": {
            "backgroundcolor": "#E5ECF6",
            "gridcolor": "white",
            "gridwidth": 2,
            "linecolor": "white",
            "showbackground": true,
            "ticks": "",
            "zerolinecolor": "white"
           },
           "zaxis": {
            "backgroundcolor": "#E5ECF6",
            "gridcolor": "white",
            "gridwidth": 2,
            "linecolor": "white",
            "showbackground": true,
            "ticks": "",
            "zerolinecolor": "white"
           }
          },
          "shapedefaults": {
           "line": {
            "color": "#2a3f5f"
           }
          },
          "ternary": {
           "aaxis": {
            "gridcolor": "white",
            "linecolor": "white",
            "ticks": ""
           },
           "baxis": {
            "gridcolor": "white",
            "linecolor": "white",
            "ticks": ""
           },
           "bgcolor": "#E5ECF6",
           "caxis": {
            "gridcolor": "white",
            "linecolor": "white",
            "ticks": ""
           }
          },
          "title": {
           "x": 0.05
          },
          "xaxis": {
           "automargin": true,
           "gridcolor": "white",
           "linecolor": "white",
           "ticks": "",
           "zerolinecolor": "white",
           "zerolinewidth": 2
          },
          "yaxis": {
           "automargin": true,
           "gridcolor": "white",
           "linecolor": "white",
           "ticks": "",
           "zerolinecolor": "white",
           "zerolinewidth": 2
          }
         }
        },
        "title": {
         "text": "Share of issued visas"
        }
       }
      },
      "text/html": [
       "<div>\n",
       "        \n",
       "        \n",
       "            <div id=\"bf8fd3bb-23a1-4edb-973f-1c65aca7eea5\" class=\"plotly-graph-div\" style=\"height:525px; width:100%;\"></div>\n",
       "            <script type=\"text/javascript\">\n",
       "                require([\"plotly\"], function(Plotly) {\n",
       "                    window.PLOTLYENV=window.PLOTLYENV || {};\n",
       "                    \n",
       "                if (document.getElementById(\"bf8fd3bb-23a1-4edb-973f-1c65aca7eea5\")) {\n",
       "                    Plotly.newPlot(\n",
       "                        'bf8fd3bb-23a1-4edb-973f-1c65aca7eea5',\n",
       "                        [{\"autocolorscale\": false, \"colorbar\": {\"tickprefix\": \" \", \"title\": {\"text\": \"Share of issued visas\"}}, \"colorscale\": [[0.0, \"rgb(121, 130, 52)\"], [0.16666666666666666, \"rgb(163, 173, 98)\"], [0.3333333333333333, \"rgb(208, 211, 162)\"], [0.5, \"rgb(253, 251, 228)\"], [0.6666666666666666, \"rgb(240, 198, 195)\"], [0.8333333333333334, \"rgb(223, 145, 163)\"], [1.0, \"rgb(212, 103, 128)\"]], \"locations\": [\"SWE\", \"BEL\", \"NLD\", \"FRA\", \"HUN\", \"NOR\", \"MLT\", \"ESP\", \"DNK\", \"PRT\", \"FIN\", \"POL\", \"LTU\", \"SVN\", \"CZE\", \"DEU\", \"CHE\", \"GRC\", \"LVA\", \"ITA\", \"AUT\", \"LUX\", \"EST\", \"SVK\", \"ISL\"], \"marker\": {\"line\": {\"color\": \"darkgray\", \"width\": 0.5}}, \"reversescale\": true, \"text\": [\"Sweden\", \"Belgium\", \"Netherlands\", \"France\", \"Hungary\", \"Norway\", \"Malta\", \"Spain\", \"Denmark\", \"Portugal\", \"Finland\", \"Poland\", \"Lithuania\", \"Slovenia\", \"Czech Republic\", \"Germany\", \"Switzerland\", \"Greece\", \"Latvia\", \"Italy\", \"Austria\", \"Luxembourg\", \"Estonia\", \"Slovakia\", \"Iceland\"], \"type\": \"choropleth\", \"z\": [0.5517012611580283, 0.7779067439302944, 0.7971462980891235, 0.837831669922712, 0.8497090424397902, 0.8522511274050111, 0.8552601473074731, 0.8557627661198716, 0.857375879488361, 0.858277903331962, 0.866860031571202, 0.8696143602660004, 0.8848409473090488, 0.8858199282672017, 0.8892021445219171, 0.9001258095294374, 0.9010032645573929, 0.9012024924857185, 0.9046081738070122, 0.9063657771346462, 0.910865697190033, 0.9129305241195652, 0.9132432100104942, 0.9589923266172423, 0.9667198429976978]}],\n",
       "                        {\"annotations\": [{\"showarrow\": false, \"text\": \"Source: <a href=\\\"https://www.kaggle.com/ma7555/schengen-visa-stats#2018-data-for-consulates.csv\\\">            Kaggle\", \"x\": 0.55, \"xref\": \"paper\", \"y\": 0.1, \"yref\": \"paper\"}], \"geo\": {\"projection\": {\"type\": \"kavrayskiy7\"}, \"showcoastlines\": false, \"showframe\": false}, \"template\": {\"data\": {\"bar\": [{\"error_x\": {\"color\": \"#2a3f5f\"}, \"error_y\": {\"color\": \"#2a3f5f\"}, \"marker\": {\"line\": {\"color\": \"#E5ECF6\", \"width\": 0.5}}, \"type\": \"bar\"}], \"barpolar\": [{\"marker\": {\"line\": {\"color\": \"#E5ECF6\", \"width\": 0.5}}, \"type\": \"barpolar\"}], \"carpet\": [{\"aaxis\": {\"endlinecolor\": \"#2a3f5f\", \"gridcolor\": \"white\", \"linecolor\": \"white\", \"minorgridcolor\": \"white\", \"startlinecolor\": \"#2a3f5f\"}, \"baxis\": {\"endlinecolor\": \"#2a3f5f\", \"gridcolor\": \"white\", \"linecolor\": \"white\", \"minorgridcolor\": \"white\", \"startlinecolor\": \"#2a3f5f\"}, \"type\": \"carpet\"}], \"choropleth\": [{\"colorbar\": {\"outlinewidth\": 0, \"ticks\": \"\"}, \"type\": \"choropleth\"}], \"contour\": [{\"colorbar\": {\"outlinewidth\": 0, \"ticks\": \"\"}, \"colorscale\": [[0.0, \"#0d0887\"], [0.1111111111111111, \"#46039f\"], [0.2222222222222222, \"#7201a8\"], [0.3333333333333333, \"#9c179e\"], [0.4444444444444444, \"#bd3786\"], [0.5555555555555556, \"#d8576b\"], [0.6666666666666666, \"#ed7953\"], [0.7777777777777778, \"#fb9f3a\"], [0.8888888888888888, \"#fdca26\"], [1.0, \"#f0f921\"]], \"type\": \"contour\"}], \"contourcarpet\": [{\"colorbar\": {\"outlinewidth\": 0, \"ticks\": \"\"}, \"type\": \"contourcarpet\"}], \"heatmap\": [{\"colorbar\": {\"outlinewidth\": 0, \"ticks\": \"\"}, \"colorscale\": [[0.0, \"#0d0887\"], [0.1111111111111111, \"#46039f\"], [0.2222222222222222, \"#7201a8\"], [0.3333333333333333, \"#9c179e\"], [0.4444444444444444, \"#bd3786\"], [0.5555555555555556, \"#d8576b\"], [0.6666666666666666, \"#ed7953\"], [0.7777777777777778, \"#fb9f3a\"], [0.8888888888888888, \"#fdca26\"], [1.0, \"#f0f921\"]], \"type\": \"heatmap\"}], \"heatmapgl\": [{\"colorbar\": {\"outlinewidth\": 0, \"ticks\": \"\"}, \"colorscale\": [[0.0, \"#0d0887\"], [0.1111111111111111, \"#46039f\"], [0.2222222222222222, \"#7201a8\"], [0.3333333333333333, \"#9c179e\"], [0.4444444444444444, \"#bd3786\"], [0.5555555555555556, \"#d8576b\"], [0.6666666666666666, \"#ed7953\"], [0.7777777777777778, \"#fb9f3a\"], [0.8888888888888888, \"#fdca26\"], [1.0, \"#f0f921\"]], \"type\": \"heatmapgl\"}], \"histogram\": [{\"marker\": {\"colorbar\": {\"outlinewidth\": 0, \"ticks\": \"\"}}, \"type\": \"histogram\"}], \"histogram2d\": [{\"colorbar\": {\"outlinewidth\": 0, \"ticks\": \"\"}, \"colorscale\": [[0.0, \"#0d0887\"], [0.1111111111111111, \"#46039f\"], [0.2222222222222222, \"#7201a8\"], [0.3333333333333333, \"#9c179e\"], [0.4444444444444444, \"#bd3786\"], [0.5555555555555556, \"#d8576b\"], [0.6666666666666666, \"#ed7953\"], [0.7777777777777778, \"#fb9f3a\"], [0.8888888888888888, \"#fdca26\"], [1.0, \"#f0f921\"]], \"type\": \"histogram2d\"}], \"histogram2dcontour\": [{\"colorbar\": {\"outlinewidth\": 0, \"ticks\": \"\"}, \"colorscale\": [[0.0, \"#0d0887\"], [0.1111111111111111, \"#46039f\"], [0.2222222222222222, \"#7201a8\"], [0.3333333333333333, \"#9c179e\"], [0.4444444444444444, \"#bd3786\"], [0.5555555555555556, \"#d8576b\"], [0.6666666666666666, \"#ed7953\"], [0.7777777777777778, \"#fb9f3a\"], [0.8888888888888888, \"#fdca26\"], [1.0, \"#f0f921\"]], \"type\": \"histogram2dcontour\"}], \"mesh3d\": [{\"colorbar\": {\"outlinewidth\": 0, \"ticks\": \"\"}, \"type\": \"mesh3d\"}], \"parcoords\": [{\"line\": {\"colorbar\": {\"outlinewidth\": 0, \"ticks\": \"\"}}, \"type\": \"parcoords\"}], \"scatter\": [{\"marker\": {\"colorbar\": {\"outlinewidth\": 0, \"ticks\": \"\"}}, \"type\": \"scatter\"}], \"scatter3d\": [{\"line\": {\"colorbar\": {\"outlinewidth\": 0, \"ticks\": \"\"}}, \"marker\": {\"colorbar\": {\"outlinewidth\": 0, \"ticks\": \"\"}}, \"type\": \"scatter3d\"}], \"scattercarpet\": [{\"marker\": {\"colorbar\": {\"outlinewidth\": 0, \"ticks\": \"\"}}, \"type\": \"scattercarpet\"}], \"scattergeo\": [{\"marker\": {\"colorbar\": {\"outlinewidth\": 0, \"ticks\": \"\"}}, \"type\": \"scattergeo\"}], \"scattergl\": [{\"marker\": {\"colorbar\": {\"outlinewidth\": 0, \"ticks\": \"\"}}, \"type\": \"scattergl\"}], \"scattermapbox\": [{\"marker\": {\"colorbar\": {\"outlinewidth\": 0, \"ticks\": \"\"}}, \"type\": \"scattermapbox\"}], \"scatterpolar\": [{\"marker\": {\"colorbar\": {\"outlinewidth\": 0, \"ticks\": \"\"}}, \"type\": \"scatterpolar\"}], \"scatterpolargl\": [{\"marker\": {\"colorbar\": {\"outlinewidth\": 0, \"ticks\": \"\"}}, \"type\": \"scatterpolargl\"}], \"scatterternary\": [{\"marker\": {\"colorbar\": {\"outlinewidth\": 0, \"ticks\": \"\"}}, \"type\": \"scatterternary\"}], \"surface\": [{\"colorbar\": {\"outlinewidth\": 0, \"ticks\": \"\"}, \"colorscale\": [[0.0, \"#0d0887\"], [0.1111111111111111, \"#46039f\"], [0.2222222222222222, \"#7201a8\"], [0.3333333333333333, \"#9c179e\"], [0.4444444444444444, \"#bd3786\"], [0.5555555555555556, \"#d8576b\"], [0.6666666666666666, \"#ed7953\"], [0.7777777777777778, \"#fb9f3a\"], [0.8888888888888888, \"#fdca26\"], [1.0, \"#f0f921\"]], \"type\": \"surface\"}], \"table\": [{\"cells\": {\"fill\": {\"color\": \"#EBF0F8\"}, \"line\": {\"color\": \"white\"}}, \"header\": {\"fill\": {\"color\": \"#C8D4E3\"}, \"line\": {\"color\": \"white\"}}, \"type\": \"table\"}]}, \"layout\": {\"annotationdefaults\": {\"arrowcolor\": \"#2a3f5f\", \"arrowhead\": 0, \"arrowwidth\": 1}, \"colorscale\": {\"diverging\": [[0, \"#8e0152\"], [0.1, \"#c51b7d\"], [0.2, \"#de77ae\"], [0.3, \"#f1b6da\"], [0.4, \"#fde0ef\"], [0.5, \"#f7f7f7\"], [0.6, \"#e6f5d0\"], [0.7, \"#b8e186\"], [0.8, \"#7fbc41\"], [0.9, \"#4d9221\"], [1, \"#276419\"]], \"sequential\": [[0.0, \"#0d0887\"], [0.1111111111111111, \"#46039f\"], [0.2222222222222222, \"#7201a8\"], [0.3333333333333333, \"#9c179e\"], [0.4444444444444444, \"#bd3786\"], [0.5555555555555556, \"#d8576b\"], [0.6666666666666666, \"#ed7953\"], [0.7777777777777778, \"#fb9f3a\"], [0.8888888888888888, \"#fdca26\"], [1.0, \"#f0f921\"]], \"sequentialminus\": [[0.0, \"#0d0887\"], [0.1111111111111111, \"#46039f\"], [0.2222222222222222, \"#7201a8\"], [0.3333333333333333, \"#9c179e\"], [0.4444444444444444, \"#bd3786\"], [0.5555555555555556, \"#d8576b\"], [0.6666666666666666, \"#ed7953\"], [0.7777777777777778, \"#fb9f3a\"], [0.8888888888888888, \"#fdca26\"], [1.0, \"#f0f921\"]]}, \"colorway\": [\"#636efa\", \"#EF553B\", \"#00cc96\", \"#ab63fa\", \"#FFA15A\", \"#19d3f3\", \"#FF6692\", \"#B6E880\", \"#FF97FF\", \"#FECB52\"], \"font\": {\"color\": \"#2a3f5f\"}, \"geo\": {\"bgcolor\": \"white\", \"lakecolor\": \"white\", \"landcolor\": \"#E5ECF6\", \"showlakes\": true, \"showland\": true, \"subunitcolor\": \"white\"}, \"hoverlabel\": {\"align\": \"left\"}, \"hovermode\": \"closest\", \"mapbox\": {\"style\": \"light\"}, \"paper_bgcolor\": \"white\", \"plot_bgcolor\": \"#E5ECF6\", \"polar\": {\"angularaxis\": {\"gridcolor\": \"white\", \"linecolor\": \"white\", \"ticks\": \"\"}, \"bgcolor\": \"#E5ECF6\", \"radialaxis\": {\"gridcolor\": \"white\", \"linecolor\": \"white\", \"ticks\": \"\"}}, \"scene\": {\"xaxis\": {\"backgroundcolor\": \"#E5ECF6\", \"gridcolor\": \"white\", \"gridwidth\": 2, \"linecolor\": \"white\", \"showbackground\": true, \"ticks\": \"\", \"zerolinecolor\": \"white\"}, \"yaxis\": {\"backgroundcolor\": \"#E5ECF6\", \"gridcolor\": \"white\", \"gridwidth\": 2, \"linecolor\": \"white\", \"showbackground\": true, \"ticks\": \"\", \"zerolinecolor\": \"white\"}, \"zaxis\": {\"backgroundcolor\": \"#E5ECF6\", \"gridcolor\": \"white\", \"gridwidth\": 2, \"linecolor\": \"white\", \"showbackground\": true, \"ticks\": \"\", \"zerolinecolor\": \"white\"}}, \"shapedefaults\": {\"line\": {\"color\": \"#2a3f5f\"}}, \"ternary\": {\"aaxis\": {\"gridcolor\": \"white\", \"linecolor\": \"white\", \"ticks\": \"\"}, \"baxis\": {\"gridcolor\": \"white\", \"linecolor\": \"white\", \"ticks\": \"\"}, \"bgcolor\": \"#E5ECF6\", \"caxis\": {\"gridcolor\": \"white\", \"linecolor\": \"white\", \"ticks\": \"\"}}, \"title\": {\"x\": 0.05}, \"xaxis\": {\"automargin\": true, \"gridcolor\": \"white\", \"linecolor\": \"white\", \"ticks\": \"\", \"zerolinecolor\": \"white\", \"zerolinewidth\": 2}, \"yaxis\": {\"automargin\": true, \"gridcolor\": \"white\", \"linecolor\": \"white\", \"ticks\": \"\", \"zerolinecolor\": \"white\", \"zerolinewidth\": 2}}}, \"title\": {\"text\": \"Share of issued visas\"}},\n",
       "                        {\"responsive\": true}\n",
       "                    ).then(function(){\n",
       "                            \n",
       "var gd = document.getElementById('bf8fd3bb-23a1-4edb-973f-1c65aca7eea5');\n",
       "var x = new MutationObserver(function (mutations, observer) {{\n",
       "        var display = window.getComputedStyle(gd).display;\n",
       "        if (!display || display === 'none') {{\n",
       "            console.log([gd, 'removed!']);\n",
       "            Plotly.purge(gd);\n",
       "            observer.disconnect();\n",
       "        }}\n",
       "}});\n",
       "\n",
       "// Listen for the removal of the full notebook cells\n",
       "var notebookContainer = gd.closest('#notebook-container');\n",
       "if (notebookContainer) {{\n",
       "    x.observe(notebookContainer, {childList: true});\n",
       "}}\n",
       "\n",
       "// Listen for the clearing of the current output cell\n",
       "var outputEl = gd.closest('.output');\n",
       "if (outputEl) {{\n",
       "    x.observe(outputEl, {childList: true});\n",
       "}}\n",
       "\n",
       "                        })\n",
       "                };\n",
       "                });\n",
       "            </script>\n",
       "        </div>"
      ]
     },
     "metadata": {},
     "output_type": "display_data"
    }
   ],
   "source": [
    "mappa(generosity_sch_df['Code'], generosity_sch_df['Share of issued visas'],\\\n",
    "      generosity_sch_df['Schengen State'], 'armyrose', True,\\\n",
    "      'Share of issued visas', 'Share of issued visas', 'kavrayskiy7',\\\n",
    "      'Source: <a href=\"https://www.kaggle.com/ma7555/schengen-visa-stats#2018-data-for-consulates.csv\">\\\n",
    "            Kaggle')"
   ]
  },
  {
   "cell_type": "markdown",
   "metadata": {},
   "source": [
    "7. Which schengen states are more strict than others?"
   ]
  },
  {
   "cell_type": "code",
   "execution_count": 22,
   "metadata": {},
   "outputs": [
    {
     "data": {
      "text/plain": [
       "Schengen State\n",
       "Belgium           0.165830\n",
       "Netherlands       0.155411\n",
       "Hungary           0.150291\n",
       "Norway            0.148258\n",
       "Portugal          0.141722\n",
       "France            0.134448\n",
       "Poland            0.130096\n",
       "Malta             0.124488\n",
       "Slovenia          0.114180\n",
       "Czech Republic    0.108563\n",
       "Finland           0.104637\n",
       "Sweden            0.104519\n",
       "Germany           0.099874\n",
       "Switzerland       0.098997\n",
       "Greece            0.098798\n",
       "Denmark           0.095986\n",
       "Spain             0.094561\n",
       "Italy             0.093634\n",
       "Austria           0.089134\n",
       "Estonia           0.086757\n",
       "Luxembourg        0.081355\n",
       "Latvia            0.081001\n",
       "Lithuania         0.077487\n",
       "Slovakia          0.041008\n",
       "Iceland           0.011538\n",
       "Name: Share of not issued visas, dtype: float64"
      ]
     },
     "execution_count": 22,
     "metadata": {},
     "output_type": "execute_result"
    }
   ],
   "source": [
    "numeric_data.groupby(['Schengen State'])['Share of not issued visas'].mean().sort_values(ascending = False)"
   ]
  },
  {
   "cell_type": "code",
   "execution_count": 23,
   "metadata": {},
   "outputs": [],
   "source": [
    "list_of_severity_schengen = numeric_data.groupby(['Schengen State'])['Share of not issued visas'].mean().sort_values(ascending = True)\n",
    "severity_sch_df = list_of_severity_schengen.reset_index()\n",
    " \n",
    "codes = ['BEL', 'NLD', 'HUN', 'NOR', 'PRT', 'FRA', 'POL', 'MLT', 'SVN', 'CZE', 'FIN', 'SWE', 'DEU', 'CHE', 'GRC', 'DNK', 'ESP', 'ITA', 'AUT', 'EST', 'LUX', 'LVA', 'LTU', 'SVK', 'ISL']\n",
    "severity_sch_df['Code'] = codes[::-1]"
   ]
  },
  {
   "cell_type": "code",
   "execution_count": 95,
   "metadata": {},
   "outputs": [
    {
     "data": {
      "application/vnd.plotly.v1+json": {
       "config": {
        "plotlyServerURL": "https://plot.ly"
       },
       "data": [
        {
         "autocolorscale": false,
         "colorbar": {
          "tickprefix": " ",
          "title": {
           "text": "Share of not issued visas"
          }
         },
         "colorscale": [
          [
           0,
           "rgb(121, 130, 52)"
          ],
          [
           0.16666666666666666,
           "rgb(163, 173, 98)"
          ],
          [
           0.3333333333333333,
           "rgb(208, 211, 162)"
          ],
          [
           0.5,
           "rgb(253, 251, 228)"
          ],
          [
           0.6666666666666666,
           "rgb(240, 198, 195)"
          ],
          [
           0.8333333333333334,
           "rgb(223, 145, 163)"
          ],
          [
           1,
           "rgb(212, 103, 128)"
          ]
         ],
         "locations": [
          "ISL",
          "SVK",
          "LTU",
          "LVA",
          "LUX",
          "EST",
          "AUT",
          "ITA",
          "ESP",
          "DNK",
          "GRC",
          "CHE",
          "DEU",
          "SWE",
          "FIN",
          "CZE",
          "SVN",
          "MLT",
          "POL",
          "FRA",
          "PRT",
          "NOR",
          "HUN",
          "NLD",
          "BEL"
         ],
         "marker": {
          "line": {
           "color": "darkgray",
           "width": 0.5
          }
         },
         "reversescale": false,
         "text": [
          "Iceland",
          "Slovakia",
          "Lithuania",
          "Latvia",
          "Luxembourg",
          "Estonia",
          "Austria",
          "Italy",
          "Spain",
          "Denmark",
          "Greece",
          "Switzerland",
          "Germany",
          "Sweden",
          "Finland",
          "Czech Republic",
          "Slovenia",
          "Malta",
          "Poland",
          "France",
          "Portugal",
          "Norway",
          "Hungary",
          "Netherlands",
          "Belgium"
         ],
         "type": "choropleth",
         "z": [
          0.01153755155724935,
          0.04100767338275773,
          0.07748661291835535,
          0.08100083726311484,
          0.08135519016614921,
          0.08675678998950577,
          0.08913430280996708,
          0.09363422286535374,
          0.09456117217144551,
          0.09598593165845544,
          0.09879750751428143,
          0.09899673544260723,
          0.09987419047056287,
          0.10451898029202517,
          0.10463723716459508,
          0.10856282166708162,
          0.11418007173279841,
          0.12448787836232207,
          0.1300958855031166,
          0.13444765834636138,
          0.141722096668038,
          0.14825808212675456,
          0.15029095756020996,
          0.1554110183623035,
          0.16582971467809798
         ]
        }
       ],
       "layout": {
        "annotations": [
         {
          "showarrow": false,
          "text": "Source: <a href=\"https://www.kaggle.com/ma7555/schengen-visa-stats#2018-data-for-consulates.csv\">            Kaggle",
          "x": 0.55,
          "xref": "paper",
          "y": 0.1,
          "yref": "paper"
         }
        ],
        "geo": {
         "projection": {
          "type": "kavrayskiy7"
         },
         "showcoastlines": false,
         "showframe": false
        },
        "template": {
         "data": {
          "bar": [
           {
            "error_x": {
             "color": "#2a3f5f"
            },
            "error_y": {
             "color": "#2a3f5f"
            },
            "marker": {
             "line": {
              "color": "#E5ECF6",
              "width": 0.5
             }
            },
            "type": "bar"
           }
          ],
          "barpolar": [
           {
            "marker": {
             "line": {
              "color": "#E5ECF6",
              "width": 0.5
             }
            },
            "type": "barpolar"
           }
          ],
          "carpet": [
           {
            "aaxis": {
             "endlinecolor": "#2a3f5f",
             "gridcolor": "white",
             "linecolor": "white",
             "minorgridcolor": "white",
             "startlinecolor": "#2a3f5f"
            },
            "baxis": {
             "endlinecolor": "#2a3f5f",
             "gridcolor": "white",
             "linecolor": "white",
             "minorgridcolor": "white",
             "startlinecolor": "#2a3f5f"
            },
            "type": "carpet"
           }
          ],
          "choropleth": [
           {
            "colorbar": {
             "outlinewidth": 0,
             "ticks": ""
            },
            "type": "choropleth"
           }
          ],
          "contour": [
           {
            "colorbar": {
             "outlinewidth": 0,
             "ticks": ""
            },
            "colorscale": [
             [
              0,
              "#0d0887"
             ],
             [
              0.1111111111111111,
              "#46039f"
             ],
             [
              0.2222222222222222,
              "#7201a8"
             ],
             [
              0.3333333333333333,
              "#9c179e"
             ],
             [
              0.4444444444444444,
              "#bd3786"
             ],
             [
              0.5555555555555556,
              "#d8576b"
             ],
             [
              0.6666666666666666,
              "#ed7953"
             ],
             [
              0.7777777777777778,
              "#fb9f3a"
             ],
             [
              0.8888888888888888,
              "#fdca26"
             ],
             [
              1,
              "#f0f921"
             ]
            ],
            "type": "contour"
           }
          ],
          "contourcarpet": [
           {
            "colorbar": {
             "outlinewidth": 0,
             "ticks": ""
            },
            "type": "contourcarpet"
           }
          ],
          "heatmap": [
           {
            "colorbar": {
             "outlinewidth": 0,
             "ticks": ""
            },
            "colorscale": [
             [
              0,
              "#0d0887"
             ],
             [
              0.1111111111111111,
              "#46039f"
             ],
             [
              0.2222222222222222,
              "#7201a8"
             ],
             [
              0.3333333333333333,
              "#9c179e"
             ],
             [
              0.4444444444444444,
              "#bd3786"
             ],
             [
              0.5555555555555556,
              "#d8576b"
             ],
             [
              0.6666666666666666,
              "#ed7953"
             ],
             [
              0.7777777777777778,
              "#fb9f3a"
             ],
             [
              0.8888888888888888,
              "#fdca26"
             ],
             [
              1,
              "#f0f921"
             ]
            ],
            "type": "heatmap"
           }
          ],
          "heatmapgl": [
           {
            "colorbar": {
             "outlinewidth": 0,
             "ticks": ""
            },
            "colorscale": [
             [
              0,
              "#0d0887"
             ],
             [
              0.1111111111111111,
              "#46039f"
             ],
             [
              0.2222222222222222,
              "#7201a8"
             ],
             [
              0.3333333333333333,
              "#9c179e"
             ],
             [
              0.4444444444444444,
              "#bd3786"
             ],
             [
              0.5555555555555556,
              "#d8576b"
             ],
             [
              0.6666666666666666,
              "#ed7953"
             ],
             [
              0.7777777777777778,
              "#fb9f3a"
             ],
             [
              0.8888888888888888,
              "#fdca26"
             ],
             [
              1,
              "#f0f921"
             ]
            ],
            "type": "heatmapgl"
           }
          ],
          "histogram": [
           {
            "marker": {
             "colorbar": {
              "outlinewidth": 0,
              "ticks": ""
             }
            },
            "type": "histogram"
           }
          ],
          "histogram2d": [
           {
            "colorbar": {
             "outlinewidth": 0,
             "ticks": ""
            },
            "colorscale": [
             [
              0,
              "#0d0887"
             ],
             [
              0.1111111111111111,
              "#46039f"
             ],
             [
              0.2222222222222222,
              "#7201a8"
             ],
             [
              0.3333333333333333,
              "#9c179e"
             ],
             [
              0.4444444444444444,
              "#bd3786"
             ],
             [
              0.5555555555555556,
              "#d8576b"
             ],
             [
              0.6666666666666666,
              "#ed7953"
             ],
             [
              0.7777777777777778,
              "#fb9f3a"
             ],
             [
              0.8888888888888888,
              "#fdca26"
             ],
             [
              1,
              "#f0f921"
             ]
            ],
            "type": "histogram2d"
           }
          ],
          "histogram2dcontour": [
           {
            "colorbar": {
             "outlinewidth": 0,
             "ticks": ""
            },
            "colorscale": [
             [
              0,
              "#0d0887"
             ],
             [
              0.1111111111111111,
              "#46039f"
             ],
             [
              0.2222222222222222,
              "#7201a8"
             ],
             [
              0.3333333333333333,
              "#9c179e"
             ],
             [
              0.4444444444444444,
              "#bd3786"
             ],
             [
              0.5555555555555556,
              "#d8576b"
             ],
             [
              0.6666666666666666,
              "#ed7953"
             ],
             [
              0.7777777777777778,
              "#fb9f3a"
             ],
             [
              0.8888888888888888,
              "#fdca26"
             ],
             [
              1,
              "#f0f921"
             ]
            ],
            "type": "histogram2dcontour"
           }
          ],
          "mesh3d": [
           {
            "colorbar": {
             "outlinewidth": 0,
             "ticks": ""
            },
            "type": "mesh3d"
           }
          ],
          "parcoords": [
           {
            "line": {
             "colorbar": {
              "outlinewidth": 0,
              "ticks": ""
             }
            },
            "type": "parcoords"
           }
          ],
          "scatter": [
           {
            "marker": {
             "colorbar": {
              "outlinewidth": 0,
              "ticks": ""
             }
            },
            "type": "scatter"
           }
          ],
          "scatter3d": [
           {
            "line": {
             "colorbar": {
              "outlinewidth": 0,
              "ticks": ""
             }
            },
            "marker": {
             "colorbar": {
              "outlinewidth": 0,
              "ticks": ""
             }
            },
            "type": "scatter3d"
           }
          ],
          "scattercarpet": [
           {
            "marker": {
             "colorbar": {
              "outlinewidth": 0,
              "ticks": ""
             }
            },
            "type": "scattercarpet"
           }
          ],
          "scattergeo": [
           {
            "marker": {
             "colorbar": {
              "outlinewidth": 0,
              "ticks": ""
             }
            },
            "type": "scattergeo"
           }
          ],
          "scattergl": [
           {
            "marker": {
             "colorbar": {
              "outlinewidth": 0,
              "ticks": ""
             }
            },
            "type": "scattergl"
           }
          ],
          "scattermapbox": [
           {
            "marker": {
             "colorbar": {
              "outlinewidth": 0,
              "ticks": ""
             }
            },
            "type": "scattermapbox"
           }
          ],
          "scatterpolar": [
           {
            "marker": {
             "colorbar": {
              "outlinewidth": 0,
              "ticks": ""
             }
            },
            "type": "scatterpolar"
           }
          ],
          "scatterpolargl": [
           {
            "marker": {
             "colorbar": {
              "outlinewidth": 0,
              "ticks": ""
             }
            },
            "type": "scatterpolargl"
           }
          ],
          "scatterternary": [
           {
            "marker": {
             "colorbar": {
              "outlinewidth": 0,
              "ticks": ""
             }
            },
            "type": "scatterternary"
           }
          ],
          "surface": [
           {
            "colorbar": {
             "outlinewidth": 0,
             "ticks": ""
            },
            "colorscale": [
             [
              0,
              "#0d0887"
             ],
             [
              0.1111111111111111,
              "#46039f"
             ],
             [
              0.2222222222222222,
              "#7201a8"
             ],
             [
              0.3333333333333333,
              "#9c179e"
             ],
             [
              0.4444444444444444,
              "#bd3786"
             ],
             [
              0.5555555555555556,
              "#d8576b"
             ],
             [
              0.6666666666666666,
              "#ed7953"
             ],
             [
              0.7777777777777778,
              "#fb9f3a"
             ],
             [
              0.8888888888888888,
              "#fdca26"
             ],
             [
              1,
              "#f0f921"
             ]
            ],
            "type": "surface"
           }
          ],
          "table": [
           {
            "cells": {
             "fill": {
              "color": "#EBF0F8"
             },
             "line": {
              "color": "white"
             }
            },
            "header": {
             "fill": {
              "color": "#C8D4E3"
             },
             "line": {
              "color": "white"
             }
            },
            "type": "table"
           }
          ]
         },
         "layout": {
          "annotationdefaults": {
           "arrowcolor": "#2a3f5f",
           "arrowhead": 0,
           "arrowwidth": 1
          },
          "colorscale": {
           "diverging": [
            [
             0,
             "#8e0152"
            ],
            [
             0.1,
             "#c51b7d"
            ],
            [
             0.2,
             "#de77ae"
            ],
            [
             0.3,
             "#f1b6da"
            ],
            [
             0.4,
             "#fde0ef"
            ],
            [
             0.5,
             "#f7f7f7"
            ],
            [
             0.6,
             "#e6f5d0"
            ],
            [
             0.7,
             "#b8e186"
            ],
            [
             0.8,
             "#7fbc41"
            ],
            [
             0.9,
             "#4d9221"
            ],
            [
             1,
             "#276419"
            ]
           ],
           "sequential": [
            [
             0,
             "#0d0887"
            ],
            [
             0.1111111111111111,
             "#46039f"
            ],
            [
             0.2222222222222222,
             "#7201a8"
            ],
            [
             0.3333333333333333,
             "#9c179e"
            ],
            [
             0.4444444444444444,
             "#bd3786"
            ],
            [
             0.5555555555555556,
             "#d8576b"
            ],
            [
             0.6666666666666666,
             "#ed7953"
            ],
            [
             0.7777777777777778,
             "#fb9f3a"
            ],
            [
             0.8888888888888888,
             "#fdca26"
            ],
            [
             1,
             "#f0f921"
            ]
           ],
           "sequentialminus": [
            [
             0,
             "#0d0887"
            ],
            [
             0.1111111111111111,
             "#46039f"
            ],
            [
             0.2222222222222222,
             "#7201a8"
            ],
            [
             0.3333333333333333,
             "#9c179e"
            ],
            [
             0.4444444444444444,
             "#bd3786"
            ],
            [
             0.5555555555555556,
             "#d8576b"
            ],
            [
             0.6666666666666666,
             "#ed7953"
            ],
            [
             0.7777777777777778,
             "#fb9f3a"
            ],
            [
             0.8888888888888888,
             "#fdca26"
            ],
            [
             1,
             "#f0f921"
            ]
           ]
          },
          "colorway": [
           "#636efa",
           "#EF553B",
           "#00cc96",
           "#ab63fa",
           "#FFA15A",
           "#19d3f3",
           "#FF6692",
           "#B6E880",
           "#FF97FF",
           "#FECB52"
          ],
          "font": {
           "color": "#2a3f5f"
          },
          "geo": {
           "bgcolor": "white",
           "lakecolor": "white",
           "landcolor": "#E5ECF6",
           "showlakes": true,
           "showland": true,
           "subunitcolor": "white"
          },
          "hoverlabel": {
           "align": "left"
          },
          "hovermode": "closest",
          "mapbox": {
           "style": "light"
          },
          "paper_bgcolor": "white",
          "plot_bgcolor": "#E5ECF6",
          "polar": {
           "angularaxis": {
            "gridcolor": "white",
            "linecolor": "white",
            "ticks": ""
           },
           "bgcolor": "#E5ECF6",
           "radialaxis": {
            "gridcolor": "white",
            "linecolor": "white",
            "ticks": ""
           }
          },
          "scene": {
           "xaxis": {
            "backgroundcolor": "#E5ECF6",
            "gridcolor": "white",
            "gridwidth": 2,
            "linecolor": "white",
            "showbackground": true,
            "ticks": "",
            "zerolinecolor": "white"
           },
           "yaxis": {
            "backgroundcolor": "#E5ECF6",
            "gridcolor": "white",
            "gridwidth": 2,
            "linecolor": "white",
            "showbackground": true,
            "ticks": "",
            "zerolinecolor": "white"
           },
           "zaxis": {
            "backgroundcolor": "#E5ECF6",
            "gridcolor": "white",
            "gridwidth": 2,
            "linecolor": "white",
            "showbackground": true,
            "ticks": "",
            "zerolinecolor": "white"
           }
          },
          "shapedefaults": {
           "line": {
            "color": "#2a3f5f"
           }
          },
          "ternary": {
           "aaxis": {
            "gridcolor": "white",
            "linecolor": "white",
            "ticks": ""
           },
           "baxis": {
            "gridcolor": "white",
            "linecolor": "white",
            "ticks": ""
           },
           "bgcolor": "#E5ECF6",
           "caxis": {
            "gridcolor": "white",
            "linecolor": "white",
            "ticks": ""
           }
          },
          "title": {
           "x": 0.05
          },
          "xaxis": {
           "automargin": true,
           "gridcolor": "white",
           "linecolor": "white",
           "ticks": "",
           "zerolinecolor": "white",
           "zerolinewidth": 2
          },
          "yaxis": {
           "automargin": true,
           "gridcolor": "white",
           "linecolor": "white",
           "ticks": "",
           "zerolinecolor": "white",
           "zerolinewidth": 2
          }
         }
        },
        "title": {
         "text": "Share of not issued visas"
        }
       }
      },
      "text/html": [
       "<div>\n",
       "        \n",
       "        \n",
       "            <div id=\"b2b87a4c-b453-4e44-90e9-13ce59b22d81\" class=\"plotly-graph-div\" style=\"height:525px; width:100%;\"></div>\n",
       "            <script type=\"text/javascript\">\n",
       "                require([\"plotly\"], function(Plotly) {\n",
       "                    window.PLOTLYENV=window.PLOTLYENV || {};\n",
       "                    \n",
       "                if (document.getElementById(\"b2b87a4c-b453-4e44-90e9-13ce59b22d81\")) {\n",
       "                    Plotly.newPlot(\n",
       "                        'b2b87a4c-b453-4e44-90e9-13ce59b22d81',\n",
       "                        [{\"autocolorscale\": false, \"colorbar\": {\"tickprefix\": \" \", \"title\": {\"text\": \"Share of not issued visas\"}}, \"colorscale\": [[0.0, \"rgb(121, 130, 52)\"], [0.16666666666666666, \"rgb(163, 173, 98)\"], [0.3333333333333333, \"rgb(208, 211, 162)\"], [0.5, \"rgb(253, 251, 228)\"], [0.6666666666666666, \"rgb(240, 198, 195)\"], [0.8333333333333334, \"rgb(223, 145, 163)\"], [1.0, \"rgb(212, 103, 128)\"]], \"locations\": [\"ISL\", \"SVK\", \"LTU\", \"LVA\", \"LUX\", \"EST\", \"AUT\", \"ITA\", \"ESP\", \"DNK\", \"GRC\", \"CHE\", \"DEU\", \"SWE\", \"FIN\", \"CZE\", \"SVN\", \"MLT\", \"POL\", \"FRA\", \"PRT\", \"NOR\", \"HUN\", \"NLD\", \"BEL\"], \"marker\": {\"line\": {\"color\": \"darkgray\", \"width\": 0.5}}, \"reversescale\": false, \"text\": [\"Iceland\", \"Slovakia\", \"Lithuania\", \"Latvia\", \"Luxembourg\", \"Estonia\", \"Austria\", \"Italy\", \"Spain\", \"Denmark\", \"Greece\", \"Switzerland\", \"Germany\", \"Sweden\", \"Finland\", \"Czech Republic\", \"Slovenia\", \"Malta\", \"Poland\", \"France\", \"Portugal\", \"Norway\", \"Hungary\", \"Netherlands\", \"Belgium\"], \"type\": \"choropleth\", \"z\": [0.01153755155724935, 0.04100767338275773, 0.07748661291835535, 0.08100083726311484, 0.08135519016614921, 0.08675678998950577, 0.08913430280996708, 0.09363422286535374, 0.09456117217144551, 0.09598593165845544, 0.09879750751428143, 0.09899673544260723, 0.09987419047056287, 0.10451898029202517, 0.10463723716459508, 0.10856282166708162, 0.11418007173279841, 0.12448787836232207, 0.1300958855031166, 0.13444765834636138, 0.141722096668038, 0.14825808212675456, 0.15029095756020996, 0.1554110183623035, 0.16582971467809798]}],\n",
       "                        {\"annotations\": [{\"showarrow\": false, \"text\": \"Source: <a href=\\\"https://www.kaggle.com/ma7555/schengen-visa-stats#2018-data-for-consulates.csv\\\">            Kaggle\", \"x\": 0.55, \"xref\": \"paper\", \"y\": 0.1, \"yref\": \"paper\"}], \"geo\": {\"projection\": {\"type\": \"kavrayskiy7\"}, \"showcoastlines\": false, \"showframe\": false}, \"template\": {\"data\": {\"bar\": [{\"error_x\": {\"color\": \"#2a3f5f\"}, \"error_y\": {\"color\": \"#2a3f5f\"}, \"marker\": {\"line\": {\"color\": \"#E5ECF6\", \"width\": 0.5}}, \"type\": \"bar\"}], \"barpolar\": [{\"marker\": {\"line\": {\"color\": \"#E5ECF6\", \"width\": 0.5}}, \"type\": \"barpolar\"}], \"carpet\": [{\"aaxis\": {\"endlinecolor\": \"#2a3f5f\", \"gridcolor\": \"white\", \"linecolor\": \"white\", \"minorgridcolor\": \"white\", \"startlinecolor\": \"#2a3f5f\"}, \"baxis\": {\"endlinecolor\": \"#2a3f5f\", \"gridcolor\": \"white\", \"linecolor\": \"white\", \"minorgridcolor\": \"white\", \"startlinecolor\": \"#2a3f5f\"}, \"type\": \"carpet\"}], \"choropleth\": [{\"colorbar\": {\"outlinewidth\": 0, \"ticks\": \"\"}, \"type\": \"choropleth\"}], \"contour\": [{\"colorbar\": {\"outlinewidth\": 0, \"ticks\": \"\"}, \"colorscale\": [[0.0, \"#0d0887\"], [0.1111111111111111, \"#46039f\"], [0.2222222222222222, \"#7201a8\"], [0.3333333333333333, \"#9c179e\"], [0.4444444444444444, \"#bd3786\"], [0.5555555555555556, \"#d8576b\"], [0.6666666666666666, \"#ed7953\"], [0.7777777777777778, \"#fb9f3a\"], [0.8888888888888888, \"#fdca26\"], [1.0, \"#f0f921\"]], \"type\": \"contour\"}], \"contourcarpet\": [{\"colorbar\": {\"outlinewidth\": 0, \"ticks\": \"\"}, \"type\": \"contourcarpet\"}], \"heatmap\": [{\"colorbar\": {\"outlinewidth\": 0, \"ticks\": \"\"}, \"colorscale\": [[0.0, \"#0d0887\"], [0.1111111111111111, \"#46039f\"], [0.2222222222222222, \"#7201a8\"], [0.3333333333333333, \"#9c179e\"], [0.4444444444444444, \"#bd3786\"], [0.5555555555555556, \"#d8576b\"], [0.6666666666666666, \"#ed7953\"], [0.7777777777777778, \"#fb9f3a\"], [0.8888888888888888, \"#fdca26\"], [1.0, \"#f0f921\"]], \"type\": \"heatmap\"}], \"heatmapgl\": [{\"colorbar\": {\"outlinewidth\": 0, \"ticks\": \"\"}, \"colorscale\": [[0.0, \"#0d0887\"], [0.1111111111111111, \"#46039f\"], [0.2222222222222222, \"#7201a8\"], [0.3333333333333333, \"#9c179e\"], [0.4444444444444444, \"#bd3786\"], [0.5555555555555556, \"#d8576b\"], [0.6666666666666666, \"#ed7953\"], [0.7777777777777778, \"#fb9f3a\"], [0.8888888888888888, \"#fdca26\"], [1.0, \"#f0f921\"]], \"type\": \"heatmapgl\"}], \"histogram\": [{\"marker\": {\"colorbar\": {\"outlinewidth\": 0, \"ticks\": \"\"}}, \"type\": \"histogram\"}], \"histogram2d\": [{\"colorbar\": {\"outlinewidth\": 0, \"ticks\": \"\"}, \"colorscale\": [[0.0, \"#0d0887\"], [0.1111111111111111, \"#46039f\"], [0.2222222222222222, \"#7201a8\"], [0.3333333333333333, \"#9c179e\"], [0.4444444444444444, \"#bd3786\"], [0.5555555555555556, \"#d8576b\"], [0.6666666666666666, \"#ed7953\"], [0.7777777777777778, \"#fb9f3a\"], [0.8888888888888888, \"#fdca26\"], [1.0, \"#f0f921\"]], \"type\": \"histogram2d\"}], \"histogram2dcontour\": [{\"colorbar\": {\"outlinewidth\": 0, \"ticks\": \"\"}, \"colorscale\": [[0.0, \"#0d0887\"], [0.1111111111111111, \"#46039f\"], [0.2222222222222222, \"#7201a8\"], [0.3333333333333333, \"#9c179e\"], [0.4444444444444444, \"#bd3786\"], [0.5555555555555556, \"#d8576b\"], [0.6666666666666666, \"#ed7953\"], [0.7777777777777778, \"#fb9f3a\"], [0.8888888888888888, \"#fdca26\"], [1.0, \"#f0f921\"]], \"type\": \"histogram2dcontour\"}], \"mesh3d\": [{\"colorbar\": {\"outlinewidth\": 0, \"ticks\": \"\"}, \"type\": \"mesh3d\"}], \"parcoords\": [{\"line\": {\"colorbar\": {\"outlinewidth\": 0, \"ticks\": \"\"}}, \"type\": \"parcoords\"}], \"scatter\": [{\"marker\": {\"colorbar\": {\"outlinewidth\": 0, \"ticks\": \"\"}}, \"type\": \"scatter\"}], \"scatter3d\": [{\"line\": {\"colorbar\": {\"outlinewidth\": 0, \"ticks\": \"\"}}, \"marker\": {\"colorbar\": {\"outlinewidth\": 0, \"ticks\": \"\"}}, \"type\": \"scatter3d\"}], \"scattercarpet\": [{\"marker\": {\"colorbar\": {\"outlinewidth\": 0, \"ticks\": \"\"}}, \"type\": \"scattercarpet\"}], \"scattergeo\": [{\"marker\": {\"colorbar\": {\"outlinewidth\": 0, \"ticks\": \"\"}}, \"type\": \"scattergeo\"}], \"scattergl\": [{\"marker\": {\"colorbar\": {\"outlinewidth\": 0, \"ticks\": \"\"}}, \"type\": \"scattergl\"}], \"scattermapbox\": [{\"marker\": {\"colorbar\": {\"outlinewidth\": 0, \"ticks\": \"\"}}, \"type\": \"scattermapbox\"}], \"scatterpolar\": [{\"marker\": {\"colorbar\": {\"outlinewidth\": 0, \"ticks\": \"\"}}, \"type\": \"scatterpolar\"}], \"scatterpolargl\": [{\"marker\": {\"colorbar\": {\"outlinewidth\": 0, \"ticks\": \"\"}}, \"type\": \"scatterpolargl\"}], \"scatterternary\": [{\"marker\": {\"colorbar\": {\"outlinewidth\": 0, \"ticks\": \"\"}}, \"type\": \"scatterternary\"}], \"surface\": [{\"colorbar\": {\"outlinewidth\": 0, \"ticks\": \"\"}, \"colorscale\": [[0.0, \"#0d0887\"], [0.1111111111111111, \"#46039f\"], [0.2222222222222222, \"#7201a8\"], [0.3333333333333333, \"#9c179e\"], [0.4444444444444444, \"#bd3786\"], [0.5555555555555556, \"#d8576b\"], [0.6666666666666666, \"#ed7953\"], [0.7777777777777778, \"#fb9f3a\"], [0.8888888888888888, \"#fdca26\"], [1.0, \"#f0f921\"]], \"type\": \"surface\"}], \"table\": [{\"cells\": {\"fill\": {\"color\": \"#EBF0F8\"}, \"line\": {\"color\": \"white\"}}, \"header\": {\"fill\": {\"color\": \"#C8D4E3\"}, \"line\": {\"color\": \"white\"}}, \"type\": \"table\"}]}, \"layout\": {\"annotationdefaults\": {\"arrowcolor\": \"#2a3f5f\", \"arrowhead\": 0, \"arrowwidth\": 1}, \"colorscale\": {\"diverging\": [[0, \"#8e0152\"], [0.1, \"#c51b7d\"], [0.2, \"#de77ae\"], [0.3, \"#f1b6da\"], [0.4, \"#fde0ef\"], [0.5, \"#f7f7f7\"], [0.6, \"#e6f5d0\"], [0.7, \"#b8e186\"], [0.8, \"#7fbc41\"], [0.9, \"#4d9221\"], [1, \"#276419\"]], \"sequential\": [[0.0, \"#0d0887\"], [0.1111111111111111, \"#46039f\"], [0.2222222222222222, \"#7201a8\"], [0.3333333333333333, \"#9c179e\"], [0.4444444444444444, \"#bd3786\"], [0.5555555555555556, \"#d8576b\"], [0.6666666666666666, \"#ed7953\"], [0.7777777777777778, \"#fb9f3a\"], [0.8888888888888888, \"#fdca26\"], [1.0, \"#f0f921\"]], \"sequentialminus\": [[0.0, \"#0d0887\"], [0.1111111111111111, \"#46039f\"], [0.2222222222222222, \"#7201a8\"], [0.3333333333333333, \"#9c179e\"], [0.4444444444444444, \"#bd3786\"], [0.5555555555555556, \"#d8576b\"], [0.6666666666666666, \"#ed7953\"], [0.7777777777777778, \"#fb9f3a\"], [0.8888888888888888, \"#fdca26\"], [1.0, \"#f0f921\"]]}, \"colorway\": [\"#636efa\", \"#EF553B\", \"#00cc96\", \"#ab63fa\", \"#FFA15A\", \"#19d3f3\", \"#FF6692\", \"#B6E880\", \"#FF97FF\", \"#FECB52\"], \"font\": {\"color\": \"#2a3f5f\"}, \"geo\": {\"bgcolor\": \"white\", \"lakecolor\": \"white\", \"landcolor\": \"#E5ECF6\", \"showlakes\": true, \"showland\": true, \"subunitcolor\": \"white\"}, \"hoverlabel\": {\"align\": \"left\"}, \"hovermode\": \"closest\", \"mapbox\": {\"style\": \"light\"}, \"paper_bgcolor\": \"white\", \"plot_bgcolor\": \"#E5ECF6\", \"polar\": {\"angularaxis\": {\"gridcolor\": \"white\", \"linecolor\": \"white\", \"ticks\": \"\"}, \"bgcolor\": \"#E5ECF6\", \"radialaxis\": {\"gridcolor\": \"white\", \"linecolor\": \"white\", \"ticks\": \"\"}}, \"scene\": {\"xaxis\": {\"backgroundcolor\": \"#E5ECF6\", \"gridcolor\": \"white\", \"gridwidth\": 2, \"linecolor\": \"white\", \"showbackground\": true, \"ticks\": \"\", \"zerolinecolor\": \"white\"}, \"yaxis\": {\"backgroundcolor\": \"#E5ECF6\", \"gridcolor\": \"white\", \"gridwidth\": 2, \"linecolor\": \"white\", \"showbackground\": true, \"ticks\": \"\", \"zerolinecolor\": \"white\"}, \"zaxis\": {\"backgroundcolor\": \"#E5ECF6\", \"gridcolor\": \"white\", \"gridwidth\": 2, \"linecolor\": \"white\", \"showbackground\": true, \"ticks\": \"\", \"zerolinecolor\": \"white\"}}, \"shapedefaults\": {\"line\": {\"color\": \"#2a3f5f\"}}, \"ternary\": {\"aaxis\": {\"gridcolor\": \"white\", \"linecolor\": \"white\", \"ticks\": \"\"}, \"baxis\": {\"gridcolor\": \"white\", \"linecolor\": \"white\", \"ticks\": \"\"}, \"bgcolor\": \"#E5ECF6\", \"caxis\": {\"gridcolor\": \"white\", \"linecolor\": \"white\", \"ticks\": \"\"}}, \"title\": {\"x\": 0.05}, \"xaxis\": {\"automargin\": true, \"gridcolor\": \"white\", \"linecolor\": \"white\", \"ticks\": \"\", \"zerolinecolor\": \"white\", \"zerolinewidth\": 2}, \"yaxis\": {\"automargin\": true, \"gridcolor\": \"white\", \"linecolor\": \"white\", \"ticks\": \"\", \"zerolinecolor\": \"white\", \"zerolinewidth\": 2}}}, \"title\": {\"text\": \"Share of not issued visas\"}},\n",
       "                        {\"responsive\": true}\n",
       "                    ).then(function(){\n",
       "                            \n",
       "var gd = document.getElementById('b2b87a4c-b453-4e44-90e9-13ce59b22d81');\n",
       "var x = new MutationObserver(function (mutations, observer) {{\n",
       "        var display = window.getComputedStyle(gd).display;\n",
       "        if (!display || display === 'none') {{\n",
       "            console.log([gd, 'removed!']);\n",
       "            Plotly.purge(gd);\n",
       "            observer.disconnect();\n",
       "        }}\n",
       "}});\n",
       "\n",
       "// Listen for the removal of the full notebook cells\n",
       "var notebookContainer = gd.closest('#notebook-container');\n",
       "if (notebookContainer) {{\n",
       "    x.observe(notebookContainer, {childList: true});\n",
       "}}\n",
       "\n",
       "// Listen for the clearing of the current output cell\n",
       "var outputEl = gd.closest('.output');\n",
       "if (outputEl) {{\n",
       "    x.observe(outputEl, {childList: true});\n",
       "}}\n",
       "\n",
       "                        })\n",
       "                };\n",
       "                });\n",
       "            </script>\n",
       "        </div>"
      ]
     },
     "metadata": {},
     "output_type": "display_data"
    }
   ],
   "source": [
    "mappa(severity_sch_df['Code'], severity_sch_df['Share of not issued visas'],\\\n",
    "      severity_sch_df['Schengen State'], 'armyrose', False,\\\n",
    "      'Share of not issued visas', 'Share of not issued visas', 'kavrayskiy7',\\\n",
    "      'Source: <a href=\"https://www.kaggle.com/ma7555/schengen-visa-stats#2018-data-for-consulates.csv\">\\\n",
    "            Kaggle')"
   ]
  },
  {
   "cell_type": "markdown",
   "metadata": {},
   "source": [
    "8. Generousity and severity rate of consulates in Russia"
   ]
  },
  {
   "cell_type": "code",
   "execution_count": 25,
   "metadata": {},
   "outputs": [
    {
     "data": {
      "text/plain": [
       "Consulate\n",
       "MOSCOW            2542131.0\n",
       "ST. PETERSBURG     741242.0\n",
       "KALININGRAD        134530.0\n",
       "YEKATERINBURG       60779.0\n",
       "NOVOSIBIRSK         35175.0\n",
       "PETROZAVODSK        32244.0\n",
       "NOVOROSSIISK        23996.0\n",
       "MURMANSK            22437.0\n",
       "PSKOV               19928.0\n",
       "SOVETSK             11996.0\n",
       "KAZAN                4091.0\n",
       "IRKUTSK              2621.0\n",
       "ROSTOV               1353.0\n",
       "Name: Numeric total issued visas, dtype: float64"
      ]
     },
     "execution_count": 25,
     "metadata": {},
     "output_type": "execute_result"
    }
   ],
   "source": [
    "numeric_data[numeric_data['Country where consulate is located'] == 'RUSSIAN FEDERATION']\\\n",
    "    .groupby(['Consulate'])['Numeric total issued visas'].sum().sort_values(ascending = False)"
   ]
  },
  {
   "cell_type": "code",
   "execution_count": 26,
   "metadata": {},
   "outputs": [
    {
     "data": {
      "text/plain": [
       "Consulate\n",
       "KAZAN             0.997318\n",
       "PSKOV             0.996274\n",
       "IRKUTSK           0.995065\n",
       "PETROZAVODSK      0.994786\n",
       "SOVETSK           0.993787\n",
       "KALININGRAD       0.990602\n",
       "ST. PETERSBURG    0.987346\n",
       "YEKATERINBURG     0.981528\n",
       "NOVOROSSIISK      0.977792\n",
       "MOSCOW            0.974420\n",
       "NOVOSIBIRSK       0.962330\n",
       "ROSTOV            0.930536\n",
       "MURMANSK          0.850965\n",
       "Name: Share of issued visas, dtype: float64"
      ]
     },
     "execution_count": 26,
     "metadata": {},
     "output_type": "execute_result"
    }
   ],
   "source": [
    "numeric_data[numeric_data['Country where consulate is located'] == 'RUSSIAN FEDERATION']\\\n",
    "    .groupby(['Consulate'])['Share of issued visas'].mean().sort_values(ascending = False).head(25)"
   ]
  },
  {
   "cell_type": "code",
   "execution_count": 27,
   "metadata": {},
   "outputs": [
    {
     "data": {
      "text/plain": [
       "Consulate\n",
       "MOSCOW            49189.0\n",
       "ST. PETERSBURG     3464.0\n",
       "NOVOSIBIRSK        1422.0\n",
       "YEKATERINBURG      1171.0\n",
       "KALININGRAD        1130.0\n",
       "NOVOROSSIISK        545.0\n",
       "MURMANSK            172.0\n",
       "PETROZAVODSK        132.0\n",
       "ROSTOV               85.0\n",
       "PSKOV                72.0\n",
       "SOVETSK              26.0\n",
       "IRKUTSK              13.0\n",
       "KAZAN                11.0\n",
       "Name: Numeric not issued visas, dtype: float64"
      ]
     },
     "execution_count": 27,
     "metadata": {},
     "output_type": "execute_result"
    }
   ],
   "source": [
    "numeric_data[numeric_data['Country where consulate is located'] == 'RUSSIAN FEDERATION']\\\n",
    "    .groupby(['Consulate'])['Numeric not issued visas'].sum().sort_values(ascending = False)"
   ]
  },
  {
   "cell_type": "code",
   "execution_count": 28,
   "metadata": {},
   "outputs": [
    {
     "data": {
      "text/plain": [
       "Consulate\n",
       "MURMANSK          0.148769\n",
       "ROSTOV            0.058459\n",
       "NOVOSIBIRSK       0.036163\n",
       "MOSCOW            0.022646\n",
       "NOVOROSSIISK      0.022208\n",
       "YEKATERINBURG     0.017613\n",
       "ST. PETERSBURG    0.011811\n",
       "KALININGRAD       0.008364\n",
       "IRKUTSK           0.004935\n",
       "PETROZAVODSK      0.004072\n",
       "PSKOV             0.003049\n",
       "KAZAN             0.002682\n",
       "SOVETSK           0.002154\n",
       "Name: Share of not issued visas, dtype: float64"
      ]
     },
     "execution_count": 28,
     "metadata": {},
     "output_type": "execute_result"
    }
   ],
   "source": [
    "numeric_data[numeric_data['Country where consulate is located'] == 'RUSSIAN FEDERATION']\\\n",
    "    .groupby(['Consulate'])['Share of not issued visas'].mean().sort_values(ascending = False)"
   ]
  }
 ],
 "metadata": {
  "kernelspec": {
   "display_name": "Python 3",
   "language": "python",
   "name": "python3"
  },
  "language_info": {
   "codemirror_mode": {
    "name": "ipython",
    "version": 3
   },
   "file_extension": ".py",
   "mimetype": "text/x-python",
   "name": "python",
   "nbconvert_exporter": "python",
   "pygments_lexer": "ipython3",
   "version": "3.7.1"
  }
 },
 "nbformat": 4,
 "nbformat_minor": 2
}
